{
 "cells": [
  {
   "cell_type": "code",
   "execution_count": 1,
   "metadata": {},
   "outputs": [],
   "source": [
    "#!/usr/bin/env python\n",
    "%load_ext autoreload\n",
    "%autoreload 2\n",
    "import matplotlib.pyplot as plt\n",
    "import numpy as np, os, sys\n",
    "from tqdm.notebook import tqdm    \n",
    "from manipulations import get_classes, get_classes_from_header, get_Fs_from_header, load_challenge_data\n",
    "from sklearn.model_selection import KFold, StratifiedKFold"
   ]
  },
  {
   "cell_type": "code",
   "execution_count": 2,
   "metadata": {},
   "outputs": [],
   "source": [
    "N_CLASS = 27"
   ]
  },
  {
   "cell_type": "code",
   "execution_count": 3,
   "metadata": {},
   "outputs": [],
   "source": [
    "MAX_RR = 750 # 60 beats/min => 60 beats/60 s ==> beat/1s ==> 500 samples / beat"
   ]
  },
  {
   "cell_type": "code",
   "execution_count": 4,
   "metadata": {},
   "outputs": [],
   "source": [
    "from manipulations import get_abbr, get_name\n",
    "from global_vars import labels, Dx_map, Dx_map_unscored\n",
    "first_idx = {scored_code: None for scored_code in list(Dx_map['SNOMED CT Code'])}\n",
    "first_idx_unscored = {unscored_code: None for unscored_code in list(Dx_map_unscored['SNOMED CT Code'])}"
   ]
  },
  {
   "cell_type": "code",
   "execution_count": 5,
   "metadata": {},
   "outputs": [],
   "source": [
    "from global_vars import labels, normal_class, equivalent_mapping\n",
    "normal_idx = np.argwhere(labels==int(normal_class))\n",
    "def get_scored_class(code, labels):\n",
    "    return [1 if label in code else 0 for label in labels]"
   ]
  },
  {
   "cell_type": "code",
   "execution_count": 20,
   "metadata": {},
   "outputs": [
    {
     "name": "stdout",
     "output_type": "stream",
     "text": [
      "Dataset  1\n"
     ]
    },
    {
     "ename": "KeyboardInterrupt",
     "evalue": "",
     "output_type": "error",
     "traceback": [
      "\u001b[0;31m---------------------------------------------------------------------------\u001b[0m",
      "\u001b[0;31mKeyboardInterrupt\u001b[0m                         Traceback (most recent call last)",
      "\u001b[0;32m<ipython-input-20-ea0bd8cecdb6>\u001b[0m in \u001b[0;36m<module>\u001b[0;34m\u001b[0m\n\u001b[1;32m     33\u001b[0m             \u001b[0mos\u001b[0m\u001b[0;34m.\u001b[0m\u001b[0mmkdir\u001b[0m\u001b[0;34m(\u001b[0m\u001b[0moutput_directory\u001b[0m\u001b[0;34m)\u001b[0m\u001b[0;34m\u001b[0m\u001b[0;34m\u001b[0m\u001b[0m\n\u001b[1;32m     34\u001b[0m \u001b[0;34m\u001b[0m\u001b[0m\n\u001b[0;32m---> 35\u001b[0;31m         \u001b[0mclasses\u001b[0m\u001b[0;34m=\u001b[0m\u001b[0mget_classes\u001b[0m\u001b[0;34m(\u001b[0m\u001b[0minput_directory\u001b[0m\u001b[0;34m,\u001b[0m\u001b[0minput_files\u001b[0m\u001b[0;34m)\u001b[0m\u001b[0;34m\u001b[0m\u001b[0;34m\u001b[0m\u001b[0m\n\u001b[0m\u001b[1;32m     36\u001b[0m \u001b[0;34m\u001b[0m\u001b[0m\n\u001b[1;32m     37\u001b[0m         \u001b[0mnum_files\u001b[0m \u001b[0;34m=\u001b[0m \u001b[0mlen\u001b[0m\u001b[0;34m(\u001b[0m\u001b[0minput_files\u001b[0m\u001b[0;34m)\u001b[0m\u001b[0;34m\u001b[0m\u001b[0;34m\u001b[0m\u001b[0m\n",
      "\u001b[0;32m~/Project/CinC2020/source/manipulations.py\u001b[0m in \u001b[0;36mget_classes\u001b[0;34m(input_directory, files)\u001b[0m\n\u001b[1;32m     44\u001b[0m         \u001b[0minput_file\u001b[0m \u001b[0;34m=\u001b[0m \u001b[0mos\u001b[0m\u001b[0;34m.\u001b[0m\u001b[0mpath\u001b[0m\u001b[0;34m.\u001b[0m\u001b[0mjoin\u001b[0m\u001b[0;34m(\u001b[0m\u001b[0minput_directory\u001b[0m\u001b[0;34m,\u001b[0m\u001b[0mg\u001b[0m\u001b[0;34m)\u001b[0m\u001b[0;34m\u001b[0m\u001b[0;34m\u001b[0m\u001b[0m\n\u001b[1;32m     45\u001b[0m         \u001b[0;32mwith\u001b[0m \u001b[0mopen\u001b[0m\u001b[0;34m(\u001b[0m\u001b[0minput_file\u001b[0m\u001b[0;34m,\u001b[0m\u001b[0;34m'r'\u001b[0m\u001b[0;34m)\u001b[0m \u001b[0;32mas\u001b[0m \u001b[0mf\u001b[0m\u001b[0;34m:\u001b[0m\u001b[0;34m\u001b[0m\u001b[0;34m\u001b[0m\u001b[0m\n\u001b[0;32m---> 46\u001b[0;31m             \u001b[0mclasses\u001b[0m \u001b[0;34m+=\u001b[0m \u001b[0mget_classes_from_header\u001b[0m\u001b[0;34m(\u001b[0m\u001b[0mf\u001b[0m\u001b[0;34m)\u001b[0m\u001b[0;34m\u001b[0m\u001b[0;34m\u001b[0m\u001b[0m\n\u001b[0m\u001b[1;32m     47\u001b[0m \u001b[0;34m\u001b[0m\u001b[0m\n\u001b[1;32m     48\u001b[0m     \u001b[0;32mreturn\u001b[0m \u001b[0msorted\u001b[0m\u001b[0;34m(\u001b[0m\u001b[0mset\u001b[0m\u001b[0;34m(\u001b[0m\u001b[0mclasses\u001b[0m\u001b[0;34m)\u001b[0m\u001b[0;34m)\u001b[0m\u001b[0;34m\u001b[0m\u001b[0;34m\u001b[0m\u001b[0m\n",
      "\u001b[0;32m~/Project/CinC2020/source/manipulations.py\u001b[0m in \u001b[0;36mget_classes_from_header\u001b[0;34m(header_data)\u001b[0m\n\u001b[1;32m     50\u001b[0m \u001b[0;32mdef\u001b[0m \u001b[0mget_classes_from_header\u001b[0m\u001b[0;34m(\u001b[0m\u001b[0mheader_data\u001b[0m\u001b[0;34m)\u001b[0m\u001b[0;34m:\u001b[0m\u001b[0;34m\u001b[0m\u001b[0;34m\u001b[0m\u001b[0m\n\u001b[1;32m     51\u001b[0m     \u001b[0mclasses\u001b[0m \u001b[0;34m=\u001b[0m \u001b[0;34m[\u001b[0m\u001b[0;34m]\u001b[0m\u001b[0;34m\u001b[0m\u001b[0;34m\u001b[0m\u001b[0m\n\u001b[0;32m---> 52\u001b[0;31m     \u001b[0;32mfor\u001b[0m \u001b[0mlines\u001b[0m \u001b[0;32min\u001b[0m \u001b[0mheader_data\u001b[0m\u001b[0;34m:\u001b[0m\u001b[0;34m\u001b[0m\u001b[0;34m\u001b[0m\u001b[0m\n\u001b[0m\u001b[1;32m     53\u001b[0m         \u001b[0;32mif\u001b[0m \u001b[0mlines\u001b[0m\u001b[0;34m.\u001b[0m\u001b[0mstartswith\u001b[0m\u001b[0;34m(\u001b[0m\u001b[0;34m'#Dx'\u001b[0m\u001b[0;34m)\u001b[0m\u001b[0;34m:\u001b[0m\u001b[0;34m\u001b[0m\u001b[0;34m\u001b[0m\u001b[0m\n\u001b[1;32m     54\u001b[0m             \u001b[0mtmp\u001b[0m \u001b[0;34m=\u001b[0m \u001b[0mlines\u001b[0m\u001b[0;34m.\u001b[0m\u001b[0msplit\u001b[0m\u001b[0;34m(\u001b[0m\u001b[0;34m': '\u001b[0m\u001b[0;34m)\u001b[0m\u001b[0;34m[\u001b[0m\u001b[0;36m1\u001b[0m\u001b[0;34m]\u001b[0m\u001b[0;34m.\u001b[0m\u001b[0msplit\u001b[0m\u001b[0;34m(\u001b[0m\u001b[0;34m','\u001b[0m\u001b[0;34m)\u001b[0m\u001b[0;34m\u001b[0m\u001b[0;34m\u001b[0m\u001b[0m\n",
      "\u001b[0;32m~/anaconda3/envs/physioNet/lib/python3.6/codecs.py\u001b[0m in \u001b[0;36mdecode\u001b[0;34m(self, input, final)\u001b[0m\n\u001b[1;32m    316\u001b[0m         \u001b[0;32mraise\u001b[0m \u001b[0mNotImplementedError\u001b[0m\u001b[0;34m\u001b[0m\u001b[0;34m\u001b[0m\u001b[0m\n\u001b[1;32m    317\u001b[0m \u001b[0;34m\u001b[0m\u001b[0m\n\u001b[0;32m--> 318\u001b[0;31m     \u001b[0;32mdef\u001b[0m \u001b[0mdecode\u001b[0m\u001b[0;34m(\u001b[0m\u001b[0mself\u001b[0m\u001b[0;34m,\u001b[0m \u001b[0minput\u001b[0m\u001b[0;34m,\u001b[0m \u001b[0mfinal\u001b[0m\u001b[0;34m=\u001b[0m\u001b[0;32mFalse\u001b[0m\u001b[0;34m)\u001b[0m\u001b[0;34m:\u001b[0m\u001b[0;34m\u001b[0m\u001b[0;34m\u001b[0m\u001b[0m\n\u001b[0m\u001b[1;32m    319\u001b[0m         \u001b[0;31m# decode input (taking the buffer into account)\u001b[0m\u001b[0;34m\u001b[0m\u001b[0;34m\u001b[0m\u001b[0;34m\u001b[0m\u001b[0m\n\u001b[1;32m    320\u001b[0m         \u001b[0mdata\u001b[0m \u001b[0;34m=\u001b[0m \u001b[0mself\u001b[0m\u001b[0;34m.\u001b[0m\u001b[0mbuffer\u001b[0m \u001b[0;34m+\u001b[0m \u001b[0minput\u001b[0m\u001b[0;34m\u001b[0m\u001b[0;34m\u001b[0m\u001b[0m\n",
      "\u001b[0;31mKeyboardInterrupt\u001b[0m: "
     ]
    }
   ],
   "source": [
    "from iterstrat.ml_stratifiers import MultilabelStratifiedKFold\n",
    "\n",
    "if __name__ == '__main__':\n",
    "    \n",
    "    Datas = []\n",
    "    Header_datas = []\n",
    "    Classes = []\n",
    "    Codes = []\n",
    "    \n",
    "    dataset_idx = {}\n",
    "    dataset_data_labels = {}\n",
    "    dataset_train_idx = {}\n",
    "    dataset_test_idx = {}\n",
    "    \n",
    "    global_idx = 0\n",
    "    datasets = [1,2,3,4,5,6]\n",
    "    for dataset in datasets:\n",
    "        print('Dataset ', dataset)\n",
    "        # Parse arguments.\n",
    "        if len(sys.argv) != 3:\n",
    "            raise Exception('Include the input and output directories as arguments, e.g., python driver.py input output.')\n",
    "\n",
    "        input_directory = '../NewData/{}/'.format(dataset)\n",
    "        output_directory = '../Output/'\n",
    "\n",
    "        # Find files.\n",
    "        input_files = []\n",
    "        for f in os.listdir(input_directory):\n",
    "            if os.path.isfile(os.path.join(input_directory, f)) and not f.lower().startswith('.') and f.lower().endswith('mat'):\n",
    "                input_files.append(f)\n",
    "\n",
    "        if not os.path.isdir(output_directory):\n",
    "            os.mkdir(output_directory)\n",
    "\n",
    "        classes=get_classes(input_directory,input_files)\n",
    "\n",
    "        num_files = len(input_files)\n",
    "        datas = []\n",
    "        header_datas = []\n",
    "        dataset_data_labels[dataset] = []\n",
    "        dataset_idx[dataset] = []\n",
    "        for i, f in tqdm(enumerate(input_files)):\n",
    "            #print('    {}/{}...'.format(i+1, num_files), f)\n",
    "            tmp_input_file = os.path.join(input_directory,f)\n",
    "            data,header_data = load_challenge_data(tmp_input_file)\n",
    "            \n",
    "            codes = get_classes_from_header(header_data)\n",
    "            \n",
    "            data_labels = get_scored_class(codes, labels)\n",
    "            \n",
    "            datas.append(data[:,1000:7000])\n",
    "            header_datas.append(header_data)\n",
    "            Codes.append(codes)\n",
    "            dataset_data_labels[dataset].append(data_labels)\n",
    "            dataset_idx[dataset].append(global_idx)\n",
    "            global_idx += 1\n",
    "\n",
    "        Datas += datas\n",
    "        Header_datas += header_datas\n",
    "        Classes += classes\n",
    "        \n",
    "        kf = MultilabelStratifiedKFold(5, random_state=0)\n",
    "        train_idx, test_idx = next(kf.split(datas, np.array(dataset_data_labels[dataset])))\n",
    "\n",
    "\n",
    "        dataset_train_idx[dataset] = train_idx +  dataset_idx[dataset][0]\n",
    "        dataset_test_idx[dataset] = test_idx + dataset_idx[dataset][0]\n",
    "        \n",
    "        \n",
    "        print('Done.')"
   ]
  },
  {
   "cell_type": "code",
   "execution_count": 38,
   "metadata": {},
   "outputs": [
    {
     "name": "stdout",
     "output_type": "stream",
     "text": [
      "\n"
     ]
    }
   ],
   "source": [
    "import pickle\n",
    "Q_locs = None\n",
    "with open('../saved/newData_Q_locs_1000_7000_peakdist100.pkl', 'rb') as Q_locs_file:\n",
    "    Q_locs = pickle.load(Q_locs_file)"
   ]
  },
  {
   "cell_type": "code",
   "execution_count": 40,
   "metadata": {},
   "outputs": [
    {
     "name": "stdout",
     "output_type": "stream",
     "text": [
      "\n"
     ]
    }
   ],
   "source": [
    "import pickle\n",
    "Codes = None\n",
    "with open('../saved/newData_Codes_1000_7000_peakdist100.pkl', 'rb') as Codes_file:\n",
    "    Codes = pickle.load(Codes_file)"
   ]
  },
  {
   "cell_type": "code",
   "execution_count": 36,
   "metadata": {},
   "outputs": [],
   "source": [
    "with open('../saved/all_test_idx_stratified.pkl', 'rb') as all_test_idx_file:\n",
    "    all_test_idx = pickle.load(all_test_idx_file)"
   ]
  },
  {
   "cell_type": "code",
   "execution_count": 41,
   "metadata": {},
   "outputs": [
    {
     "data": {
      "application/vnd.jupyter.widget-view+json": {
       "model_id": "0e9ca015704a4adfa43e739afe07bb7e",
       "version_major": 2,
       "version_minor": 0
      },
      "text/plain": [
       "HBox(children=(FloatProgress(value=0.0, max=8619.0), HTML(value='')))"
      ]
     },
     "metadata": {},
     "output_type": "display_data"
    },
    {
     "name": "stderr",
     "output_type": "stream",
     "text": [
      "/home/yfeng/anaconda3/envs/physioNet/lib/python3.6/site-packages/numpy/core/fromnumeric.py:3335: RuntimeWarning: Mean of empty slice.\n",
      "  out=out, **kwargs)\n",
      "/home/yfeng/anaconda3/envs/physioNet/lib/python3.6/site-packages/numpy/core/_methods.py:161: RuntimeWarning: invalid value encountered in double_scalars\n",
      "  ret = ret.dtype.type(ret / rcount)\n"
     ]
    },
    {
     "name": "stdout",
     "output_type": "stream",
     "text": [
      "\n"
     ]
    }
   ],
   "source": [
    "Idxes_test = []\n",
    "for i in tqdm(all_test_idx):\n",
    "    #print(i)\n",
    "        \n",
    "    Q_loc = Q_locs[i]\n",
    "    RR_avg = np.median([Q_loc[k+1] - Q_loc[k] for k in range(len(Q_loc)-1)])\n",
    "    RR_th = (0.3 * RR_avg, 3 * RR_avg)\n",
    "    \n",
    "    ks = [k for k in range(len(Q_loc)-1) if Q_loc[k+1] - Q_loc[k] > RR_th[0] \n",
    "              and Q_loc[k+1] - Q_loc[k] < RR_th[1]]\n",
    "    \n",
    "    \n",
    "    for k in ks:\n",
    "        Data_labels_test.append(get_scored_class(Codes[i], labels))\n",
    "        Idxes_test.append(i)\n",
    "        "
   ]
  },
  {
   "cell_type": "code",
   "execution_count": 234,
   "metadata": {},
   "outputs": [
    {
     "data": {
      "application/vnd.jupyter.widget-view+json": {
       "model_id": "8c40f803ce7347e8aaab99e380e458ea",
       "version_major": 2,
       "version_minor": 0
      },
      "text/plain": [
       "HBox(children=(FloatProgress(value=0.0, max=34482.0), HTML(value='')))"
      ]
     },
     "metadata": {},
     "output_type": "display_data"
    },
    {
     "name": "stderr",
     "output_type": "stream",
     "text": [
      "/home/yfeng/anaconda3/envs/physioNet/lib/python3.6/site-packages/numpy/core/fromnumeric.py:3335: RuntimeWarning: Mean of empty slice.\n",
      "  out=out, **kwargs)\n",
      "/home/yfeng/anaconda3/envs/physioNet/lib/python3.6/site-packages/numpy/core/_methods.py:161: RuntimeWarning: invalid value encountered in double_scalars\n",
      "  ret = ret.dtype.type(ret / rcount)\n"
     ]
    },
    {
     "name": "stdout",
     "output_type": "stream",
     "text": [
      "\n"
     ]
    }
   ],
   "source": [
    "X_train = []\n",
    "Data_labels_train = []\n",
    "Idxes_train = []\n",
    "Idxes_dict_train = {}\n",
    "ct = 0\n",
    "for i in tqdm(all_train_idx):\n",
    "    Q_loc = Q_locs[i]\n",
    "    RR_avg = np.median([Q_loc[k+1] - Q_loc[k] for k in range(len(Q_loc)-1)])\n",
    "    RR_th = (0.3 * RR_avg, 3 * RR_avg)\n",
    "    \n",
    "    ks = [k for k in range(len(Q_loc)-1) if Q_loc[k+1] - Q_loc[k] > RR_th[0] \n",
    "              and Q_loc[k+1] - Q_loc[k] < RR_th[1]]\n",
    "    \n",
    "    \n",
    "    Idxes_dict_train[i] = []\n",
    "    for k in ks:\n",
    "        Data_labels_train.append(get_scored_class(Codes[i], labels))\n",
    "        X_train.append(Datas[i][:,1000+Q_loc[k]:1000+Q_loc[k+1]])\n",
    "        Idxes_train.append(i)\n",
    "        Idxes_dict_train[i].append(ct)\n",
    "        \n",
    "    ct += 1"
   ]
  },
  {
   "cell_type": "markdown",
   "metadata": {},
   "source": [
    "# On y va"
   ]
  },
  {
   "cell_type": "code",
   "execution_count": 6,
   "metadata": {},
   "outputs": [],
   "source": [
    "Signals_test = np.load('../saved/Signals_test_stratified.npy')"
   ]
  },
  {
   "cell_type": "code",
   "execution_count": 7,
   "metadata": {},
   "outputs": [],
   "source": [
    "import pickle\n",
    "with open('../saved/Data_labels_test_stratified.pkl', 'rb') as Data_labels_test_file:\n",
    "    Data_labels_test = pickle.load(Data_labels_test_file)"
   ]
  },
  {
   "cell_type": "code",
   "execution_count": 8,
   "metadata": {},
   "outputs": [],
   "source": [
    "import torch\n",
    "import torch.nn as nn\n",
    "import torch.nn.functional as F\n",
    "import torch.optim as optim\n",
    "from resnet1d import ECGResNet50\n",
    "\n",
    "def load_trained_model(model_saved_path):\n",
    "    model = ECGResNet50(MAX_RR, N_CLASS)\n",
    "    \n",
    "    # load saved model\n",
    "    model.load_state_dict(torch.load(model_saved_path, map_location=torch.device('cpu')))\n",
    "    model.eval()\n",
    "    return model"
   ]
  },
  {
   "cell_type": "code",
   "execution_count": 67,
   "metadata": {},
   "outputs": [],
   "source": [
    "model_saved_path = '../saved/ECGResNet50/resnet50_ECGResNet50_balanced_sampleweights_eqvclasses_model.dict'\n",
    "model = load_trained_model(model_saved_path)"
   ]
  },
  {
   "cell_type": "code",
   "execution_count": 68,
   "metadata": {},
   "outputs": [],
   "source": [
    "import torch\n",
    "from torch import nn"
   ]
  },
  {
   "cell_type": "code",
   "execution_count": 69,
   "metadata": {},
   "outputs": [],
   "source": [
    "Signal_12leads_test= np.transpose(Signals_test, (1,0,2))"
   ]
  },
  {
   "cell_type": "code",
   "execution_count": 70,
   "metadata": {},
   "outputs": [],
   "source": [
    "from torch.utils.data import Dataset\n",
    "from torchvision import transforms\n",
    "\n",
    "import os\n",
    "class SignalDataset(Dataset):\n",
    "\n",
    "    def __init__(self, signals, labels):\n",
    "        self.signals = signals\n",
    "        self.labels = labels\n",
    "\n",
    "    def __len__(self):\n",
    "        return len(self.signals)\n",
    "\n",
    "    def __getitem__(self, idx):\n",
    "        if torch.is_tensor(idx):\n",
    "            idx = idx.tolist()\n",
    "        sample =(torch.cat([torch.Tensor(np.array([self.signals[channel,idx]]).transpose()) for channel in range(12)], axis=1), \n",
    "                  torch.Tensor(self.labels[idx]))\n",
    "\n",
    "        return sample\n",
    "    \n",
    "signal_datasets_test = SignalDataset(Signal_12leads_test, np.array(Data_labels_test)[:,:N_CLASS])\n"
   ]
  },
  {
   "cell_type": "code",
   "execution_count": 71,
   "metadata": {},
   "outputs": [],
   "source": [
    "assert np.array(Data_labels_test).shape[1] == N_CLASS"
   ]
  },
  {
   "cell_type": "code",
   "execution_count": 72,
   "metadata": {},
   "outputs": [],
   "source": [
    "from evaluation.evaluate_12ECG_score import compute_modified_confusion_matrix, compute_challenge_metric"
   ]
  },
  {
   "cell_type": "code",
   "execution_count": 73,
   "metadata": {},
   "outputs": [],
   "source": [
    "def compute_score(labels, outputs, weights, normal_index=normal_idx):\n",
    "    num_recordings, num_classes = np.shape(labels)\n",
    "    # Compute the observed score.\n",
    "    A = compute_modified_confusion_matrix(labels, outputs)\n",
    "    observed_score = np.nansum(weights * A)\n",
    "\n",
    "    # Compute the score for the model that always chooses the correct label(s).\n",
    "    correct_outputs = labels\n",
    "    A = compute_modified_confusion_matrix(labels, correct_outputs)\n",
    "    correct_score = np.nansum(weights * A)\n",
    "\n",
    "    # Compute the score for the model that always chooses the normal class.\n",
    "    inactive_outputs = np.zeros((num_recordings, num_classes), dtype=np.bool)\n",
    "    inactive_outputs[:, normal_index] = 1\n",
    "    A = compute_modified_confusion_matrix(labels, inactive_outputs)\n",
    "    inactive_score = np.nansum(weights * A)\n",
    "\n",
    "    if correct_score != inactive_score:\n",
    "        normalized_score = float(observed_score - inactive_score) / float(correct_score - inactive_score)\n",
    "    else:\n",
    "        normalized_score = float('nan')\n",
    "\n",
    "    return normalized_score"
   ]
  },
  {
   "cell_type": "code",
   "execution_count": 74,
   "metadata": {
    "scrolled": true
   },
   "outputs": [],
   "source": [
    "from torchvision import datasets, models, transforms\n",
    "from myeval import agg_y_preds_bags, binary_acc, geometry_loss\n",
    "import torch.optim as optim\n",
    "from torch.optim import lr_scheduler\n",
    "from snippets.pytorchtools import EarlyStopping\n",
    "from sklearn.model_selection import GroupKFold\n",
    "import time\n",
    "\n",
    "st = time.time()\n",
    "patience = 50\n",
    "batch_size= 512#65000\n",
    "\n",
    "saved_dir = '../saved/resnet50/'\n",
    "\n",
    "\n",
    "testDataset = torch.utils.data.Subset(signal_datasets_test, range(0,len(Signals_test), 1))\n",
    "\n",
    "testLoader = torch.utils.data.DataLoader(testDataset, batch_size=65000, shuffle = False, pin_memory=True)\n",
    "\n"
   ]
  },
  {
   "cell_type": "code",
   "execution_count": 75,
   "metadata": {},
   "outputs": [
    {
     "data": {
      "text/plain": [
       "(80312, 12, 750)"
      ]
     },
     "execution_count": 75,
     "metadata": {},
     "output_type": "execute_result"
    }
   ],
   "source": [
    "np.array(Signals_test).shape"
   ]
  },
  {
   "cell_type": "code",
   "execution_count": 76,
   "metadata": {},
   "outputs": [],
   "source": [
    "names = [get_name(label, Dx_map, Dx_map_unscored) for label in labels]\n",
    "\n",
    "assert len(labels) == 27"
   ]
  },
  {
   "cell_type": "code",
   "execution_count": 77,
   "metadata": {
    "scrolled": true
   },
   "outputs": [
    {
     "data": {
      "application/vnd.jupyter.widget-view+json": {
       "model_id": "1de43ffbac97401ea913ec50f543ac15",
       "version_major": 2,
       "version_minor": 0
      },
      "text/plain": [
       "HBox(children=(FloatProgress(value=0.0, max=2.0), HTML(value='')))"
      ]
     },
     "metadata": {},
     "output_type": "display_data"
    },
    {
     "name": "stdout",
     "output_type": "stream",
     "text": [
      "\n"
     ]
    }
   ],
   "source": [
    "y_tests_tensor = None\n",
    "\n",
    "output_tests = []\n",
    "y_tests = []\n",
    "with torch.no_grad():\n",
    "\n",
    "    for X_test, y_test in tqdm(testLoader):  \n",
    "        output_test = model(X_test)\n",
    "        output_tests.append(output_test)\n",
    "        y_tests.append(y_test)\n",
    "\n",
    "    y_tests_tensor = torch.cat(y_tests, axis=0) # ground truth\n",
    "\n",
    "    output_tests = torch.cat(output_tests, axis=0)\n",
    "    y_test_preds = torch.sigmoid(output_tests)\n",
    "\n",
    "#     output_trains = torch.cat(output_trains, axis=0)\n",
    "#     y_train_preds_max, y_train_preds_mean, _ = agg_y_preds_bags(y_train_preds, bag_size=n_segments)\n",
    "#     y_test_preds_max, y_test_preds_mean, _ = agg_y_preds_bags(y_test_preds, bag_size=n_segments)\n",
    "#     _, _, y_trains = agg_y_preds_bags(y_trains, bag_size=n_segments)\n",
    "#     _, _, y_tests = agg_y_preds_bags(y_tests, bag_size=n_segments)\n"
   ]
  },
  {
   "cell_type": "code",
   "execution_count": 78,
   "metadata": {},
   "outputs": [
    {
     "name": "stdout",
     "output_type": "stream",
     "text": [
      "End 3.00 min |\n",
      " Valid: Acc: 0.954, F: 0.182, Fbeta: 0.201, gbeta: 0.088, geo: 0.133, score: 0.018\n",
      " \n"
     ]
    }
   ],
   "source": [
    "from global_vars import weights\n",
    "acc2, fmeasure2, fbeta2, gbeta2 = binary_acc(y_test_preds, y_tests_tensor)\n",
    "geometry2 = geometry_loss(fbeta2, gbeta2)\n",
    "\n",
    "score2 = compute_score(np.round(y_test_preds.data.numpy()), np.round(y_tests_tensor.data.numpy()), weights)\n",
    "output_str = 'End {:.2f} min |\\n Valid: Acc: {:.3f}, F: {:.3f}, Fbeta: {:.3f}, gbeta: {:.3f}, geo: {:.3f}, score: {:.3f}\\n '.format(\n",
    "    (time.time()-st)/60, acc2, fmeasure2, fbeta2, gbeta2, geometry2, score2)\n",
    "\n",
    "print(output_str)\n",
    "\n",
    "#     output_string = 'AUROC|AUPRC|Accuracy|F-measure|Fbeta-measure|Gbeta-measure|Geomotry\\n{:.3f}|{:.3f}|{:.3f}|{:.3f}|{:.3f}|{:.3f}|{:.3f}'.format(auroc2,auprc2,acc2,fmeasure2,fbeta2,gbeta2,geometry2)\n",
    "#     print(output_string)     \n",
    "#     with open(saved_dir+'score'+ str(i)+ '_epoch' + str(epoch) + '.txt', 'w') as f:\n",
    "#         f.write(output_string)\n",
    "\n",
    "#     avg_losses_train = np.array(avg_losses_train)\n",
    "#     avg_losses_test = np.array(avg_losses_test)\n",
    "\n",
    "#     np.save(saved_dir + 'avg_losses_train' + str(i) + '_epoch' + str(epoch), avg_losses_train)\n",
    "#     np.save(saved_dir + 'avg_losses_test' + str(i) + '_epoch' + str(epoch), avg_losses_test)\n"
   ]
  },
  {
   "cell_type": "code",
   "execution_count": 79,
   "metadata": {},
   "outputs": [],
   "source": [
    "from sklearn.metrics import multilabel_confusion_matrix, confusion_matrix\n",
    "from global_vars import labels\n",
    "\n",
    "cf_matrices = multilabel_confusion_matrix(y_tests_tensor.data.numpy(), np.round(y_test_preds.data.numpy()))"
   ]
  },
  {
   "cell_type": "code",
   "execution_count": 80,
   "metadata": {},
   "outputs": [
    {
     "name": "stdout",
     "output_type": "stream",
     "text": [
      "1st degree av block\n",
      "[[75477   575]\n",
      " [ 3868   392]]\n",
      "\n",
      "\n",
      "atrial fibrillation\n",
      "[[68874  3244]\n",
      " [ 4983  3211]]\n",
      "\n",
      "\n",
      "atrial flutter\n",
      "[[79533    44]\n",
      " [  701    34]]\n",
      "\n",
      "\n",
      "bradycardia\n",
      "[[79647   161]\n",
      " [  471    33]]\n",
      "\n",
      "\n",
      "complete right bundle branch block\n",
      "[[74689  4410]\n",
      " [  431   782]]\n",
      "\n",
      "\n",
      "incomplete right bundle branch block\n",
      "[[77047   467]\n",
      " [ 2567   231]]\n",
      "\n",
      "\n",
      "left anterior fascicular block\n",
      "[[76196   999]\n",
      " [ 2104  1013]]\n",
      "\n",
      "\n",
      "left axis deviation\n",
      "[[66380  3590]\n",
      " [ 6130  4212]]\n",
      "\n",
      "\n",
      "left bundle branch block\n",
      "[[77712   528]\n",
      " [ 1066  1006]]\n",
      "\n",
      "\n",
      "low qrs voltages\n",
      "[[79104   118]\n",
      " [ 1047    43]]\n",
      "\n",
      "\n",
      "nonspecific intraventricular conduction disorder\n",
      "[[78542   125]\n",
      " [ 1625    20]]\n",
      "\n",
      "\n",
      "pacing rhythm\n",
      "[[79766    78]\n",
      " [  350   118]]\n",
      "\n",
      "\n",
      "premature atrial contraction\n",
      "[[76282   431]\n",
      " [ 3478   121]]\n",
      "\n",
      "\n",
      "premature ventricular contractions\n",
      "[[79727   113]\n",
      " [  469     3]]\n",
      "\n",
      "\n",
      "prolonged pr interval\n",
      "[[79747    14]\n",
      " [  548     3]]\n",
      "\n",
      "\n",
      "prolonged qt interval\n",
      "[[77267   267]\n",
      " [ 2697    81]]\n",
      "\n",
      "\n",
      "qwave abnormal\n",
      "[[78391   113]\n",
      " [ 1791    17]]\n",
      "\n",
      "\n",
      "right axis deviation\n",
      "[[79393    95]\n",
      " [  803    21]]\n",
      "\n",
      "\n",
      "right bundle branch block\n",
      "[[72979  2093]\n",
      " [ 2141  3099]]\n",
      "\n",
      "\n",
      "sinus arrhythmia\n",
      "[[78382     1]\n",
      " [ 1929     0]]\n",
      "\n",
      "\n",
      "sinus bradycardia\n",
      "[[76890   731]\n",
      " [ 1906   785]]\n",
      "\n",
      "\n",
      "sinus rhythm\n",
      "[[37582  8410]\n",
      " [14145 20175]]\n",
      "\n",
      "\n",
      "sinus tachycardia\n",
      "[[72887   917]\n",
      " [ 4413  2095]]\n",
      "\n",
      "\n",
      "supraventricular premature beats\n",
      "[[79360   551]\n",
      " [  400     1]]\n",
      "\n",
      "\n",
      "t wave abnormal\n",
      "[[70836  1181]\n",
      " [ 7635   660]]\n",
      "\n",
      "\n",
      "t wave inversion\n",
      "[[78225   145]\n",
      " [ 1909    33]]\n",
      "\n",
      "\n",
      "ventricular premature beats\n",
      "[[79510   115]\n",
      " [  686     1]]\n",
      "\n",
      "\n"
     ]
    }
   ],
   "source": [
    "for label, cf_matrix in zip(labels, cf_matrices):\n",
    "    print(get_name(label, Dx_map, Dx_map_unscored))\n",
    "    print(cf_matrix)\n",
    "    print('\\n')\n"
   ]
  },
  {
   "cell_type": "code",
   "execution_count": 81,
   "metadata": {},
   "outputs": [],
   "source": [
    "from signal_processing import find_AD"
   ]
  },
  {
   "cell_type": "code",
   "execution_count": 82,
   "metadata": {},
   "outputs": [
    {
     "data": {
      "application/vnd.jupyter.widget-view+json": {
       "model_id": "8a39fefa68ca48058a28156bcd58dd4a",
       "version_major": 2,
       "version_minor": 0
      },
      "text/plain": [
       "HBox(children=(FloatProgress(value=0.0, max=12.0), HTML(value='')))"
      ]
     },
     "metadata": {},
     "output_type": "display_data"
    },
    {
     "name": "stdout",
     "output_type": "stream",
     "text": [
      "\n"
     ]
    }
   ],
   "source": [
    "ads = []\n",
    "for signal, label in tqdm(signal_datasets_test):\n",
    "    #print(signal.numpy().shape)\n",
    "    ad = find_AD(signal.numpy().transpose())\n",
    "    ads.append(ad)"
   ]
  },
  {
   "cell_type": "code",
   "execution_count": 83,
   "metadata": {},
   "outputs": [],
   "source": [
    "test_pred_labels = np.round(y_test_preds.data.numpy())"
   ]
  },
  {
   "cell_type": "code",
   "execution_count": 84,
   "metadata": {},
   "outputs": [
    {
     "data": {
      "text/plain": [
       "(80312, 27)"
      ]
     },
     "execution_count": 84,
     "metadata": {},
     "output_type": "execute_result"
    }
   ],
   "source": [
    "test_pred_labels.shape"
   ]
  },
  {
   "cell_type": "code",
   "execution_count": 85,
   "metadata": {},
   "outputs": [],
   "source": [
    "from global_vars import lad_class, rad_class\n",
    "lad_idx = np.argwhere(labels == int(lad_class)).flatten()\n",
    "rad_idx = np.argwhere(labels == int(rad_class)).flatten()"
   ]
  },
  {
   "cell_type": "code",
   "execution_count": 86,
   "metadata": {},
   "outputs": [],
   "source": [
    "for i, ad in enumerate(ads):\n",
    "    if ad == 'LAD':\n",
    "        test_pred_labels[i, lad_idx] = 1\n",
    "        test_pred_labels[i, rad_idx] = 0\n",
    "    elif ad == 'RAD':\n",
    "        test_pred_labels[i, rad_idx] = 1\n",
    "        test_pred_labels[i, lad_idx] = 0\n",
    "    else:\n",
    "        test_pred_labels[i, rad_idx] = 0\n",
    "        test_pred_labels[i, lad_idx] = 0        "
   ]
  },
  {
   "cell_type": "code",
   "execution_count": 87,
   "metadata": {},
   "outputs": [],
   "source": [
    "cf_matrices2 = multilabel_confusion_matrix(y_tests_tensor.data.numpy(), test_pred_labels)"
   ]
  },
  {
   "cell_type": "code",
   "execution_count": 88,
   "metadata": {},
   "outputs": [
    {
     "name": "stdout",
     "output_type": "stream",
     "text": [
      "1st degree av block\n",
      "[[75477   575]\n",
      " [ 3868   392]]\n",
      "\n",
      "\n",
      "atrial fibrillation\n",
      "[[68874  3244]\n",
      " [ 4983  3211]]\n",
      "\n",
      "\n",
      "atrial flutter\n",
      "[[79533    44]\n",
      " [  701    34]]\n",
      "\n",
      "\n",
      "bradycardia\n",
      "[[79647   161]\n",
      " [  471    33]]\n",
      "\n",
      "\n",
      "complete right bundle branch block\n",
      "[[74689  4410]\n",
      " [  431   782]]\n",
      "\n",
      "\n",
      "incomplete right bundle branch block\n",
      "[[77047   467]\n",
      " [ 2567   231]]\n",
      "\n",
      "\n",
      "left anterior fascicular block\n",
      "[[76196   999]\n",
      " [ 2104  1013]]\n",
      "\n",
      "\n",
      "left axis deviation\n",
      "[[52561 17409]\n",
      " [ 3186  7156]]\n",
      "\n",
      "\n",
      "left bundle branch block\n",
      "[[77712   528]\n",
      " [ 1066  1006]]\n",
      "\n",
      "\n",
      "low qrs voltages\n",
      "[[79104   118]\n",
      " [ 1047    43]]\n",
      "\n",
      "\n",
      "nonspecific intraventricular conduction disorder\n",
      "[[78542   125]\n",
      " [ 1625    20]]\n",
      "\n",
      "\n",
      "pacing rhythm\n",
      "[[79766    78]\n",
      " [  350   118]]\n",
      "\n",
      "\n",
      "premature atrial contraction\n",
      "[[76282   431]\n",
      " [ 3478   121]]\n",
      "\n",
      "\n",
      "premature ventricular contractions\n",
      "[[79727   113]\n",
      " [  469     3]]\n",
      "\n",
      "\n",
      "prolonged pr interval\n",
      "[[79747    14]\n",
      " [  548     3]]\n",
      "\n",
      "\n",
      "prolonged qt interval\n",
      "[[77267   267]\n",
      " [ 2697    81]]\n",
      "\n",
      "\n",
      "qwave abnormal\n",
      "[[78391   113]\n",
      " [ 1791    17]]\n",
      "\n",
      "\n",
      "right axis deviation\n",
      "[[71771  7717]\n",
      " [  417   407]]\n",
      "\n",
      "\n",
      "right bundle branch block\n",
      "[[72979  2093]\n",
      " [ 2141  3099]]\n",
      "\n",
      "\n",
      "sinus arrhythmia\n",
      "[[78382     1]\n",
      " [ 1929     0]]\n",
      "\n",
      "\n",
      "sinus bradycardia\n",
      "[[76890   731]\n",
      " [ 1906   785]]\n",
      "\n",
      "\n",
      "sinus rhythm\n",
      "[[37582  8410]\n",
      " [14145 20175]]\n",
      "\n",
      "\n",
      "sinus tachycardia\n",
      "[[72887   917]\n",
      " [ 4413  2095]]\n",
      "\n",
      "\n",
      "supraventricular premature beats\n",
      "[[79360   551]\n",
      " [  400     1]]\n",
      "\n",
      "\n",
      "t wave abnormal\n",
      "[[70836  1181]\n",
      " [ 7635   660]]\n",
      "\n",
      "\n",
      "t wave inversion\n",
      "[[78225   145]\n",
      " [ 1909    33]]\n",
      "\n",
      "\n",
      "ventricular premature beats\n",
      "[[79510   115]\n",
      " [  686     1]]\n",
      "\n",
      "\n"
     ]
    }
   ],
   "source": [
    "for label, cf_matrix in zip(labels, cf_matrices2):\n",
    "    print(get_name(label, Dx_map, Dx_map_unscored))\n",
    "    print(cf_matrix)\n",
    "    print('\\n')\n"
   ]
  },
  {
   "cell_type": "code",
   "execution_count": 89,
   "metadata": {},
   "outputs": [],
   "source": [
    "score2_ad = compute_score(np.round(y_tests_tensor.data.numpy()), test_pred_labels, weights)\n"
   ]
  },
  {
   "cell_type": "code",
   "execution_count": 90,
   "metadata": {},
   "outputs": [
    {
     "data": {
      "text/plain": [
       "(0.017515691706932977, -0.08829994615910464)"
      ]
     },
     "execution_count": 90,
     "metadata": {},
     "output_type": "execute_result"
    }
   ],
   "source": [
    "score2, score2_ad"
   ]
  },
  {
   "cell_type": "code",
   "execution_count": 91,
   "metadata": {},
   "outputs": [],
   "source": [
    "def aggr_bag_res(test_pred_labels, Idxes_test):\n",
    "    assert len(test_pred_labels) == len(Idxes_test)\n",
    "    uniq = np.unique(Idxes_test, return_counts=True)[1]\n",
    "    cumsum = np.cumsum(uniq)[:-1]\n",
    "    res = np.split(test_pred_labels, cumsum)\n",
    "    agg_res = []\n",
    "    for group in res:\n",
    "        agg_res.append((np.sum(group, axis=0)>1).astype(int))\n",
    "    return np.array(agg_res)\n",
    "    \n",
    "agg_res1 = aggr_bag_res(np.round(y_test_preds.data.numpy()), Idxes_test)\n",
    "\n",
    "agg_res2 = aggr_bag_res(test_pred_labels, Idxes_test)\n",
    "\n",
    "agg_res_truth = aggr_bag_res(np.round(y_tests_tensor.data.numpy()), Idxes_test)\n"
   ]
  },
  {
   "cell_type": "code",
   "execution_count": 92,
   "metadata": {},
   "outputs": [],
   "source": [
    "cf_matrices3 = multilabel_confusion_matrix(agg_res_truth, agg_res1)"
   ]
  },
  {
   "cell_type": "code",
   "execution_count": 93,
   "metadata": {},
   "outputs": [
    {
     "name": "stdout",
     "output_type": "stream",
     "text": [
      "1st degree av block\n",
      "[[8045   95]\n",
      " [ 388   90]]\n",
      "\n",
      "\n",
      "atrial fibrillation\n",
      "[[7316  607]\n",
      " [ 185  510]]\n",
      "\n",
      "\n",
      "atrial flutter\n",
      "[[8548    6]\n",
      " [  59    5]]\n",
      "\n",
      "\n",
      "bradycardia\n",
      "[[8536   25]\n",
      " [  48    9]]\n",
      "\n",
      "\n",
      "complete right bundle branch block\n",
      "[[7833  648]\n",
      " [   9  128]]\n",
      "\n",
      "\n",
      "incomplete right bundle branch block\n",
      "[[8219   76]\n",
      " [ 270   53]]\n",
      "\n",
      "\n",
      "left anterior fascicular block\n",
      "[[8034  223]\n",
      " [ 136  225]]\n",
      "\n",
      "\n",
      "left axis deviation\n",
      "[[6659  742]\n",
      " [ 354  863]]\n",
      "\n",
      "\n",
      "left bundle branch block\n",
      "[[8299  111]\n",
      " [  46  162]]\n",
      "\n",
      "\n",
      "low qrs voltages\n",
      "[[8490   16]\n",
      " [ 101   11]]\n",
      "\n",
      "\n",
      "nonspecific intraventricular conduction disorder\n",
      "[[8400   20]\n",
      " [ 194    4]]\n",
      "\n",
      "\n",
      "pacing rhythm\n",
      "[[8545   13]\n",
      " [  34   26]]\n",
      "\n",
      "\n",
      "premature atrial contraction\n",
      "[[8204   68]\n",
      " [ 327   19]]\n",
      "\n",
      "\n",
      "premature ventricular contractions\n",
      "[[8567   14]\n",
      " [  36    1]]\n",
      "\n",
      "\n",
      "prolonged pr interval\n",
      "[[8549    1]\n",
      " [  67    1]]\n",
      "\n",
      "\n",
      "prolonged qt interval\n",
      "[[8280   36]\n",
      " [ 282   20]]\n",
      "\n",
      "\n",
      "qwave abnormal\n",
      "[[8396   19]\n",
      " [ 200    3]]\n",
      "\n",
      "\n",
      "right axis deviation\n",
      "[[8521   11]\n",
      " [  85    1]]\n",
      "\n",
      "\n",
      "right bundle branch block\n",
      "[[7762  375]\n",
      " [  80  401]]\n",
      "\n",
      "\n",
      "sinus arrhythmia\n",
      "[[8370    0]\n",
      " [ 248    0]]\n",
      "\n",
      "\n",
      "sinus bradycardia\n",
      "[[7963  184]\n",
      " [ 240  231]]\n",
      "\n",
      "\n",
      "sinus rhythm\n",
      "[[2730 1720]\n",
      " [ 532 3636]]\n",
      "\n",
      "\n",
      "sinus tachycardia\n",
      "[[8004  135]\n",
      " [ 168  311]]\n",
      "\n",
      "\n",
      "supraventricular premature beats\n",
      "[[8489   87]\n",
      " [  42    0]]\n",
      "\n",
      "\n",
      "t wave abnormal\n",
      "[[7450  233]\n",
      " [ 785  150]]\n",
      "\n",
      "\n",
      "t wave inversion\n",
      "[[8375   21]\n",
      " [ 217    5]]\n",
      "\n",
      "\n",
      "ventricular premature beats\n",
      "[[8530   15]\n",
      " [  73    0]]\n",
      "\n",
      "\n"
     ]
    }
   ],
   "source": [
    "for label, cf_matrix in zip(labels, cf_matrices3):\n",
    "    print(get_name(label, Dx_map, Dx_map_unscored))\n",
    "    print(cf_matrix)\n",
    "    print('\\n')"
   ]
  },
  {
   "cell_type": "code",
   "execution_count": 94,
   "metadata": {},
   "outputs": [],
   "source": [
    "score2_agg1 = compute_score(agg_res_truth, agg_res1, weights)\n",
    "score2_agg2 = compute_score(agg_res_truth, agg_res2, weights)"
   ]
  },
  {
   "cell_type": "code",
   "execution_count": 95,
   "metadata": {},
   "outputs": [
    {
     "data": {
      "text/plain": [
       "(0.2396217288948991, 0.24402268826002974)"
      ]
     },
     "execution_count": 95,
     "metadata": {},
     "output_type": "execute_result"
    }
   ],
   "source": [
    "score2_agg1, score2_agg2"
   ]
  },
  {
   "cell_type": "code",
   "execution_count": null,
   "metadata": {},
   "outputs": [],
   "source": []
  }
 ],
 "metadata": {
  "kernelspec": {
   "display_name": "Python 3.6 (physioNet)",
   "language": "python",
   "name": "physionet"
  },
  "language_info": {
   "codemirror_mode": {
    "name": "ipython",
    "version": 3
   },
   "file_extension": ".py",
   "mimetype": "text/x-python",
   "name": "python",
   "nbconvert_exporter": "python",
   "pygments_lexer": "ipython3",
   "version": "3.6.10"
  }
 },
 "nbformat": 4,
 "nbformat_minor": 4
}
