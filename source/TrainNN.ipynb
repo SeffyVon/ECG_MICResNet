{
 "cells": [
  {
   "cell_type": "code",
   "execution_count": 1,
   "metadata": {},
   "outputs": [],
   "source": [
    "%load_ext autoreload\n",
    "%autoreload 2"
   ]
  },
  {
   "cell_type": "code",
   "execution_count": 2,
   "metadata": {},
   "outputs": [],
   "source": [
    "import numpy as np\n",
    "import pandas as pd\n",
    "import matplotlib.pyplot as plt"
   ]
  },
  {
   "cell_type": "code",
   "execution_count": 3,
   "metadata": {},
   "outputs": [],
   "source": [
    "df_infos = pd.read_csv('../saved/infos.csv')\n",
    "fDataReNorms = np.load('../saved/fDataReNorms.npy')"
   ]
  },
  {
   "cell_type": "code",
   "execution_count": 4,
   "metadata": {
    "scrolled": true
   },
   "outputs": [],
   "source": [
    "#df_infos"
   ]
  },
  {
   "cell_type": "code",
   "execution_count": 5,
   "metadata": {},
   "outputs": [],
   "source": [
    "# from sklearn.preprocessing import normalize\n",
    "# #fDataReNorms=[fDataRe-np.tile(fDataRe[:,0],(250,1)).transpose() for fDataRe in fDataRes]\n",
    "# fDataReNorms=np.array([normalize(fDataRe) for fDataRe in fDataRes])\n",
    "# np.save('../saved/fDataReNorms.npy', fDataReNorms)\n",
    "# [plt.plot(fDataReNorm[6]) for fDataReNorm in fDataReNorms]"
   ]
  },
  {
   "cell_type": "code",
   "execution_count": 6,
   "metadata": {},
   "outputs": [],
   "source": [
    "# fDataReNormAFs = fDataReNorms[df_infos['AF']]\n",
    "\n",
    "# for fDataReNormAF in fDataReNormAFs[:10]:\n",
    "#     plt.plot(fDataReNormAF[0])\n",
    "#     plt.show()"
   ]
  },
  {
   "cell_type": "code",
   "execution_count": 7,
   "metadata": {},
   "outputs": [
    {
     "name": "stdout",
     "output_type": "stream",
     "text": [
      "Counter({1: 100528})\n"
     ]
    }
   ],
   "source": [
    "from collections import Counter\n",
    "from xgb.global_vars import headers, labels\n",
    "print(Counter(np.sum(df_infos[labels], axis=1)))"
   ]
  },
  {
   "cell_type": "code",
   "execution_count": 8,
   "metadata": {},
   "outputs": [],
   "source": [
    "import torch\n",
    "import torch.nn as nn\n",
    "import torch.nn.functional as F\n",
    "import torch.optim as optim\n",
    "\n",
    "if torch.cuda.is_available():\n",
    "    device = torch.device('cuda')\n",
    "else:\n",
    "    device = torch.device('cpu')"
   ]
  },
  {
   "cell_type": "code",
   "execution_count": 9,
   "metadata": {},
   "outputs": [],
   "source": [
    "y = torch.FloatTensor(df_infos[labels].to_numpy()).to(device)"
   ]
  },
  {
   "cell_type": "code",
   "execution_count": 10,
   "metadata": {},
   "outputs": [],
   "source": [
    "X = torch.FloatTensor(fDataReNorms).to(device)"
   ]
  },
  {
   "cell_type": "code",
   "execution_count": 11,
   "metadata": {},
   "outputs": [
    {
     "data": {
      "text/plain": [
       "tensor([[ 0.1460, -0.0918, -0.0784,  ..., -0.1310,  0.1038,  0.2622],\n",
       "        [ 0.1455, -0.0913, -0.0802,  ..., -0.1349,  0.0945,  0.2687],\n",
       "        [ 0.1466, -0.0911, -0.0770,  ..., -0.1378,  0.1002,  0.2589],\n",
       "        ...,\n",
       "        [ 0.1508, -0.0918, -0.0766,  ..., -0.1359,  0.1022,  0.2576],\n",
       "        [ 0.1479, -0.0942, -0.0788,  ..., -0.1290,  0.1080,  0.2608],\n",
       "        [ 0.1478, -0.0902, -0.0768,  ..., -0.1330,  0.0995,  0.2624]],\n",
       "       grad_fn=<AddmmBackward>)"
      ]
     },
     "execution_count": 11,
     "metadata": {},
     "output_type": "execute_result"
    }
   ],
   "source": [
    "\n",
    "class SimpleNet(nn.Module):\n",
    "    def __init__(self, n_input, n_h1, n_h2, n_h3, verbose=False):\n",
    "        super(SimpleNet, self).__init__()\n",
    "        self.fc1        = nn.Linear(n_input, n_h1)\n",
    "        self.fc2        = nn.Linear(n_h1, n_h2)\n",
    "        self.fc3        = nn.Linear(120, n_h3)\n",
    "        self.fc4        = nn.Linear(n_h3, 9)\n",
    "        self.dropout = nn.Dropout(p=0.5)\n",
    "        self.verbose=verbose\n",
    "\n",
    "    def forward(self, x):\n",
    "        if self.verbose:\n",
    "            print('0: ', x.shape)\n",
    "        x = self.fc1( x )     \n",
    "        x = self.dropout(x)\n",
    "        if self.verbose:\n",
    "            print('1: ', x.shape)\n",
    "        x = F.relu(   x )     \n",
    "        x = self.fc2( x )    \n",
    "        if self.verbose:\n",
    "            print('2: ', x.shape)\n",
    "        x = F.relu(   x )      \n",
    "        if self.verbose:\n",
    "            print('3: ', x.shape)\n",
    "        x = x.view(x.shape[0], -1)\n",
    "        x = self.fc3( x )  \n",
    "        if self.verbose:\n",
    "            print('4: ', x.shape)\n",
    "        x = F.relu(   x )   \n",
    "        x = self.fc4(x)\n",
    "        if self.verbose:\n",
    "            print('5: ', x.shape)\n",
    "        return x\n",
    "\n",
    "model = SimpleNet(250, 250, 10, 10)\n",
    "model.forward(X.cpu())"
   ]
  },
  {
   "cell_type": "code",
   "execution_count": null,
   "metadata": {
    "scrolled": true
   },
   "outputs": [
    {
     "name": "stdout",
     "output_type": "stream",
     "text": [
      "S0/0 0.00 min|\n",
      "Train Loss: 0.642301, Acc: 0.82, 0.91, 0.03, 0.86, 0.90, 0.93, 0.77, 0.88, 0.97,|\n",
      "Valid Loss: 0.641723, Acc: 0.82, 0.91, 0.04, 0.85, 0.89, 0.93, 0.78, 0.89, 0.98,|\n",
      " \n",
      "S0/50 0.19 min|\n",
      "Train Loss: 0.351661, Acc: 0.82, 0.91, 0.97, 0.86, 0.90, 0.93, 0.89, 0.88, 0.97,|\n",
      "Valid Loss: 0.350580, Acc: 0.82, 0.91, 0.96, 0.85, 0.89, 0.93, 0.90, 0.89, 0.98,|\n",
      " \n",
      "S0/100 0.39 min|\n",
      "Train Loss: 0.307363, Acc: 0.84, 0.91, 0.97, 0.88, 0.90, 0.93, 0.89, 0.90, 0.97,|\n",
      "Valid Loss: 0.305221, Acc: 0.86, 0.91, 0.96, 0.85, 0.89, 0.93, 0.90, 0.90, 0.98,|\n",
      " \n",
      "S0/150 0.58 min|\n",
      "Train Loss: 0.284473, Acc: 0.86, 0.91, 0.97, 0.89, 0.90, 0.93, 0.91, 0.91, 0.97,|\n",
      "Valid Loss: 0.282902, Acc: 0.86, 0.91, 0.96, 0.85, 0.89, 0.93, 0.91, 0.91, 0.98,|\n",
      " \n",
      "S0/200 0.77 min|\n",
      "Train Loss: 0.269990, Acc: 0.88, 0.91, 0.97, 0.89, 0.90, 0.93, 0.92, 0.92, 0.97,|\n",
      "Valid Loss: 0.269347, Acc: 0.88, 0.91, 0.96, 0.85, 0.89, 0.93, 0.92, 0.91, 0.98,|\n",
      " \n",
      "S0/250 0.96 min|\n",
      "Train Loss: 0.259606, Acc: 0.89, 0.91, 0.97, 0.89, 0.90, 0.93, 0.92, 0.93, 0.97,|\n",
      "Valid Loss: 0.259902, Acc: 0.89, 0.91, 0.96, 0.86, 0.89, 0.93, 0.93, 0.91, 0.98,|\n",
      " \n",
      "S0/300 1.15 min|\n",
      "Train Loss: 0.251656, Acc: 0.90, 0.91, 0.97, 0.90, 0.90, 0.93, 0.93, 0.93, 0.97,|\n",
      "Valid Loss: 0.252889, Acc: 0.90, 0.91, 0.96, 0.86, 0.89, 0.93, 0.93, 0.91, 0.98,|\n",
      " \n",
      "S0/350 1.35 min|\n",
      "Train Loss: 0.245303, Acc: 0.91, 0.91, 0.97, 0.90, 0.90, 0.93, 0.93, 0.93, 0.97,|\n",
      "Valid Loss: 0.247508, Acc: 0.90, 0.91, 0.96, 0.87, 0.89, 0.93, 0.94, 0.91, 0.98,|\n",
      " \n",
      "S0/400 1.54 min|\n",
      "Train Loss: 0.240029, Acc: 0.91, 0.91, 0.97, 0.90, 0.90, 0.93, 0.93, 0.93, 0.97,|\n",
      "Valid Loss: 0.243176, Acc: 0.91, 0.91, 0.96, 0.87, 0.89, 0.93, 0.94, 0.91, 0.98,|\n",
      " \n",
      "S0/450 1.73 min|\n",
      "Train Loss: 0.235526, Acc: 0.92, 0.91, 0.97, 0.90, 0.90, 0.93, 0.94, 0.94, 0.97,|\n",
      "Valid Loss: 0.239619, Acc: 0.91, 0.91, 0.96, 0.87, 0.89, 0.93, 0.94, 0.91, 0.98,|\n",
      " \n",
      "S0/500 1.92 min|\n",
      "Train Loss: 0.231594, Acc: 0.92, 0.91, 0.97, 0.91, 0.90, 0.93, 0.94, 0.94, 0.97,|\n",
      "Valid Loss: 0.236653, Acc: 0.91, 0.91, 0.96, 0.87, 0.89, 0.93, 0.94, 0.91, 0.98,|\n",
      " \n",
      "S0/550 2.11 min|\n",
      "Train Loss: 0.228082, Acc: 0.92, 0.91, 0.97, 0.91, 0.90, 0.93, 0.94, 0.94, 0.97,|\n",
      "Valid Loss: 0.234135, Acc: 0.91, 0.91, 0.96, 0.87, 0.89, 0.93, 0.94, 0.91, 0.98,|\n",
      " \n",
      "S0/600 2.31 min|\n",
      "Train Loss: 0.224906, Acc: 0.92, 0.91, 0.97, 0.91, 0.90, 0.93, 0.94, 0.94, 0.97,|\n",
      "Valid Loss: 0.231989, Acc: 0.91, 0.91, 0.96, 0.87, 0.89, 0.93, 0.94, 0.91, 0.98,|\n",
      " \n",
      "S0/650 2.50 min|\n",
      "Train Loss: 0.222021, Acc: 0.93, 0.92, 0.97, 0.91, 0.90, 0.93, 0.94, 0.94, 0.97,|\n",
      "Valid Loss: 0.230152, Acc: 0.91, 0.92, 0.96, 0.87, 0.89, 0.93, 0.94, 0.91, 0.98,|\n",
      " \n",
      "S0/700 2.69 min|\n",
      "Train Loss: 0.219364, Acc: 0.93, 0.92, 0.97, 0.91, 0.90, 0.93, 0.95, 0.94, 0.97,|\n",
      "Valid Loss: 0.228547, Acc: 0.91, 0.92, 0.96, 0.86, 0.89, 0.93, 0.94, 0.91, 0.98,|\n",
      " \n",
      "S0/750 2.88 min|\n",
      "Train Loss: 0.216926, Acc: 0.93, 0.93, 0.97, 0.91, 0.90, 0.93, 0.95, 0.94, 0.97,|\n",
      "Valid Loss: 0.227138, Acc: 0.91, 0.93, 0.96, 0.87, 0.89, 0.93, 0.94, 0.91, 0.98,|\n",
      " \n",
      "S0/800 3.07 min|\n",
      "Train Loss: 0.214672, Acc: 0.93, 0.93, 0.97, 0.91, 0.90, 0.93, 0.94, 0.94, 0.97,|\n",
      "Valid Loss: 0.225871, Acc: 0.91, 0.93, 0.96, 0.86, 0.89, 0.93, 0.94, 0.91, 0.98,|\n",
      " \n",
      "S0/850 3.26 min|\n",
      "Train Loss: 0.212578, Acc: 0.93, 0.94, 0.97, 0.91, 0.90, 0.93, 0.95, 0.94, 0.97,|\n",
      "Valid Loss: 0.224715, Acc: 0.91, 0.93, 0.97, 0.87, 0.89, 0.93, 0.94, 0.91, 0.98,|\n",
      " \n",
      "S0/900 3.46 min|\n",
      "Train Loss: 0.210626, Acc: 0.93, 0.94, 0.98, 0.91, 0.90, 0.93, 0.95, 0.94, 0.97,|\n",
      "Valid Loss: 0.223671, Acc: 0.91, 0.94, 0.97, 0.86, 0.89, 0.93, 0.94, 0.91, 0.98,|\n",
      " \n",
      "S0/950 3.65 min|\n",
      "Train Loss: 0.208803, Acc: 0.93, 0.94, 0.98, 0.91, 0.90, 0.93, 0.95, 0.94, 0.97,|\n",
      "Valid Loss: 0.222717, Acc: 0.91, 0.94, 0.97, 0.86, 0.89, 0.93, 0.94, 0.91, 0.98,|\n",
      " \n",
      "S0/1000 3.84 min|\n",
      "Train Loss: 0.207092, Acc: 0.93, 0.94, 0.98, 0.91, 0.90, 0.93, 0.95, 0.94, 0.97,|\n",
      "Valid Loss: 0.221841, Acc: 0.91, 0.94, 0.97, 0.87, 0.89, 0.93, 0.94, 0.91, 0.98,|\n",
      " \n",
      "S0/1050 4.03 min|\n",
      "Train Loss: 0.205487, Acc: 0.93, 0.94, 0.98, 0.91, 0.90, 0.93, 0.95, 0.94, 0.97,|\n",
      "Valid Loss: 0.221046, Acc: 0.91, 0.94, 0.98, 0.87, 0.89, 0.93, 0.94, 0.91, 0.98,|\n",
      " \n",
      "S0/1100 4.22 min|\n",
      "Train Loss: 0.203986, Acc: 0.93, 0.95, 0.98, 0.91, 0.90, 0.93, 0.95, 0.94, 0.97,|\n",
      "Valid Loss: 0.220324, Acc: 0.91, 0.94, 0.98, 0.87, 0.89, 0.93, 0.94, 0.91, 0.98,|\n",
      " \n",
      "S0/1150 4.41 min|\n",
      "Train Loss: 0.202571, Acc: 0.93, 0.95, 0.98, 0.91, 0.90, 0.93, 0.95, 0.94, 0.97,|\n",
      "Valid Loss: 0.219660, Acc: 0.91, 0.94, 0.98, 0.86, 0.89, 0.93, 0.94, 0.91, 0.98,|\n",
      " \n",
      "S0/1200 4.60 min|\n",
      "Train Loss: 0.201240, Acc: 0.93, 0.95, 0.98, 0.91, 0.90, 0.93, 0.95, 0.94, 0.97,|\n",
      "Valid Loss: 0.219064, Acc: 0.91, 0.94, 0.98, 0.86, 0.89, 0.93, 0.95, 0.91, 0.98,|\n",
      " \n",
      "S0/1250 4.80 min|\n",
      "Train Loss: 0.199983, Acc: 0.93, 0.95, 0.98, 0.92, 0.90, 0.93, 0.95, 0.94, 0.97,|\n",
      "Valid Loss: 0.218517, Acc: 0.91, 0.94, 0.98, 0.86, 0.89, 0.93, 0.94, 0.91, 0.98,|\n",
      " \n"
     ]
    }
   ],
   "source": [
    "#%%\n",
    "from sklearn.metrics import accuracy_score\n",
    "from evaluate_12ECG_score import compute_beta_score, compute_auc\n",
    "\n",
    "def evaluate_beta(output, y):\n",
    "    \n",
    "    accuracy,f_measure,f_beta,g_beta = compute_beta_score(labels=y, \n",
    "                       output=output, \n",
    "                       beta=2, num_classes=1)\n",
    "    \n",
    "    auroc, auprc = compute_auc(labels=y, \n",
    "                                probabilities=output,\n",
    "                                num_classes=1)\n",
    "\n",
    "    return accuracy,f_measure,f_beta,g_beta, auroc, auprc\n",
    "\n",
    "\n",
    "def binary_acc(y_preds, y_tests):\n",
    "    accs = []\n",
    "    for i in range(9):\n",
    "        y_pred, y_test = y_preds[:,i], y_tests[:,i]\n",
    "        \n",
    "        y_pred_tag = torch.round(torch.sigmoid(y_pred))\n",
    "\n",
    "        correct_results_sum = (y_pred_tag == y_test).sum().float()\n",
    "        acc = correct_results_sum/y_test.shape[0]\n",
    "        #acc = torch.round(acc * 100)\n",
    "        #print(acc)\n",
    "        accs.append(acc.data.cpu().numpy())\n",
    "    return accs\n",
    "\n",
    "from snippets.pytorchtools import EarlyStopping\n",
    "from sklearn.model_selection import KFold\n",
    "import time\n",
    "\n",
    "st = time.time()\n",
    "patience = 200\n",
    "kf = KFold(10)\n",
    "\n",
    "saved_dir = '../saved/model/'\n",
    "for i, (train_idx, test_idx) in enumerate(kf.split(X, y)):\n",
    "    model = SimpleNet(250, 250, 10, 10).to(device)\n",
    "    learning_rate = 0.01\n",
    "    optimizer = optim.Adam(model.parameters(), lr=learning_rate)\n",
    "\n",
    "    criterion = nn.BCEWithLogitsLoss()\n",
    "\n",
    "    losses_train = []\n",
    "    losses_test = []\n",
    "\n",
    "    avg_losses_train = []\n",
    "    avg_losses_test = []\n",
    "\n",
    "\n",
    "    early_stopping = EarlyStopping(patience, verbose=False, \n",
    "                                saved_dir=saved_dir, save_name=str(i))\n",
    "\n",
    "    for epoch in range(2000):\n",
    "        train_loss = 0\n",
    "        validation_loss = 0\n",
    "\n",
    "        optimizer.zero_grad()\n",
    "        output_train = model(X[train_idx])\n",
    "        output_test = model(X[test_idx])\n",
    "\n",
    "        loss_train = criterion(output_train, y[train_idx])\n",
    "        loss_test = criterion(output_test, y[test_idx])\n",
    "\n",
    "        loss_train.backward()\n",
    "        optimizer.step()\n",
    "\n",
    "        losses_train.append(loss_train.item())\n",
    "        losses_test.append(loss_test.item())\n",
    "\n",
    "        avg_loss_train = np.average(losses_train)\n",
    "        avg_loss_test = np.average(losses_test)\n",
    "\n",
    "        avg_losses_train.append(avg_loss_train)\n",
    "        avg_losses_test.append(avg_loss_test)\n",
    "\n",
    "        if epoch % 50 == 0:\n",
    "            accuracy = binary_acc(output_train, y[train_idx])\n",
    "            accuracy2 = binary_acc(output_test, y[test_idx])\n",
    "            accuracy_p = ' '.join(['{:.2f},'.format(acc)for acc in accuracy])\n",
    "            accuracy2_p = ' '.join(['{:.2f},'.format(acc)for acc in accuracy2])\n",
    "            print('S{}/{} {:.2f} min|\\nTrain Loss: {:.6f}, Acc: {}|\\nValid Loss: {:.6f}, Acc: {}|\\n '.format(\n",
    "                i, epoch, (time.time()-st)/60,\n",
    "                avg_loss_train, accuracy_p, avg_loss_test, accuracy2_p))\n",
    "\n",
    "        early_stopping(avg_loss_test, model)\n",
    "\n",
    "        if early_stopping.early_stop:\n",
    "            print(\"Early stopping\")\n",
    "            break\n"
   ]
  },
  {
   "cell_type": "code",
   "execution_count": null,
   "metadata": {},
   "outputs": [],
   "source": []
  },
  {
   "cell_type": "code",
   "execution_count": null,
   "metadata": {},
   "outputs": [],
   "source": []
  }
 ],
 "metadata": {
  "kernelspec": {
   "display_name": "Python 3.6 (physioNet)",
   "language": "python",
   "name": "physionet"
  },
  "language_info": {
   "codemirror_mode": {
    "name": "ipython",
    "version": 3
   },
   "file_extension": ".py",
   "mimetype": "text/x-python",
   "name": "python",
   "nbconvert_exporter": "python",
   "pygments_lexer": "ipython3",
   "version": "3.6.10"
  }
 },
 "nbformat": 4,
 "nbformat_minor": 4
}
