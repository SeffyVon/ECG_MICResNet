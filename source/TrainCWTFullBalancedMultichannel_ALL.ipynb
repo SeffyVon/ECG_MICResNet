{
 "cells": [
  {
   "cell_type": "code",
   "execution_count": 1,
   "metadata": {},
   "outputs": [],
   "source": [
    "%load_ext autoreload\n",
    "%autoreload 2"
   ]
  },
  {
   "cell_type": "code",
   "execution_count": 2,
   "metadata": {},
   "outputs": [],
   "source": [
    "import numpy as np\n",
    "import pandas as pd\n",
    "import matplotlib.pyplot as plt\n",
    "from tqdm.notebook import tqdm\n",
    "import torch, torchvision \n",
    "from PIL import Image"
   ]
  },
  {
   "cell_type": "code",
   "execution_count": 3,
   "metadata": {},
   "outputs": [
    {
     "name": "stdout",
     "output_type": "stream",
     "text": [
      "Dataset  1\n"
     ]
    },
    {
     "data": {
      "application/vnd.jupyter.widget-view+json": {
       "model_id": "f872dd8515fe464e82b465e11647dcc4",
       "version_major": 2,
       "version_minor": 0
      },
      "text/plain": [
       "HBox(children=(FloatProgress(value=1.0, bar_style='info', max=1.0), HTML(value='')))"
      ]
     },
     "metadata": {},
     "output_type": "display_data"
    },
    {
     "name": "stdout",
     "output_type": "stream",
     "text": [
      "\n"
     ]
    },
    {
     "name": "stderr",
     "output_type": "stream",
     "text": [
      "/home/yfeng/anaconda3/envs/physioNet/lib/python3.6/site-packages/sklearn/model_selection/_split.py:296: FutureWarning: Setting a random_state has no effect since shuffle is False. This will raise an error in 0.24. You should leave random_state to its default (None), or set shuffle=True.\n",
      "  FutureWarning\n"
     ]
    },
    {
     "name": "stdout",
     "output_type": "stream",
     "text": [
      "Done.\n",
      "Dataset  2\n"
     ]
    },
    {
     "data": {
      "application/vnd.jupyter.widget-view+json": {
       "model_id": "c1bd333e8b7645b9923fbb0a30642e00",
       "version_major": 2,
       "version_minor": 0
      },
      "text/plain": [
       "HBox(children=(FloatProgress(value=1.0, bar_style='info', max=1.0), HTML(value='')))"
      ]
     },
     "metadata": {},
     "output_type": "display_data"
    },
    {
     "name": "stdout",
     "output_type": "stream",
     "text": [
      "\n",
      "Done.\n",
      "Dataset  3\n"
     ]
    },
    {
     "name": "stderr",
     "output_type": "stream",
     "text": [
      "/home/yfeng/anaconda3/envs/physioNet/lib/python3.6/site-packages/sklearn/model_selection/_split.py:296: FutureWarning: Setting a random_state has no effect since shuffle is False. This will raise an error in 0.24. You should leave random_state to its default (None), or set shuffle=True.\n",
      "  FutureWarning\n"
     ]
    },
    {
     "data": {
      "application/vnd.jupyter.widget-view+json": {
       "model_id": "585a8f9e3ee64831a8007b32fd6b42bd",
       "version_major": 2,
       "version_minor": 0
      },
      "text/plain": [
       "HBox(children=(FloatProgress(value=1.0, bar_style='info', max=1.0), HTML(value='')))"
      ]
     },
     "metadata": {},
     "output_type": "display_data"
    },
    {
     "name": "stdout",
     "output_type": "stream",
     "text": [
      "\n",
      "Done.\n",
      "Dataset  4\n"
     ]
    },
    {
     "name": "stderr",
     "output_type": "stream",
     "text": [
      "/home/yfeng/anaconda3/envs/physioNet/lib/python3.6/site-packages/sklearn/model_selection/_split.py:296: FutureWarning: Setting a random_state has no effect since shuffle is False. This will raise an error in 0.24. You should leave random_state to its default (None), or set shuffle=True.\n",
      "  FutureWarning\n"
     ]
    },
    {
     "data": {
      "application/vnd.jupyter.widget-view+json": {
       "model_id": "9d86f549f7034853860377ab2d601a03",
       "version_major": 2,
       "version_minor": 0
      },
      "text/plain": [
       "HBox(children=(FloatProgress(value=1.0, bar_style='info', max=1.0), HTML(value='')))"
      ]
     },
     "metadata": {},
     "output_type": "display_data"
    },
    {
     "name": "stdout",
     "output_type": "stream",
     "text": [
      "\n",
      "Done.\n",
      "Dataset  5\n"
     ]
    },
    {
     "name": "stderr",
     "output_type": "stream",
     "text": [
      "/home/yfeng/anaconda3/envs/physioNet/lib/python3.6/site-packages/sklearn/model_selection/_split.py:296: FutureWarning: Setting a random_state has no effect since shuffle is False. This will raise an error in 0.24. You should leave random_state to its default (None), or set shuffle=True.\n",
      "  FutureWarning\n"
     ]
    },
    {
     "data": {
      "application/vnd.jupyter.widget-view+json": {
       "model_id": "1411b0c8d3ea4928aef9327c6ff73989",
       "version_major": 2,
       "version_minor": 0
      },
      "text/plain": [
       "HBox(children=(FloatProgress(value=1.0, bar_style='info', max=1.0), HTML(value='')))"
      ]
     },
     "metadata": {},
     "output_type": "display_data"
    },
    {
     "name": "stdout",
     "output_type": "stream",
     "text": [
      "\n"
     ]
    },
    {
     "name": "stderr",
     "output_type": "stream",
     "text": [
      "/home/yfeng/anaconda3/envs/physioNet/lib/python3.6/site-packages/sklearn/model_selection/_split.py:296: FutureWarning: Setting a random_state has no effect since shuffle is False. This will raise an error in 0.24. You should leave random_state to its default (None), or set shuffle=True.\n",
      "  FutureWarning\n"
     ]
    },
    {
     "name": "stdout",
     "output_type": "stream",
     "text": [
      "Done.\n",
      "Dataset  6\n"
     ]
    },
    {
     "data": {
      "application/vnd.jupyter.widget-view+json": {
       "model_id": "19602ec89d5d4cdc9f01ea9daaa2166c",
       "version_major": 2,
       "version_minor": 0
      },
      "text/plain": [
       "HBox(children=(FloatProgress(value=1.0, bar_style='info', max=1.0), HTML(value='')))"
      ]
     },
     "metadata": {},
     "output_type": "display_data"
    },
    {
     "name": "stdout",
     "output_type": "stream",
     "text": [
      "\n"
     ]
    },
    {
     "name": "stderr",
     "output_type": "stream",
     "text": [
      "/home/yfeng/anaconda3/envs/physioNet/lib/python3.6/site-packages/sklearn/model_selection/_split.py:296: FutureWarning: Setting a random_state has no effect since shuffle is False. This will raise an error in 0.24. You should leave random_state to its default (None), or set shuffle=True.\n",
      "  FutureWarning\n"
     ]
    },
    {
     "name": "stdout",
     "output_type": "stream",
     "text": [
      "Done.\n"
     ]
    }
   ],
   "source": [
    "from manipulations import get_Datas\n",
    "datasets = [1,2,3,4,5,6]\n",
    "_, Codes, dataset_data_labels, dataset_train_idx, dataset_test_idx = get_Datas(datasets)"
   ]
  },
  {
   "cell_type": "code",
   "execution_count": 7,
   "metadata": {},
   "outputs": [
    {
     "data": {
      "application/vnd.jupyter.widget-view+json": {
       "model_id": "7774307f5364455f9b239dbf0130a7fd",
       "version_major": 2,
       "version_minor": 0
      },
      "text/plain": [
       "HBox(children=(FloatProgress(value=0.0, max=6.0), HTML(value='')))"
      ]
     },
     "metadata": {},
     "output_type": "display_data"
    },
    {
     "name": "stdout",
     "output_type": "stream",
     "text": [
      "read from ../saved/data_imgs_dataset1.pkl\n",
      "6877\n",
      "read from ../saved/data_imgs_dataset2.pkl\n",
      "3453\n",
      "read from ../saved/data_imgs_dataset3.pkl\n",
      "74\n",
      "read from ../saved/data_imgs_dataset4.pkl\n",
      "516\n",
      "read from ../saved/data_imgs_dataset5.pkl\n",
      "21837\n",
      "read from ../saved/data_imgs_dataset6.pkl\n",
      "10344\n",
      "\n"
     ]
    }
   ],
   "source": [
    "from saved_data_io import read_file\n",
    "data_imgs2 = []\n",
    "for dataset in tqdm(datasets):\n",
    "    data_imgs = read_file('data_imgs_dataset{}'.format(dataset))\n",
    "    print(len(data_imgs))\n",
    "    data_imgs2 += data_imgs"
   ]
  },
  {
   "cell_type": "code",
   "execution_count": 8,
   "metadata": {},
   "outputs": [],
   "source": [
    "assert len(data_imgs2) == len(Codes)"
   ]
  },
  {
   "cell_type": "code",
   "execution_count": 9,
   "metadata": {},
   "outputs": [
    {
     "data": {
      "text/plain": [
       "<matplotlib.image.AxesImage at 0x7fe195f33e80>"
      ]
     },
     "execution_count": 9,
     "metadata": {},
     "output_type": "execute_result"
    },
    {
     "data": {
      "image/png": "[encoded data removed]",
      "text/plain": [
       "<Figure size 432x288 with 1 Axes>"
      ]
     },
     "metadata": {},
     "output_type": "display_data"
    }
   ],
   "source": [
    "plt.imshow(data_imgs2[5][3])"
   ]
  },
  {
   "cell_type": "code",
   "execution_count": 11,
   "metadata": {},
   "outputs": [
    {
     "data": {
      "application/vnd.jupyter.widget-view+json": {
       "model_id": "93fcf8f1a4fd4990b903c1511c41f044",
       "version_major": 2,
       "version_minor": 0
      },
      "text/plain": [
       "HBox(children=(FloatProgress(value=0.0, max=43101.0), HTML(value='')))"
      ]
     },
     "metadata": {},
     "output_type": "display_data"
    },
    {
     "name": "stdout",
     "output_type": "stream",
     "text": [
      "\n"
     ]
    }
   ],
   "source": [
    "from manipulations import get_scored_class\n",
    "from global_vars import labels\n",
    "# n_segments = 11\n",
    "# def crop_imgs(data_img, n_segments = n_segments, vis = False):\n",
    "    \n",
    "#     shift_len = int((data_img[0].size[0]-224) / (n_segments-1))\n",
    "#     if vis:\n",
    "#         plt.imshow(data_img)\n",
    "#         plt.show()\n",
    "        \n",
    "#     # each imgs\n",
    "#     imgs = []\n",
    "#     for i in range(n_segments):\n",
    "        \n",
    "#         # each channel of each segment\n",
    "#         img_chns = []\n",
    "#         for chn in range(4):\n",
    "#             img = data_img[chn].crop((i*shift_len,0,i*shift_len+224,224)) # 0, 0, 224, 224 left, upper, right, and lower\n",
    "#             img_chns.append(img)\n",
    "            \n",
    "#             if vis:\n",
    "#                 plt.imshow(img)\n",
    "#                 plt.show()\n",
    "                \n",
    "#         imgs.append(img_chns)\n",
    "#     return imgs\n",
    "\n",
    "data_img2_labels = []\n",
    "for i in tqdm(range(len(Codes))):\n",
    "    data_img2_labels.append(get_scored_class(Codes[i], labels))\n",
    "\n",
    "data_img2_labels = np.array(data_img2_labels)\n",
    "assert len(data_img2_labels) == len(Codes)"
   ]
  },
  {
   "cell_type": "code",
   "execution_count": 12,
   "metadata": {},
   "outputs": [
    {
     "name": "stdout",
     "output_type": "stream",
     "text": [
      "713427006\n",
      "284470004\n",
      "427172004\n"
     ]
    }
   ],
   "source": [
    "# change to equivalent mapping\n",
    "from global_vars import equivalent_mapping\n",
    "key_idxes = []\n",
    "for key in equivalent_mapping.keys():\n",
    "    print(key)\n",
    "    key_idx = np.argwhere(labels==int(key)).flatten()[0]\n",
    "    key_idxes.append(key_idx)\n",
    "    val_idx = np.argwhere(labels==int(equivalent_mapping[key])).flatten()[0]\n",
    "    key_pos = np.argwhere(data_img2_labels[:,key_idx]==1).flatten()\n",
    "    val_pos = np.argwhere(data_img2_labels[:,val_idx]==1).flatten()\n",
    "    data_img2_labels[key_pos,val_idx] = 1\n",
    "    data_img2_labels[val_pos,key_idx] = 1"
   ]
  },
  {
   "cell_type": "code",
   "execution_count": 18,
   "metadata": {},
   "outputs": [],
   "source": [
    "#dataset_train_idx[2n]\n",
    "train_idx = []\n",
    "test_idx = []\n",
    "for dataset in datasets:\n",
    "    for idx in dataset_train_idx[dataset]:\n",
    "        train_idx.append(idx)\n",
    "    for idx in dataset_test_idx[dataset]:\n",
    "        test_idx.append(idx)\n",
    "    \n",
    "assert len(train_idx)+len(test_idx) == len(Codes)"
   ]
  },
  {
   "cell_type": "code",
   "execution_count": 20,
   "metadata": {},
   "outputs": [
    {
     "name": "stdout",
     "output_type": "stream",
     "text": [
      "len(class_idx) 27\n"
     ]
    }
   ],
   "source": [
    "from torch.utils.data import Dataset\n",
    "from torchvision import transforms\n",
    "from global_vars import labels\n",
    "from manipulations import get_name\n",
    "import os\n",
    "class MyImageMultichannelDataset(Dataset):\n",
    "    \"\"\"Face Landmarks dataset.\"\"\"\n",
    "\n",
    "    def __init__(self, channel_imgs, manyhot_encoding_labels, class_idx, transform):\n",
    "        \"\"\"\n",
    "                \n",
    "        channel_imgs = chn -> array of PImage\n",
    "        \"\"\"\n",
    "        self.manyhot_encoding_labels = manyhot_encoding_labels\n",
    "        self.channel_imgs = channel_imgs\n",
    "        self.transform = transform\n",
    "\n",
    "    def __len__(self):\n",
    "        return len(self.manyhot_encoding_labels)\n",
    "\n",
    "    def __getitem__(self, idx):\n",
    "        if torch.is_tensor(idx):\n",
    "            idx = idx.tolist()\n",
    "        images = [self.channel_imgs[idx][chn] for chn in range(4)]\n",
    "        manyhot_encoding_label = self.manyhot_encoding_labels[idx]\n",
    "        sample =(torch.cat([self.transform(image) for image in images],0), \n",
    "                 torch.Tensor(manyhot_encoding_label[class_idx]))\n",
    "\n",
    "        return sample\n",
    "\n",
    "from global_vars import labels, Dx_map, Dx_map_unscored, equivalent_mapping\n",
    "names = [get_name(label, Dx_map, Dx_map_unscored) for label in labels]\n",
    "class_idx = np.argwhere(np.sum(np.array(data_img2_labels)[train_idx],axis=0)!=0).flatten() \n",
    "names = np.array(names)[class_idx]\n",
    "\n",
    "print(\"len(class_idx)\", len(class_idx))\n",
    "\n"
   ]
  },
  {
   "cell_type": "code",
   "execution_count": 21,
   "metadata": {},
   "outputs": [
    {
     "data": {
      "text/plain": [
       "[<PIL.Image.Image image mode=RGB size=448x224 at 0x7FE198E80908>,\n",
       " <PIL.Image.Image image mode=RGB size=448x224 at 0x7FE198D03F98>,\n",
       " <PIL.Image.Image image mode=RGB size=448x224 at 0x7FE30ACFE5F8>,\n",
       " <PIL.Image.Image image mode=RGB size=448x224 at 0x7FE2C2B9DCC0>]"
      ]
     },
     "execution_count": 21,
     "metadata": {},
     "output_type": "execute_result"
    }
   ],
   "source": [
    "data_imgs2[0]"
   ]
  },
  {
   "cell_type": "code",
   "execution_count": 23,
   "metadata": {},
   "outputs": [],
   "source": [
    "import torch\n",
    "import torch.nn as nn\n",
    "import torch.nn.functional as F\n",
    "import torch.optim as optim\n",
    "\n",
    "if torch.cuda.is_available():\n",
    "    device = torch.device('cuda:0')\n",
    "else:\n",
    "    device = torch.device('cpu')"
   ]
  },
  {
   "cell_type": "code",
   "execution_count": 24,
   "metadata": {},
   "outputs": [],
   "source": [
    "from torch import nn\n",
    "from torchvision import models\n",
    "    \n",
    "class MultiCWTNet(nn.Module):\n",
    "    def __init__(self, n_classes, verbose=False):\n",
    "        super(MultiCWTNet, self).__init__()\n",
    "        \n",
    "        self.resnet = models.resnet50(pretrained=True)\n",
    "        self.resnet.conv1 = self.increase_channels(self.resnet.conv1, num_channels=12, copy_weights=0)\n",
    "        num_ftrs = self.resnet.fc.in_features\n",
    "        self.resnet.fc = nn.Linear(num_ftrs, n_classes)\n",
    "\n",
    "        self.verbose = verbose\n",
    "        \n",
    "    def forward(self, xs):\n",
    "        x = self.resnet(xs)\n",
    "        return x\n",
    "    \n",
    "    \n",
    "    def increase_channels(self, m, num_channels=None, copy_weights=0):\n",
    "        \"\"\"\n",
    "        https://github.com/akashpalrecha/Resnet-multichannel/blob/master/multichannel_resnet.py\n",
    "        \n",
    "        takes as input a Conv2d layer and returns the a Conv2d layer with `num_channels` input channels\n",
    "        \n",
    "        copy_weights (int): copy the weights of the channel (int)\n",
    "        \"\"\"\n",
    "        # number of input channels the new module should have\n",
    "        new_in_channels = num_channels if num_channels is not None else m.in_channels + 1\n",
    "        \n",
    "        # Creating new Conv2d layer\n",
    "        new_m = nn.Conv2d(in_channels=new_in_channels, \n",
    "                          out_channels=m.out_channels, \n",
    "                          kernel_size=m.kernel_size, \n",
    "                          stride=m.stride, \n",
    "                          padding=m.padding,\n",
    "                          bias=False)\n",
    "        \n",
    "        # Copying the weights from the old to the new layer\n",
    "        new_m.weight[:, :m.in_channels, :, :] = m.weight.clone()\n",
    "        \n",
    "        #Copying the weights of the `copy_weights` channel of the old layer to the extra channels of the new layer\n",
    "        for i in range(new_in_channels - m.in_channels): # 12 - 3\n",
    "            channel = m.in_channels + i # 3，4，5，6，7，8，9，10，11\n",
    "            new_m.weight[:, channel:channel+1, :, :] = m.weight[:, copy_weights:copy_weights+1, : :].clone()\n",
    "        new_m.weight = nn.Parameter(new_m.weight)\n",
    "\n",
    "        return new_m"
   ]
  },
  {
   "cell_type": "code",
   "execution_count": null,
   "metadata": {
    "scrolled": true
   },
   "outputs": [
    {
     "name": "stderr",
     "output_type": "stream",
     "text": [
      "/home/yfeng/anaconda3/envs/physioNet/lib/python3.6/site-packages/ipykernel_launcher.py:17: FutureWarning: elementwise comparison failed; returning scalar instead, but in the future will perform elementwise comparison\n"
     ]
    },
    {
     "data": {
      "application/vnd.jupyter.widget-view+json": {
       "model_id": "e1bcc53680c14e589e0f180323ccbb8f",
       "version_major": 2,
       "version_minor": 0
      },
      "text/plain": [
       "HBox(children=(FloatProgress(value=1.0, bar_style='info', max=1.0), HTML(value='')))"
      ]
     },
     "metadata": {},
     "output_type": "display_data"
    }
   ],
   "source": [
    "from torchvision import datasets, models, transforms\n",
    "import torch\n",
    "torch.manual_seed(0)\n",
    "from myeval import agg_y_preds_bags, binary_acc, geometry_loss, compute_score\n",
    "import torch.optim as optim\n",
    "from torch.optim import lr_scheduler\n",
    "from snippets.pytorchtools import EarlyStopping\n",
    "import time\n",
    "from pytorch_training import add_pr_curve_tensorboard\n",
    "from imbalanced_sampler import  WeightedImbalancedDatasetSampler\n",
    "from torch.utils.tensorboard import SummaryWriter\n",
    "\n",
    "st = time.time()\n",
    "patience = 50\n",
    "batch_size= 64#65000\n",
    "from global_vars import normal_class\n",
    "normal_idx = np.argwhere(names==int(normal_class))\n",
    "run_name = 'modelMultiCWTFull_ALL_randomCrop_seed0'\n",
    "writer = SummaryWriter('runs/{}'.format(run_name))\n",
    "\n",
    "from global_vars import weights\n",
    "\n",
    "\n",
    "from imbalanced_weights import cal_multilabel_weights, inverse_weight\n",
    "sample_weights, Data_labels_train_new, label_to_count, new_index_dict = cal_multilabel_weights(data_img2_labels[train_idx], 0)\n",
    "\n",
    "\n",
    "data_transforms = {\n",
    "    'train':  transforms.Compose([\n",
    "                         transforms.RandomCrop(224),\n",
    "                         transforms.ToTensor(),\n",
    "                         transforms.Normalize([0.485, 0.456, 0.406], [0.229, 0.224, 0.225])\n",
    "                         ]),  \n",
    "     'test': transforms.Compose([\n",
    "                         transforms.CenterCrop(224),\n",
    "                         transforms.ToTensor(),\n",
    "                         transforms.Normalize([0.485, 0.456, 0.406], [0.229, 0.224, 0.225])\n",
    "                         ])\n",
    "    \n",
    "}\n",
    "\n",
    "image_datasets_train = MyImageMultichannelDataset(data_imgs2, data_img2_labels, class_idx, data_transforms['train'])\n",
    "image_datasets_test = MyImageMultichannelDataset(data_imgs2, data_img2_labels, class_idx, data_transforms['test'])\n",
    "\n",
    "trainDataset = torch.utils.data.Subset(image_datasets_train, train_idx)\n",
    "testDataset = torch.utils.data.Subset(image_datasets_test, test_idx)\n",
    "\n",
    "trainLoader = torch.utils.data.DataLoader(trainDataset, batch_size=batch_size, pin_memory=True, shuffle=True)\n",
    "                                         # sampler=WeightedImbalancedDatasetSampler(trainDataset, weights=sample_weights))\n",
    "testLoader = torch.utils.data.DataLoader(testDataset, batch_size=300, shuffle = False, pin_memory=True)\n",
    "\n",
    "#train_class_weight = torch.Tensor(inverse_weight(Data_labels_train, class_idx)).to(device)\n",
    "#test_class_weight = torch.Tensor(inverse_weight(Data_labels_test, class_idx)).to(device)\n",
    "criterion_train = nn.BCEWithLogitsLoss(reduction='mean')#, weight=train_class_weight) \n",
    "criterion_test = nn.BCEWithLogitsLoss(reduction='mean')#, weight=test_class_weight) \n",
    "\n",
    "saved_dir = '../saved/modelMultiCWTFull2/'\n",
    "early_stopping = EarlyStopping(patience, verbose=False, \n",
    "                              saved_dir=saved_dir, \n",
    "                              save_name=run_name)\n",
    "\n",
    "model = MultiCWTNet(len(class_idx), verbose=False)\n",
    "model.to(device)\n",
    "\n",
    "\n",
    "optimizer = optim.Adam(model.parameters(), lr=0.01) \n",
    "#optimizer = optim.SGD(model.parameters(), lr=0.001, momentum=0.9) #\n",
    "# Decay LR by a factor of 0.1 every 100 epochs\n",
    "#scheduler = lr_scheduler.StepLR(optimizer, step_size=50, gamma=0.1)\n",
    "scheduler = lr_scheduler.ReduceLROnPlateau(optimizer, factor=0.1, patience=20, mode='max')\n",
    "\n",
    "\n",
    "y_trains_tensor = None\n",
    "y_tests_tensor = None\n",
    "losses_train = []\n",
    "avg_losses_train = []\n",
    "losses_test = []\n",
    "avg_losses_test = []\n",
    "\n",
    "for epoch in range(0, 5000):\n",
    "\n",
    "    model.train()\n",
    "\n",
    "    running_loss_train = 0.0\n",
    "\n",
    "    y_trains = [] # ground truth\n",
    "    output_trains = [] # output\n",
    "    for k, (X_train, y_train) in tqdm(enumerate(trainLoader)):\n",
    "        y_train = y_train.to(device)\n",
    "        X_train = X_train.to(device)\n",
    "        optimizer.zero_grad()\n",
    "        output_train = model(X_train)\n",
    "        output_trains.append(output_train.cpu())\n",
    "        \n",
    "        loss_train = criterion_train(output_train, y_train)\n",
    "        losses_train.append(loss_train.item())\n",
    "        \n",
    "        avg_loss_train = np.average(losses_train)\n",
    "        avg_losses_train.append(avg_loss_train)\n",
    "    \n",
    "        \n",
    "        if np.mod(k, 100) == 0:\n",
    "            writer.add_scalar('train/loss',\n",
    "            avg_loss_train,\n",
    "            epoch * (len(train_idx)//batch_size//100+1) + k//100)\n",
    "        \n",
    "        y_trains.append(y_train.cpu())\n",
    "            \n",
    "        loss_train.backward()\n",
    "        optimizer.step()\n",
    "            \n",
    "    #scheduler.step()\n",
    "    \n",
    "\n",
    "    y_tests = [] # ground truth\n",
    "    output_tests = [] # output\n",
    "    with torch.no_grad():\n",
    "        model.eval()\n",
    "        \n",
    "        for X_test, y_test in testLoader:  \n",
    "            y_test = y_test.to(device)\n",
    "            X_test = X_test.to(device)\n",
    "            output_test = model(X_test)\n",
    "\n",
    "            loss_test = criterion_test(output_test, y_test)\n",
    "            losses_test.append(loss_test.item())\n",
    "\n",
    "            output_tests.append(output_test.cpu())\n",
    "            y_tests.append(y_test.cpu())\n",
    "            \n",
    "            \n",
    "            \n",
    "        avg_loss_test = np.average(losses_test)\n",
    "        avg_losses_test.append(avg_loss_test)\n",
    "\n",
    "        writer.add_scalar('test/loss',\n",
    "                avg_loss_test,\n",
    "                epoch)\n",
    "\n",
    "\n",
    "\n",
    "    y_trains_tensor = torch.cat(y_trains, axis=0) # ground truth\n",
    "    y_tests_tensor = torch.cat(y_tests, axis=0) # ground truth\n",
    "\n",
    "    output_trains = torch.cat(output_trains, axis=0) \n",
    "    y_train_preds = torch.sigmoid(output_trains)\n",
    "\n",
    "    output_tests = torch.cat(output_tests, axis=0)\n",
    "    y_test_preds = torch.sigmoid(output_tests)\n",
    "\n",
    "    #output_trains = torch.cat(output_trains, axis=0)\n",
    "#     y_train_preds_max, y_train_preds_mean, _ = agg_y_preds_bags(y_train_preds, bag_size=n_segments)\n",
    "#     y_test_preds_max, y_test_preds_mean, _ = agg_y_preds_bags(y_test_preds, bag_size=n_segments)\n",
    "#     _, _, y_trains = agg_y_preds_bags(y_trains, bag_size=n_segments)\n",
    "#     _, _, y_tests = agg_y_preds_bags(y_tests, bag_size=n_segments)\n",
    "\n",
    "\n",
    "    for class_i_idx in range(len(class_idx)):\n",
    "        add_pr_curve_tensorboard(writer, class_i_idx, y_trains_tensor, y_train_preds, names, global_step=epoch, prefix='train/')\n",
    "        add_pr_curve_tensorboard(writer, class_i_idx, y_tests_tensor, y_test_preds, names, global_step=epoch, prefix='test/')\n",
    "\n",
    "\n",
    "\n",
    "    acc, fmeasure, fbeta, gbeta = binary_acc(y_train_preds, y_trains_tensor)           \n",
    "    acc2, fmeasure2, fbeta2, gbeta2 = binary_acc(y_test_preds, y_tests_tensor)\n",
    "    geometry = geometry_loss(fbeta, gbeta)\n",
    "    geometry2 = geometry_loss(fbeta2, gbeta2)\n",
    "    \n",
    "#     output_str = 'S{} {:.2f} min |\\n Train Loss: {:.6f}, Acc: {:.3f}, F: {:.3f}, Fbeta: {:.3f}, gbeta: {:.3f}, geo: {:.3f}, score: {:.3f} |\\n Valid Loss: {:.6f}, Acc: {:.3f}, F: {:.3f}, Fbeta: {:.3f}, gbeta: {:.3f}, geo: {:.3f}, score: {:.3f}\\n '.format(\n",
    "#         epoch, (time.time()-st)/60,\n",
    "#         avg_loss_train, acc, fmeasure, fbeta, gbeta, geometry, np.nan,\n",
    "#         avg_loss_test, acc2, fmeasure2, fbeta2, gbeta2, geometry2, np.nan)\n",
    "#     print(output_str)\n",
    "    score = compute_score(np.round(y_train_preds.data.numpy()), np.round(y_trains_tensor.data.numpy()),  weights, class_idx, normal_idx)\n",
    "    score2 = compute_score(np.round(y_test_preds.data.numpy()), np.round(y_tests_tensor.data.numpy()), weights, class_idx, normal_idx)\n",
    "    output_str = 'S{} {:.2f} min |\\n Train Loss: {:.6f}, Acc: {:.3f}, F: {:.3f}, Fbeta: {:.3f}, gbeta: {:.3f}, geo: {:.3f}, score: {:.3f} |\\n Valid Loss: {:.6f}, Acc: {:.3f}, F: {:.3f}, Fbeta: {:.3f}, gbeta: {:.3f}, geo: {:.3f}, score: {:.3f}\\n '.format(\n",
    "        epoch, (time.time()-st)/60,\n",
    "        avg_loss_train, acc, fmeasure, fbeta, gbeta, geometry, score,\n",
    "        avg_loss_test, acc2, fmeasure2, fbeta2, gbeta2, geometry2, score2)\n",
    "    scheduler.step(score2)\n",
    "    \n",
    "    writer.add_scalar('train/score',\n",
    "            score,\n",
    "            epoch)\n",
    "    writer.add_scalar('train/gbeta',\n",
    "            gbeta,\n",
    "            epoch)\n",
    "    writer.add_scalar('train/fbeta',\n",
    "            fbeta,\n",
    "            epoch)\n",
    "    writer.add_scalar('train/geometry',\n",
    "            geometry,\n",
    "            epoch)\n",
    "    \n",
    "    writer.add_scalar('test/score',\n",
    "            score2,\n",
    "            epoch)\n",
    "    writer.add_scalar('test/gbeta',\n",
    "            gbeta2,\n",
    "            epoch)\n",
    "    writer.add_scalar('test/fbeta',\n",
    "            fbeta2,\n",
    "            epoch)\n",
    "    writer.add_scalar('test/geometry',\n",
    "            geometry2,\n",
    "            epoch)\n",
    "    \n",
    "    print(output_str)\n",
    "\n",
    "    with open(saved_dir+'loss_{}.txt'.format(run_name), 'a') as f:\n",
    "        print(output_str, file=f)\n",
    "\n",
    "    early_stopping(-score2, model)\n",
    "\n",
    "    if early_stopping.early_stop:\n",
    "        print(\"Early stopping\")\n",
    "        break\n",
    "\n",
    "\n",
    "#     output_string = 'AUROC|AUPRC|Accuracy|F-measure|Fbeta-measure|Gbeta-measure|Geomotry\\n{:.3f}|{:.3f}|{:.3f}|{:.3f}|{:.3f}|{:.3f}|{:.3f}'.format(auroc2,auprc2,acc2,fmeasure2,fbeta2,gbeta2,geometry2)\n",
    "#     print(output_string)     \n",
    "#     with open(saved_dir+'score'+ str(i)+ '_epoch' + str(epoch) + '.txt', 'w') as f:\n",
    "#         f.write(output_string)\n",
    "\n",
    "#     avg_losses_train = np.array(avg_losses_train)\n",
    "#     avg_losses_test = np.array(avg_losses_test)\n",
    "\n",
    "#     np.save(saved_dir + 'avg_losses_train' + str(i) + '_epoch' + str(epoch), avg_losses_train)\n",
    "#     np.save(saved_dir + 'avg_losses_test' + str(i) + '_epoch' + str(epoch), avg_losses_test)\n"
   ]
  },
  {
   "cell_type": "code",
   "execution_count": null,
   "metadata": {},
   "outputs": [],
   "source": []
  }
 ],
 "metadata": {
  "kernelspec": {
   "display_name": "Python 3",
   "language": "python",
   "name": "python3"
  },
  "language_info": {
   "codemirror_mode": {
    "name": "ipython",
    "version": 3
   },
   "file_extension": ".py",
   "mimetype": "text/x-python",
   "name": "python",
   "nbconvert_exporter": "python",
   "pygments_lexer": "ipython3",
   "version": "3.6.10"
  }
 },
 "nbformat": 4,
 "nbformat_minor": 4
}
