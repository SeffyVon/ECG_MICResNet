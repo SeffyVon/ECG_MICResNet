{
 "cells": [
  {
   "cell_type": "code",
   "execution_count": 1,
   "metadata": {},
   "outputs": [],
   "source": [
    "#!/usr/bin/env python\n",
    "%load_ext autoreload\n",
    "%autoreload 2\n",
    "import matplotlib.pyplot as plt\n",
    "import numpy as np, os, sys\n",
    "from tqdm.notebook import tqdm    \n",
    "from manipulations import get_classes, get_classes_from_header, get_Fs_from_header, load_challenge_data\n",
    "from sklearn.model_selection import KFold, StratifiedKFold"
   ]
  },
  {
   "cell_type": "code",
   "execution_count": 2,
   "metadata": {},
   "outputs": [],
   "source": [
    "N_CLASS = 27"
   ]
  },
  {
   "cell_type": "code",
   "execution_count": 3,
   "metadata": {},
   "outputs": [],
   "source": [
    "MAX_RR = 750 # 60 beats/min => 60 beats/60 s ==> beat/1s ==> 500 samples / beat"
   ]
  },
  {
   "cell_type": "code",
   "execution_count": 4,
   "metadata": {},
   "outputs": [],
   "source": [
    "from manipulations import get_abbr, get_name\n",
    "from global_vars import labels, Dx_map, Dx_map_unscored\n",
    "first_idx = {scored_code: None for scored_code in list(Dx_map['SNOMED CT Code'])}\n",
    "first_idx_unscored = {unscored_code: None for unscored_code in list(Dx_map_unscored['SNOMED CT Code'])}"
   ]
  },
  {
   "cell_type": "code",
   "execution_count": 5,
   "metadata": {},
   "outputs": [],
   "source": [
    "from global_vars import labels, normal_class, equivalent_mapping\n",
    "normal_idx = np.argwhere(labels==int(normal_class))\n",
    "def get_scored_class(code, labels):\n",
    "    return [1 if label in code else 0 for label in labels]"
   ]
  },
  {
   "cell_type": "code",
   "execution_count": 16,
   "metadata": {},
   "outputs": [
    {
     "name": "stdout",
     "output_type": "stream",
     "text": [
      "Dataset  1\n"
     ]
    },
    {
     "data": {
      "application/vnd.jupyter.widget-view+json": {
       "model_id": "7471f803d92843338232c04491af0c36",
       "version_major": 2,
       "version_minor": 0
      },
      "text/plain": [
       "HBox(children=(FloatProgress(value=1.0, bar_style='info', max=1.0), HTML(value='')))"
      ]
     },
     "metadata": {},
     "output_type": "display_data"
    },
    {
     "name": "stdout",
     "output_type": "stream",
     "text": [
      "\n"
     ]
    },
    {
     "name": "stderr",
     "output_type": "stream",
     "text": [
      "/home/yfeng/anaconda3/envs/physioNet/lib/python3.6/site-packages/sklearn/model_selection/_split.py:296: FutureWarning: Setting a random_state has no effect since shuffle is False. This will raise an error in 0.24. You should leave random_state to its default (None), or set shuffle=True.\n",
      "  FutureWarning\n"
     ]
    },
    {
     "name": "stdout",
     "output_type": "stream",
     "text": [
      "Done.\n",
      "Dataset  2\n"
     ]
    },
    {
     "data": {
      "application/vnd.jupyter.widget-view+json": {
       "model_id": "2cc9db9da93044a88dbc6f1291ce42d7",
       "version_major": 2,
       "version_minor": 0
      },
      "text/plain": [
       "HBox(children=(FloatProgress(value=1.0, bar_style='info', max=1.0), HTML(value='')))"
      ]
     },
     "metadata": {},
     "output_type": "display_data"
    },
    {
     "name": "stdout",
     "output_type": "stream",
     "text": [
      "\n",
      "Done.\n",
      "Dataset  3\n"
     ]
    },
    {
     "name": "stderr",
     "output_type": "stream",
     "text": [
      "/home/yfeng/anaconda3/envs/physioNet/lib/python3.6/site-packages/sklearn/model_selection/_split.py:296: FutureWarning: Setting a random_state has no effect since shuffle is False. This will raise an error in 0.24. You should leave random_state to its default (None), or set shuffle=True.\n",
      "  FutureWarning\n"
     ]
    },
    {
     "data": {
      "application/vnd.jupyter.widget-view+json": {
       "model_id": "af1e39a0759546d3ad1a3b2328652b55",
       "version_major": 2,
       "version_minor": 0
      },
      "text/plain": [
       "HBox(children=(FloatProgress(value=1.0, bar_style='info', max=1.0), HTML(value='')))"
      ]
     },
     "metadata": {},
     "output_type": "display_data"
    },
    {
     "name": "stdout",
     "output_type": "stream",
     "text": [
      "\n",
      "Done.\n",
      "Dataset  4\n"
     ]
    },
    {
     "name": "stderr",
     "output_type": "stream",
     "text": [
      "/home/yfeng/anaconda3/envs/physioNet/lib/python3.6/site-packages/sklearn/model_selection/_split.py:296: FutureWarning: Setting a random_state has no effect since shuffle is False. This will raise an error in 0.24. You should leave random_state to its default (None), or set shuffle=True.\n",
      "  FutureWarning\n"
     ]
    },
    {
     "data": {
      "application/vnd.jupyter.widget-view+json": {
       "model_id": "c9192b3c4b5d44c78b465e94c1deb520",
       "version_major": 2,
       "version_minor": 0
      },
      "text/plain": [
       "HBox(children=(FloatProgress(value=1.0, bar_style='info', max=1.0), HTML(value='')))"
      ]
     },
     "metadata": {},
     "output_type": "display_data"
    },
    {
     "name": "stdout",
     "output_type": "stream",
     "text": [
      "\n",
      "Done.\n",
      "Dataset  5\n"
     ]
    },
    {
     "name": "stderr",
     "output_type": "stream",
     "text": [
      "/home/yfeng/anaconda3/envs/physioNet/lib/python3.6/site-packages/sklearn/model_selection/_split.py:296: FutureWarning: Setting a random_state has no effect since shuffle is False. This will raise an error in 0.24. You should leave random_state to its default (None), or set shuffle=True.\n",
      "  FutureWarning\n"
     ]
    },
    {
     "data": {
      "application/vnd.jupyter.widget-view+json": {
       "model_id": "8492f61e26c541339c2d840fc897008b",
       "version_major": 2,
       "version_minor": 0
      },
      "text/plain": [
       "HBox(children=(FloatProgress(value=1.0, bar_style='info', max=1.0), HTML(value='')))"
      ]
     },
     "metadata": {},
     "output_type": "display_data"
    },
    {
     "name": "stdout",
     "output_type": "stream",
     "text": [
      "\n"
     ]
    },
    {
     "name": "stderr",
     "output_type": "stream",
     "text": [
      "/home/yfeng/anaconda3/envs/physioNet/lib/python3.6/site-packages/sklearn/model_selection/_split.py:296: FutureWarning: Setting a random_state has no effect since shuffle is False. This will raise an error in 0.24. You should leave random_state to its default (None), or set shuffle=True.\n",
      "  FutureWarning\n"
     ]
    },
    {
     "name": "stdout",
     "output_type": "stream",
     "text": [
      "Done.\n",
      "Dataset  6\n"
     ]
    },
    {
     "data": {
      "application/vnd.jupyter.widget-view+json": {
       "model_id": "d15bd707cadc4f7da4768d8c65c75d7a",
       "version_major": 2,
       "version_minor": 0
      },
      "text/plain": [
       "HBox(children=(FloatProgress(value=1.0, bar_style='info', max=1.0), HTML(value='')))"
      ]
     },
     "metadata": {},
     "output_type": "display_data"
    },
    {
     "name": "stdout",
     "output_type": "stream",
     "text": [
      "\n"
     ]
    },
    {
     "name": "stderr",
     "output_type": "stream",
     "text": [
      "/home/yfeng/anaconda3/envs/physioNet/lib/python3.6/site-packages/sklearn/model_selection/_split.py:296: FutureWarning: Setting a random_state has no effect since shuffle is False. This will raise an error in 0.24. You should leave random_state to its default (None), or set shuffle=True.\n",
      "  FutureWarning\n"
     ]
    },
    {
     "name": "stdout",
     "output_type": "stream",
     "text": [
      "Done.\n"
     ]
    }
   ],
   "source": [
    "from iterstrat.ml_stratifiers import MultilabelStratifiedKFold\n",
    "\n",
    "if __name__ == '__main__':\n",
    "    \n",
    "    Datas = []\n",
    "    Header_datas = []\n",
    "    Classes = []\n",
    "    Codes = []\n",
    "    \n",
    "    dataset_idx = {}\n",
    "    dataset_data_labels = {}\n",
    "    dataset_train_idx = {}\n",
    "    dataset_test_idx = {}\n",
    "    \n",
    "    global_idx = 0\n",
    "    datasets = [1,2,3,4,5,6]\n",
    "    for dataset in datasets:\n",
    "        print('Dataset ', dataset)\n",
    "        # Parse arguments.\n",
    "        if len(sys.argv) != 3:\n",
    "            raise Exception('Include the input and output directories as arguments, e.g., python driver.py input output.')\n",
    "\n",
    "        input_directory = '../NewData/{}/'.format(dataset)\n",
    "        output_directory = '../Output/'\n",
    "\n",
    "        # Find files.\n",
    "        input_files = []\n",
    "        for f in os.listdir(input_directory):\n",
    "            if os.path.isfile(os.path.join(input_directory, f)) and not f.lower().startswith('.') and f.lower().endswith('mat'):\n",
    "                input_files.append(f)\n",
    "\n",
    "        if not os.path.isdir(output_directory):\n",
    "            os.mkdir(output_directory)\n",
    "\n",
    "        classes=get_classes(input_directory,input_files)\n",
    "\n",
    "        num_files = len(input_files)\n",
    "        datas = []\n",
    "        header_datas = []\n",
    "        dataset_data_labels[dataset] = []\n",
    "        dataset_idx[dataset] = []\n",
    "        for i, f in tqdm(enumerate(input_files)):\n",
    "            #print('    {}/{}...'.format(i+1, num_files), f)\n",
    "            tmp_input_file = os.path.join(input_directory,f)\n",
    "            data,header_data = load_challenge_data(tmp_input_file)\n",
    "            \n",
    "            codes = get_classes_from_header(header_data)\n",
    "            \n",
    "            data_labels = get_scored_class(codes, labels)\n",
    "            \n",
    "            datas.append(data[:,1000:7000])\n",
    "            header_datas.append(header_data)\n",
    "            Codes.append(codes)\n",
    "            dataset_data_labels[dataset].append(data_labels)\n",
    "            dataset_idx[dataset].append(global_idx)\n",
    "            global_idx += 1\n",
    "\n",
    "        Datas += datas\n",
    "        Header_datas += header_datas\n",
    "        Classes += classes\n",
    "        \n",
    "        kf = MultilabelStratifiedKFold(5, random_state=0)\n",
    "        train_idx, test_idx = next(kf.split(datas, np.array(dataset_data_labels[dataset])))\n",
    "\n",
    "\n",
    "        dataset_train_idx[dataset] = train_idx +  dataset_idx[dataset][0]\n",
    "        dataset_test_idx[dataset] = test_idx + dataset_idx[dataset][0]\n",
    "        \n",
    "        \n",
    "        print('Done.')"
   ]
  },
  {
   "cell_type": "code",
   "execution_count": 13,
   "metadata": {},
   "outputs": [
    {
     "name": "stdout",
     "output_type": "stream",
     "text": [
      "\n"
     ]
    }
   ],
   "source": [
    "import pickle\n",
    "Q_locs = None\n",
    "with open('../saved/newData_Q_locs_1000_7000_peakdist100.pkl', 'rb') as Q_locs_file:\n",
    "    Q_locs = pickle.load(Q_locs_file)"
   ]
  },
  {
   "cell_type": "code",
   "execution_count": 20,
   "metadata": {},
   "outputs": [],
   "source": [
    "Codes = None\n",
    "with open('../saved/newData_Codes_1000_7000_peakdist100.pkl', 'rb') as Codes_file:\n",
    "    Codes = pickle.load(Codes_file)"
   ]
  },
  {
   "cell_type": "code",
   "execution_count": 6,
   "metadata": {},
   "outputs": [],
   "source": [
    "import pickle\n",
    "with open('../saved/all_train_idx_stratified.pkl', 'rb') as all_train_idx_file:\n",
    "    all_train_idx = pickle.load(all_train_idx_file)\n",
    "with open('../saved/all_test_idx_stratified.pkl', 'rb') as all_test_idx_file:\n",
    "    all_test_idx = pickle.load(all_test_idx_file)"
   ]
  },
  {
   "cell_type": "code",
   "execution_count": 21,
   "metadata": {},
   "outputs": [
    {
     "data": {
      "application/vnd.jupyter.widget-view+json": {
       "model_id": "97d3463a805647c0aaa45064ce04ccb6",
       "version_major": 2,
       "version_minor": 0
      },
      "text/plain": [
       "HBox(children=(FloatProgress(value=0.0, max=8619.0), HTML(value='')))"
      ]
     },
     "metadata": {},
     "output_type": "display_data"
    },
    {
     "name": "stderr",
     "output_type": "stream",
     "text": [
      "/home/yfeng/anaconda3/envs/physioNet/lib/python3.6/site-packages/numpy/core/fromnumeric.py:3335: RuntimeWarning: Mean of empty slice.\n",
      "  out=out, **kwargs)\n",
      "/home/yfeng/anaconda3/envs/physioNet/lib/python3.6/site-packages/numpy/core/_methods.py:161: RuntimeWarning: invalid value encountered in double_scalars\n",
      "  ret = ret.dtype.type(ret / rcount)\n"
     ]
    },
    {
     "name": "stdout",
     "output_type": "stream",
     "text": [
      "\n"
     ]
    }
   ],
   "source": [
    "X_test = []\n",
    "Data_labels_test = []\n",
    "Idxes_test = []\n",
    "for i in tqdm(all_test_idx):\n",
    "    #print(i)\n",
    "        \n",
    "    Q_loc = Q_locs[i]\n",
    "    RR_avg = np.median([Q_loc[k+1] - Q_loc[k] for k in range(len(Q_loc)-1)])\n",
    "    RR_th = (0.3 * RR_avg, 3 * RR_avg)\n",
    "    \n",
    "    ks = [k for k in range(len(Q_loc)-1) if Q_loc[k+1] - Q_loc[k] > RR_th[0] \n",
    "              and Q_loc[k+1] - Q_loc[k] < RR_th[1]]\n",
    "    \n",
    "    \n",
    "    for k in ks:\n",
    "        Data_labels_test.append(get_scored_class(Codes[i], labels))\n",
    "        X_test.append(Datas[i][:,1000+Q_loc[k]:1000+Q_loc[k+1]])\n",
    "        Idxes_test.append(i)\n",
    "        "
   ]
  },
  {
   "cell_type": "code",
   "execution_count": 234,
   "metadata": {},
   "outputs": [
    {
     "data": {
      "application/vnd.jupyter.widget-view+json": {
       "model_id": "8c40f803ce7347e8aaab99e380e458ea",
       "version_major": 2,
       "version_minor": 0
      },
      "text/plain": [
       "HBox(children=(FloatProgress(value=0.0, max=34482.0), HTML(value='')))"
      ]
     },
     "metadata": {},
     "output_type": "display_data"
    },
    {
     "name": "stderr",
     "output_type": "stream",
     "text": [
      "/home/yfeng/anaconda3/envs/physioNet/lib/python3.6/site-packages/numpy/core/fromnumeric.py:3335: RuntimeWarning: Mean of empty slice.\n",
      "  out=out, **kwargs)\n",
      "/home/yfeng/anaconda3/envs/physioNet/lib/python3.6/site-packages/numpy/core/_methods.py:161: RuntimeWarning: invalid value encountered in double_scalars\n",
      "  ret = ret.dtype.type(ret / rcount)\n"
     ]
    },
    {
     "name": "stdout",
     "output_type": "stream",
     "text": [
      "\n"
     ]
    }
   ],
   "source": [
    "X_train = []\n",
    "Data_labels_train = []\n",
    "Idxes_train = []\n",
    "Idxes_dict_train = {}\n",
    "ct = 0\n",
    "for i in tqdm(all_train_idx):\n",
    "    Q_loc = Q_locs[i]\n",
    "    RR_avg = np.median([Q_loc[k+1] - Q_loc[k] for k in range(len(Q_loc)-1)])\n",
    "    RR_th = (0.3 * RR_avg, 3 * RR_avg)\n",
    "    \n",
    "    ks = [k for k in range(len(Q_loc)-1) if Q_loc[k+1] - Q_loc[k] > RR_th[0] \n",
    "              and Q_loc[k+1] - Q_loc[k] < RR_th[1]]\n",
    "    \n",
    "    \n",
    "    Idxes_dict_train[i] = []\n",
    "    for k in ks:\n",
    "        Data_labels_train.append(get_scored_class(Codes[i], labels))\n",
    "        X_train.append(Datas[i][:,1000+Q_loc[k]:1000+Q_loc[k+1]])\n",
    "        Idxes_train.append(i)\n",
    "        Idxes_dict_train[i].append(ct)\n",
    "        \n",
    "    ct += 1"
   ]
  },
  {
   "cell_type": "markdown",
   "metadata": {},
   "source": [
    "# On y va"
   ]
  },
  {
   "cell_type": "code",
   "execution_count": 117,
   "metadata": {},
   "outputs": [],
   "source": [
    "Signals_test = np.load('../saved/Signals_test_stratified.npy')"
   ]
  },
  {
   "cell_type": "code",
   "execution_count": 118,
   "metadata": {},
   "outputs": [],
   "source": [
    "import pickle\n",
    "with open('../saved/Data_labels_test_stratified.pkl', 'rb') as Data_labels_test_file:\n",
    "    Data_labels_test = pickle.load(Data_labels_test_file)"
   ]
  },
  {
   "cell_type": "code",
   "execution_count": 119,
   "metadata": {},
   "outputs": [],
   "source": [
    "import torch\n",
    "import torch.nn as nn\n",
    "import torch.nn.functional as F\n",
    "import torch.optim as optim\n",
    "from resnet1d import ECGResNet50\n",
    "\n",
    "def load_trained_model(model_saved_path):\n",
    "    model = ECGResNet50(MAX_RR, N_CLASS)\n",
    "    \n",
    "    # load saved model\n",
    "    model.load_state_dict(torch.load(model_saved_path, map_location=torch.device('cpu')))\n",
    "    model.eval()\n",
    "    return model"
   ]
  },
  {
   "cell_type": "code",
   "execution_count": 209,
   "metadata": {},
   "outputs": [],
   "source": [
    "model_saved_path = '../saved/ECGResNet50/resnet50_ECGResNet50_minibatch_adam_batch512_0.01_stratified_model.dict'\n",
    "model = load_trained_model(model_saved_path)"
   ]
  },
  {
   "cell_type": "code",
   "execution_count": 121,
   "metadata": {},
   "outputs": [],
   "source": [
    "import torch\n",
    "from torch import nn"
   ]
  },
  {
   "cell_type": "code",
   "execution_count": 122,
   "metadata": {},
   "outputs": [],
   "source": [
    "Signal_12leads_test= np.transpose(Signals_test, (1,0,2))"
   ]
  },
  {
   "cell_type": "code",
   "execution_count": 123,
   "metadata": {},
   "outputs": [],
   "source": [
    "from torch.utils.data import Dataset\n",
    "from torchvision import transforms\n",
    "\n",
    "import os\n",
    "class SignalDataset(Dataset):\n",
    "\n",
    "    def __init__(self, signals, labels):\n",
    "        self.signals = signals\n",
    "        self.labels = labels\n",
    "\n",
    "    def __len__(self):\n",
    "        return len(self.signals)\n",
    "\n",
    "    def __getitem__(self, idx):\n",
    "        if torch.is_tensor(idx):\n",
    "            idx = idx.tolist()\n",
    "        sample =(torch.cat([torch.Tensor(np.array([self.signals[channel,idx]]).transpose()) for channel in range(12)], axis=1), \n",
    "                  torch.Tensor(self.labels[idx]))\n",
    "\n",
    "        return sample\n",
    "    \n",
    "signal_datasets_test = SignalDataset(Signal_12leads_test, np.array(Data_labels_test)[:,:N_CLASS])\n"
   ]
  },
  {
   "cell_type": "code",
   "execution_count": 124,
   "metadata": {},
   "outputs": [],
   "source": [
    "assert np.array(Data_labels_test).shape[1] == N_CLASS"
   ]
  },
  {
   "cell_type": "code",
   "execution_count": 125,
   "metadata": {},
   "outputs": [],
   "source": [
    "from evaluation.evaluate_12ECG_score import compute_modified_confusion_matrix, compute_challenge_metric"
   ]
  },
  {
   "cell_type": "code",
   "execution_count": 126,
   "metadata": {},
   "outputs": [],
   "source": [
    "def compute_score(labels, outputs, weights, normal_index=normal_idx):\n",
    "    num_recordings, num_classes = np.shape(labels)\n",
    "    # Compute the observed score.\n",
    "    A = compute_modified_confusion_matrix(labels, outputs)\n",
    "    observed_score = np.nansum(weights * A)\n",
    "\n",
    "    # Compute the score for the model that always chooses the correct label(s).\n",
    "    correct_outputs = labels\n",
    "    A = compute_modified_confusion_matrix(labels, correct_outputs)\n",
    "    correct_score = np.nansum(weights * A)\n",
    "\n",
    "    # Compute the score for the model that always chooses the normal class.\n",
    "    inactive_outputs = np.zeros((num_recordings, num_classes), dtype=np.bool)\n",
    "    inactive_outputs[:, normal_index] = 1\n",
    "    A = compute_modified_confusion_matrix(labels, inactive_outputs)\n",
    "    inactive_score = np.nansum(weights * A)\n",
    "\n",
    "    if correct_score != inactive_score:\n",
    "        normalized_score = float(observed_score - inactive_score) / float(correct_score - inactive_score)\n",
    "    else:\n",
    "        normalized_score = float('nan')\n",
    "\n",
    "    return normalized_score"
   ]
  },
  {
   "cell_type": "code",
   "execution_count": 127,
   "metadata": {
    "scrolled": true
   },
   "outputs": [],
   "source": [
    "from torchvision import datasets, models, transforms\n",
    "from myeval import agg_y_preds_bags, binary_acc, geometry_loss\n",
    "import torch.optim as optim\n",
    "from torch.optim import lr_scheduler\n",
    "from snippets.pytorchtools import EarlyStopping\n",
    "from sklearn.model_selection import GroupKFold\n",
    "import time\n",
    "\n",
    "st = time.time()\n",
    "patience = 50\n",
    "batch_size= 512#65000\n",
    "\n",
    "saved_dir = '../saved/resnet50/'\n",
    "\n",
    "\n",
    "testDataset = torch.utils.data.Subset(signal_datasets_test, range(0,len(Signals_test), 1))\n",
    "\n",
    "testLoader = torch.utils.data.DataLoader(testDataset, batch_size=65000, shuffle = False, pin_memory=True)\n",
    "\n"
   ]
  },
  {
   "cell_type": "code",
   "execution_count": 128,
   "metadata": {},
   "outputs": [
    {
     "data": {
      "text/plain": [
       "(80312, 12, 750)"
      ]
     },
     "execution_count": 128,
     "metadata": {},
     "output_type": "execute_result"
    }
   ],
   "source": [
    "np.array(Signals_test).shape"
   ]
  },
  {
   "cell_type": "code",
   "execution_count": 129,
   "metadata": {},
   "outputs": [],
   "source": [
    "names = [get_name(label, Dx_map, Dx_map_unscored) for label in labels]\n",
    "\n",
    "assert len(labels) == 27"
   ]
  },
  {
   "cell_type": "code",
   "execution_count": 210,
   "metadata": {
    "scrolled": true
   },
   "outputs": [
    {
     "data": {
      "application/vnd.jupyter.widget-view+json": {
       "model_id": "f5d6d1b55c874a7ca2bc9b5d2517c94f",
       "version_major": 2,
       "version_minor": 0
      },
      "text/plain": [
       "HBox(children=(FloatProgress(value=0.0, max=2.0), HTML(value='')))"
      ]
     },
     "metadata": {},
     "output_type": "display_data"
    },
    {
     "name": "stdout",
     "output_type": "stream",
     "text": [
      "\n"
     ]
    }
   ],
   "source": [
    "y_tests_tensor = None\n",
    "\n",
    "output_tests = []\n",
    "y_tests = []\n",
    "with torch.no_grad():\n",
    "\n",
    "    for X_test, y_test in tqdm(testLoader):  \n",
    "        output_test = model(X_test)\n",
    "        output_tests.append(output_test)\n",
    "        y_tests.append(y_test)\n",
    "\n",
    "    y_tests_tensor = torch.cat(y_tests, axis=0) # ground truth\n",
    "\n",
    "    output_tests = torch.cat(output_tests, axis=0)\n",
    "    y_test_preds = torch.sigmoid(output_tests)\n",
    "\n",
    "#     output_trains = torch.cat(output_trains, axis=0)\n",
    "#     y_train_preds_max, y_train_preds_mean, _ = agg_y_preds_bags(y_train_preds, bag_size=n_segments)\n",
    "#     y_test_preds_max, y_test_preds_mean, _ = agg_y_preds_bags(y_test_preds, bag_size=n_segments)\n",
    "#     _, _, y_trains = agg_y_preds_bags(y_trains, bag_size=n_segments)\n",
    "#     _, _, y_tests = agg_y_preds_bags(y_tests, bag_size=n_segments)\n"
   ]
  },
  {
   "cell_type": "code",
   "execution_count": 211,
   "metadata": {},
   "outputs": [
    {
     "name": "stdout",
     "output_type": "stream",
     "text": [
      "End 66.98 min |\n",
      " Valid: Acc: 0.954, F: 0.194, Fbeta: 0.210, gbeta: 0.099, geo: 0.144, score: -0.188\n",
      " \n"
     ]
    }
   ],
   "source": [
    "from global_vars import weights\n",
    "acc2, fmeasure2, fbeta2, gbeta2 = binary_acc(y_test_preds, y_tests_tensor)\n",
    "geometry2 = geometry_loss(fbeta2, gbeta2)\n",
    "\n",
    "score2 = compute_score(np.round(y_test_preds.data.numpy()), np.round(y_tests_tensor.data.numpy()), weights)\n",
    "output_str = 'End {:.2f} min |\\n Valid: Acc: {:.3f}, F: {:.3f}, Fbeta: {:.3f}, gbeta: {:.3f}, geo: {:.3f}, score: {:.3f}\\n '.format(\n",
    "    (time.time()-st)/60, acc2, fmeasure2, fbeta2, gbeta2, geometry2, score2)\n",
    "\n",
    "print(output_str)\n",
    "\n",
    "#     output_string = 'AUROC|AUPRC|Accuracy|F-measure|Fbeta-measure|Gbeta-measure|Geomotry\\n{:.3f}|{:.3f}|{:.3f}|{:.3f}|{:.3f}|{:.3f}|{:.3f}'.format(auroc2,auprc2,acc2,fmeasure2,fbeta2,gbeta2,geometry2)\n",
    "#     print(output_string)     \n",
    "#     with open(saved_dir+'score'+ str(i)+ '_epoch' + str(epoch) + '.txt', 'w') as f:\n",
    "#         f.write(output_string)\n",
    "\n",
    "#     avg_losses_train = np.array(avg_losses_train)\n",
    "#     avg_losses_test = np.array(avg_losses_test)\n",
    "\n",
    "#     np.save(saved_dir + 'avg_losses_train' + str(i) + '_epoch' + str(epoch), avg_losses_train)\n",
    "#     np.save(saved_dir + 'avg_losses_test' + str(i) + '_epoch' + str(epoch), avg_losses_test)\n"
   ]
  },
  {
   "cell_type": "code",
   "execution_count": 212,
   "metadata": {},
   "outputs": [],
   "source": [
    "from sklearn.metrics import multilabel_confusion_matrix, confusion_matrix\n",
    "from global_vars import labels\n",
    "\n",
    "cf_matrices = multilabel_confusion_matrix(y_tests_tensor.data.numpy(), np.round(y_test_preds.data.numpy()))"
   ]
  },
  {
   "cell_type": "code",
   "execution_count": 213,
   "metadata": {},
   "outputs": [
    {
     "name": "stdout",
     "output_type": "stream",
     "text": [
      "1st degree av block\n",
      "[[74669  1383]\n",
      " [ 3691   569]]\n",
      "\n",
      "\n",
      "atrial fibrillation\n",
      "[[66850  5268]\n",
      " [ 4262  3932]]\n",
      "\n",
      "\n",
      "atrial flutter\n",
      "[[79514    63]\n",
      " [  700    35]]\n",
      "\n",
      "\n",
      "bradycardia\n",
      "[[79731    77]\n",
      " [  488    16]]\n",
      "\n",
      "\n",
      "complete right bundle branch block\n",
      "[[78785   314]\n",
      " [  994   219]]\n",
      "\n",
      "\n",
      "incomplete right bundle branch block\n",
      "[[77118   396]\n",
      " [ 2599   199]]\n",
      "\n",
      "\n",
      "left anterior fascicular block\n",
      "[[76199   996]\n",
      " [ 2054  1063]]\n",
      "\n",
      "\n",
      "left axis deviation\n",
      "[[66033  3937]\n",
      " [ 5696  4646]]\n",
      "\n",
      "\n",
      "left bundle branch block\n",
      "[[77925   315]\n",
      " [ 1125   947]]\n",
      "\n",
      "\n",
      "low qrs voltages\n",
      "[[78927   295]\n",
      " [  973   117]]\n",
      "\n",
      "\n",
      "nonspecific intraventricular conduction disorder\n",
      "[[78660     7]\n",
      " [ 1645     0]]\n",
      "\n",
      "\n",
      "pacing rhythm\n",
      "[[79765    79]\n",
      " [  345   123]]\n",
      "\n",
      "\n",
      "premature atrial contraction\n",
      "[[76713     0]\n",
      " [ 3587    12]]\n",
      "\n",
      "\n",
      "premature ventricular contractions\n",
      "[[79840     0]\n",
      " [  472     0]]\n",
      "\n",
      "\n",
      "prolonged pr interval\n",
      "[[79755     6]\n",
      " [  549     2]]\n",
      "\n",
      "\n",
      "prolonged qt interval\n",
      "[[77354   180]\n",
      " [ 2740    38]]\n",
      "\n",
      "\n",
      "qwave abnormal\n",
      "[[78493    11]\n",
      " [ 1807     1]]\n",
      "\n",
      "\n",
      "right axis deviation\n",
      "[[79472    16]\n",
      " [  815     9]]\n",
      "\n",
      "\n",
      "right bundle branch block\n",
      "[[72909  2163]\n",
      " [ 2182  3058]]\n",
      "\n",
      "\n",
      "sinus arrhythmia\n",
      "[[78383     0]\n",
      " [ 1929     0]]\n",
      "\n",
      "\n",
      "sinus bradycardia\n",
      "[[76208  1413]\n",
      " [ 1571  1120]]\n",
      "\n",
      "\n",
      "sinus rhythm\n",
      "[[28403 17589]\n",
      " [ 6651 27669]]\n",
      "\n",
      "\n",
      "sinus tachycardia\n",
      "[[71640  2164]\n",
      " [ 3195  3313]]\n",
      "\n",
      "\n",
      "supraventricular premature beats\n",
      "[[79911     0]\n",
      " [  401     0]]\n",
      "\n",
      "\n",
      "t wave abnormal\n",
      "[[69746  2271]\n",
      " [ 7059  1236]]\n",
      "\n",
      "\n",
      "t wave inversion\n",
      "[[78312    58]\n",
      " [ 1931    11]]\n",
      "\n",
      "\n",
      "ventricular premature beats\n",
      "[[79625     0]\n",
      " [  687     0]]\n",
      "\n",
      "\n"
     ]
    }
   ],
   "source": [
    "for label, cf_matrix in zip(labels, cf_matrices):\n",
    "    print(get_name(label, Dx_map, Dx_map_unscored))\n",
    "    print(cf_matrix)\n",
    "    print('\\n')\n"
   ]
  },
  {
   "cell_type": "code",
   "execution_count": 214,
   "metadata": {},
   "outputs": [],
   "source": [
    "from signal_processing import find_AD"
   ]
  },
  {
   "cell_type": "code",
   "execution_count": 215,
   "metadata": {},
   "outputs": [
    {
     "data": {
      "application/vnd.jupyter.widget-view+json": {
       "model_id": "55c8504b4ff048b2a5a9b27851632939",
       "version_major": 2,
       "version_minor": 0
      },
      "text/plain": [
       "HBox(children=(FloatProgress(value=0.0, max=12.0), HTML(value='')))"
      ]
     },
     "metadata": {},
     "output_type": "display_data"
    },
    {
     "name": "stdout",
     "output_type": "stream",
     "text": [
      "\n"
     ]
    }
   ],
   "source": [
    "ads = []\n",
    "for signal, label in tqdm(signal_datasets_test):\n",
    "    #print(signal.numpy().shape)\n",
    "    ad = find_AD(signal.numpy().transpose())\n",
    "    ads.append(ad)"
   ]
  },
  {
   "cell_type": "code",
   "execution_count": 216,
   "metadata": {},
   "outputs": [],
   "source": [
    "test_pred_labels = np.round(y_test_preds.data.numpy())"
   ]
  },
  {
   "cell_type": "code",
   "execution_count": 217,
   "metadata": {},
   "outputs": [
    {
     "data": {
      "text/plain": [
       "(80312, 27)"
      ]
     },
     "execution_count": 217,
     "metadata": {},
     "output_type": "execute_result"
    }
   ],
   "source": [
    "test_pred_labels.shape"
   ]
  },
  {
   "cell_type": "code",
   "execution_count": 218,
   "metadata": {},
   "outputs": [],
   "source": [
    "from global_vars import lad_class, rad_class\n",
    "lad_idx = np.argwhere(labels == int(lad_class)).flatten()\n",
    "rad_idx = np.argwhere(labels == int(rad_class)).flatten()"
   ]
  },
  {
   "cell_type": "code",
   "execution_count": 220,
   "metadata": {},
   "outputs": [],
   "source": [
    "for i, ad in enumerate(ads):\n",
    "    if ad == 'LAD':\n",
    "        test_pred_labels[i, lad_idx] = 1\n",
    "        test_pred_labels[i, rad_idx] = 0\n",
    "    elif ad == 'RAD':\n",
    "        test_pred_labels[i, rad_idx] = 1\n",
    "        test_pred_labels[i, lad_idx] = 0\n",
    "    else:\n",
    "        test_pred_labels[i, rad_idx] = 0\n",
    "        test_pred_labels[i, lad_idx] = 0        "
   ]
  },
  {
   "cell_type": "code",
   "execution_count": 221,
   "metadata": {},
   "outputs": [],
   "source": [
    "cf_matrices2 = multilabel_confusion_matrix(y_tests_tensor.data.numpy(), test_pred_labels)"
   ]
  },
  {
   "cell_type": "code",
   "execution_count": 222,
   "metadata": {},
   "outputs": [
    {
     "name": "stdout",
     "output_type": "stream",
     "text": [
      "1st degree av block\n",
      "[[74669  1383]\n",
      " [ 3691   569]]\n",
      "\n",
      "\n",
      "atrial fibrillation\n",
      "[[66850  5268]\n",
      " [ 4262  3932]]\n",
      "\n",
      "\n",
      "atrial flutter\n",
      "[[79514    63]\n",
      " [  700    35]]\n",
      "\n",
      "\n",
      "bradycardia\n",
      "[[79731    77]\n",
      " [  488    16]]\n",
      "\n",
      "\n",
      "complete right bundle branch block\n",
      "[[78785   314]\n",
      " [  994   219]]\n",
      "\n",
      "\n",
      "incomplete right bundle branch block\n",
      "[[77118   396]\n",
      " [ 2599   199]]\n",
      "\n",
      "\n",
      "left anterior fascicular block\n",
      "[[76199   996]\n",
      " [ 2054  1063]]\n",
      "\n",
      "\n",
      "left axis deviation\n",
      "[[52561 17409]\n",
      " [ 3186  7156]]\n",
      "\n",
      "\n",
      "left bundle branch block\n",
      "[[77925   315]\n",
      " [ 1125   947]]\n",
      "\n",
      "\n",
      "low qrs voltages\n",
      "[[78927   295]\n",
      " [  973   117]]\n",
      "\n",
      "\n",
      "nonspecific intraventricular conduction disorder\n",
      "[[78660     7]\n",
      " [ 1645     0]]\n",
      "\n",
      "\n",
      "pacing rhythm\n",
      "[[79765    79]\n",
      " [  345   123]]\n",
      "\n",
      "\n",
      "premature atrial contraction\n",
      "[[76713     0]\n",
      " [ 3587    12]]\n",
      "\n",
      "\n",
      "premature ventricular contractions\n",
      "[[79840     0]\n",
      " [  472     0]]\n",
      "\n",
      "\n",
      "prolonged pr interval\n",
      "[[79755     6]\n",
      " [  549     2]]\n",
      "\n",
      "\n",
      "prolonged qt interval\n",
      "[[77354   180]\n",
      " [ 2740    38]]\n",
      "\n",
      "\n",
      "qwave abnormal\n",
      "[[78493    11]\n",
      " [ 1807     1]]\n",
      "\n",
      "\n",
      "right axis deviation\n",
      "[[71771  7717]\n",
      " [  417   407]]\n",
      "\n",
      "\n",
      "right bundle branch block\n",
      "[[72909  2163]\n",
      " [ 2182  3058]]\n",
      "\n",
      "\n",
      "sinus arrhythmia\n",
      "[[78383     0]\n",
      " [ 1929     0]]\n",
      "\n",
      "\n",
      "sinus bradycardia\n",
      "[[76208  1413]\n",
      " [ 1571  1120]]\n",
      "\n",
      "\n",
      "sinus rhythm\n",
      "[[28403 17589]\n",
      " [ 6651 27669]]\n",
      "\n",
      "\n",
      "sinus tachycardia\n",
      "[[71640  2164]\n",
      " [ 3195  3313]]\n",
      "\n",
      "\n",
      "supraventricular premature beats\n",
      "[[79911     0]\n",
      " [  401     0]]\n",
      "\n",
      "\n",
      "t wave abnormal\n",
      "[[69746  2271]\n",
      " [ 7059  1236]]\n",
      "\n",
      "\n",
      "t wave inversion\n",
      "[[78312    58]\n",
      " [ 1931    11]]\n",
      "\n",
      "\n",
      "ventricular premature beats\n",
      "[[79625     0]\n",
      " [  687     0]]\n",
      "\n",
      "\n"
     ]
    }
   ],
   "source": [
    "for label, cf_matrix in zip(labels, cf_matrices2):\n",
    "    print(get_name(label, Dx_map, Dx_map_unscored))\n",
    "    print(cf_matrix)\n",
    "    print('\\n')\n"
   ]
  },
  {
   "cell_type": "code",
   "execution_count": 223,
   "metadata": {},
   "outputs": [],
   "source": [
    "score2_ad = compute_score(np.round(y_tests_tensor.data.numpy()), test_pred_labels, weights)\n"
   ]
  },
  {
   "cell_type": "code",
   "execution_count": 224,
   "metadata": {},
   "outputs": [
    {
     "data": {
      "text/plain": [
       "(-0.1881169960349324, 0.1320815366277788)"
      ]
     },
     "execution_count": 224,
     "metadata": {},
     "output_type": "execute_result"
    }
   ],
   "source": [
    "score2, score2_ad"
   ]
  },
  {
   "cell_type": "code",
   "execution_count": 225,
   "metadata": {},
   "outputs": [],
   "source": [
    "def aggr_bag_res(test_pred_labels, Idxes_test):\n",
    "    assert len(test_pred_labels) == len(Idxes_test)\n",
    "    uniq = np.unique(Idxes_test, return_counts=True)[1]\n",
    "    cumsum = np.cumsum(uniq)[:-1]\n",
    "    res = np.split(test_pred_labels, cumsum)\n",
    "    agg_res = []\n",
    "    for group in res:\n",
    "        agg_res.append((np.sum(group, axis=0)>1).astype(int))\n",
    "    return np.array(agg_res)\n",
    "    \n",
    "agg_res1 = aggr_bag_res(np.round(y_test_preds.data.numpy()), Idxes_test)\n",
    "\n",
    "agg_res2 = aggr_bag_res(test_pred_labels, Idxes_test)\n",
    "\n",
    "agg_res_truth = aggr_bag_res(np.round(y_tests_tensor.data.numpy()), Idxes_test)\n"
   ]
  },
  {
   "cell_type": "code",
   "execution_count": 226,
   "metadata": {},
   "outputs": [],
   "source": [
    "cf_matrices3 = multilabel_confusion_matrix(agg_res_truth, agg_res1)"
   ]
  },
  {
   "cell_type": "code",
   "execution_count": 227,
   "metadata": {},
   "outputs": [
    {
     "name": "stdout",
     "output_type": "stream",
     "text": [
      "1st degree av block\n",
      "[[7835  305]\n",
      " [ 360  118]]\n",
      "\n",
      "\n",
      "atrial fibrillation\n",
      "[[6999  924]\n",
      " [ 132  563]]\n",
      "\n",
      "\n",
      "atrial flutter\n",
      "[[8544   10]\n",
      " [  60    4]]\n",
      "\n",
      "\n",
      "bradycardia\n",
      "[[8547   14]\n",
      " [  52    5]]\n",
      "\n",
      "\n",
      "complete right bundle branch block\n",
      "[[8417   64]\n",
      " [  89   48]]\n",
      "\n",
      "\n",
      "incomplete right bundle branch block\n",
      "[[8220   75]\n",
      " [ 279   44]]\n",
      "\n",
      "\n",
      "left anterior fascicular block\n",
      "[[8038  219]\n",
      " [ 149  212]]\n",
      "\n",
      "\n",
      "left axis deviation\n",
      "[[6585  816]\n",
      " [ 334  883]]\n",
      "\n",
      "\n",
      "left bundle branch block\n",
      "[[8348   62]\n",
      " [  60  148]]\n",
      "\n",
      "\n",
      "low qrs voltages\n",
      "[[8455   51]\n",
      " [  87   25]]\n",
      "\n",
      "\n",
      "nonspecific intraventricular conduction disorder\n",
      "[[8419    1]\n",
      " [ 198    0]]\n",
      "\n",
      "\n",
      "pacing rhythm\n",
      "[[8544   14]\n",
      " [  34   26]]\n",
      "\n",
      "\n",
      "premature atrial contraction\n",
      "[[8272    0]\n",
      " [ 345    1]]\n",
      "\n",
      "\n",
      "premature ventricular contractions\n",
      "[[8581    0]\n",
      " [  37    0]]\n",
      "\n",
      "\n",
      "prolonged pr interval\n",
      "[[8550    0]\n",
      " [  67    1]]\n",
      "\n",
      "\n",
      "prolonged qt interval\n",
      "[[8283   33]\n",
      " [ 295    7]]\n",
      "\n",
      "\n",
      "qwave abnormal\n",
      "[[8415    0]\n",
      " [ 203    0]]\n",
      "\n",
      "\n",
      "right axis deviation\n",
      "[[8528    4]\n",
      " [  83    3]]\n",
      "\n",
      "\n",
      "right bundle branch block\n",
      "[[7741  396]\n",
      " [  97  384]]\n",
      "\n",
      "\n",
      "sinus arrhythmia\n",
      "[[8370    0]\n",
      " [ 248    0]]\n",
      "\n",
      "\n",
      "sinus bradycardia\n",
      "[[7787  360]\n",
      " [ 156  315]]\n",
      "\n",
      "\n",
      "sinus rhythm\n",
      "[[ 774 3676]\n",
      " [ 120 4048]]\n",
      "\n",
      "\n",
      "sinus tachycardia\n",
      "[[7836  303]\n",
      " [  80  399]]\n",
      "\n",
      "\n",
      "supraventricular premature beats\n",
      "[[8576    0]\n",
      " [  42    0]]\n",
      "\n",
      "\n",
      "t wave abnormal\n",
      "[[7184  499]\n",
      " [ 640  295]]\n",
      "\n",
      "\n",
      "t wave inversion\n",
      "[[8391    5]\n",
      " [ 219    3]]\n",
      "\n",
      "\n",
      "ventricular premature beats\n",
      "[[8545    0]\n",
      " [  73    0]]\n",
      "\n",
      "\n"
     ]
    }
   ],
   "source": [
    "for label, cf_matrix in zip(labels, cf_matrices3):\n",
    "    print(get_name(label, Dx_map, Dx_map_unscored))\n",
    "    print(cf_matrix)\n",
    "    print('\\n')"
   ]
  },
  {
   "cell_type": "code",
   "execution_count": 228,
   "metadata": {},
   "outputs": [],
   "source": [
    "score2_agg1 = compute_score(agg_res_truth, agg_res1, weights)\n",
    "score2_agg2 = compute_score(agg_res_truth, agg_res2, weights)"
   ]
  },
  {
   "cell_type": "code",
   "execution_count": 229,
   "metadata": {},
   "outputs": [
    {
     "data": {
      "text/plain": [
       "(0.3485566601228477, 0.3362706890886994)"
      ]
     },
     "execution_count": 229,
     "metadata": {},
     "output_type": "execute_result"
    }
   ],
   "source": [
    "score2_agg1, score2_agg2"
   ]
  },
  {
   "cell_type": "code",
   "execution_count": null,
   "metadata": {},
   "outputs": [],
   "source": []
  }
 ],
 "metadata": {
  "kernelspec": {
   "display_name": "Python 3.6 (physioNet)",
   "language": "python",
   "name": "physionet"
  },
  "language_info": {
   "codemirror_mode": {
    "name": "ipython",
    "version": 3
   },
   "file_extension": ".py",
   "mimetype": "text/x-python",
   "name": "python",
   "nbconvert_exporter": "python",
   "pygments_lexer": "ipython3",
   "version": "3.6.10"
  }
 },
 "nbformat": 4,
 "nbformat_minor": 4
}
