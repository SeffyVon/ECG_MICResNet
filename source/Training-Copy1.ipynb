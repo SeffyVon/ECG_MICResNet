{
 "cells": [
  {
   "cell_type": "code",
   "execution_count": 1,
   "metadata": {},
   "outputs": [],
   "source": [
    "#!/usr/bin/env python\n",
    "%load_ext autoreload\n",
    "%autoreload 2\n",
    "import matplotlib.pyplot as plt\n",
    "import numpy as np, os, sys\n",
    "from tqdm.notebook import tqdm    \n",
    "from manipulations import get_classes, get_classes_from_header, get_Fs_from_header, load_challenge_data\n",
    "from sklearn.model_selection import KFold, StratifiedKFold"
   ]
  },
  {
   "cell_type": "code",
   "execution_count": 2,
   "metadata": {},
   "outputs": [],
   "source": [
    "N_CLASS = 27"
   ]
  },
  {
   "cell_type": "code",
   "execution_count": 3,
   "metadata": {},
   "outputs": [],
   "source": [
    "MAX_RR = 750 # 60 beats/min => 60 beats/60 s ==> beat/1s ==> 500 samples / beat"
   ]
  },
  {
   "cell_type": "code",
   "execution_count": 4,
   "metadata": {},
   "outputs": [],
   "source": [
    "from manipulations import get_abbr, get_name\n",
    "from global_vars import labels, Dx_map, Dx_map_unscored\n",
    "first_idx = {scored_code: None for scored_code in list(Dx_map['SNOMED CT Code'])}\n",
    "first_idx_unscored = {unscored_code: None for unscored_code in list(Dx_map_unscored['SNOMED CT Code'])}"
   ]
  },
  {
   "cell_type": "code",
   "execution_count": 5,
   "metadata": {},
   "outputs": [],
   "source": [
    "from global_vars import labels, normal_class, equivalent_mapping\n",
    "normal_idx = np.argwhere(labels==int(normal_class))\n",
    "def get_scored_class(code, labels):\n",
    "    return [1 if label in code else 0 for label in labels]"
   ]
  },
  {
   "cell_type": "code",
   "execution_count": 6,
   "metadata": {},
   "outputs": [],
   "source": [
    "\n",
    "\n",
    "# if __name__ == '__main__':\n",
    "    \n",
    "#     Datas = []\n",
    "#     Header_datas = []\n",
    "#     Classes = []\n",
    "#     dataset_idx = {}\n",
    "#     dataset_train_idx = {}\n",
    "#     dataset_test_idx = {}\n",
    "#     global_idx = 0\n",
    "#     datasets = [1,2,3,4,5,6]\n",
    "#     for dataset in datasets:\n",
    "#         print('Dataset ', dataset)\n",
    "#         # Parse arguments.\n",
    "#         if len(sys.argv) != 3:\n",
    "#             raise Exception('Include the input and output directories as arguments, e.g., python driver.py input output.')\n",
    "\n",
    "#         input_directory = '../NewData/{}/'.format(dataset)\n",
    "#         output_directory = '../Output/'\n",
    "\n",
    "#         # Find files.\n",
    "#         input_files = []\n",
    "#         for f in os.listdir(input_directory):\n",
    "#             if os.path.isfile(os.path.join(input_directory, f)) and not f.lower().startswith('.') and f.lower().endswith('mat'):\n",
    "#                 input_files.append(f)\n",
    "\n",
    "#         if not os.path.isdir(output_directory):\n",
    "#             os.mkdir(output_directory)\n",
    "\n",
    "#         classes=get_classes(input_directory,input_files)\n",
    "\n",
    "#         num_files = len(input_files)\n",
    "#         datas = []\n",
    "#         header_datas = []\n",
    "#         dataset_idx[dataset] = []\n",
    "#         for i, f in tqdm(enumerate(input_files)):\n",
    "#             #print('    {}/{}...'.format(i+1, num_files), f)\n",
    "#             tmp_input_file = os.path.join(input_directory,f)\n",
    "#             data,header_data = load_challenge_data(tmp_input_file)\n",
    "#             datas.append(data[:,1000:7000])\n",
    "#             header_datas.append(header_data)\n",
    "#             dataset_idx[dataset].append(global_idx)\n",
    "#             global_idx += 1\n",
    "\n",
    "#         Datas += datas\n",
    "#         Header_datas += header_datas\n",
    "#         Classes += classes\n",
    "        \n",
    "#         kf = KFold(5)\n",
    "#         train_idx, test_idx = next(kf.split(datas))\n",
    "        \n",
    "#         dataset_train_idx[dataset] = train_idx\n",
    "#         dataset_test_idx[dataset] = test_idx\n",
    "#         print('Done.')"
   ]
  },
  {
   "cell_type": "code",
   "execution_count": 7,
   "metadata": {},
   "outputs": [],
   "source": [
    "# datasets = [1,2,3,4,5,6]\n",
    "# all_train_idx = []\n",
    "# for dataset in datasets:\n",
    "#     all_train_idx.extend(dataset_train_idx[dataset])\n",
    "    \n",
    "# all_test_idx = []\n",
    "# for dataset in datasets:\n",
    "#     all_test_idx.extend(dataset_test_idx[dataset])"
   ]
  },
  {
   "cell_type": "markdown",
   "metadata": {},
   "source": [
    "# Segmentation"
   ]
  },
  {
   "cell_type": "code",
   "execution_count": 8,
   "metadata": {},
   "outputs": [],
   "source": [
    "# from signal_processing import myfilter, main_QRST\n",
    "# Codes = []\n",
    "# Q_locs = []\n",
    "# idxes = []\n",
    "# for idx in tqdm(range(0, len(Datas))): \n",
    "#     codes = get_classes_from_header(Header_datas[idx])\n",
    "#     names = ', '.join([get_name(int(code), Dx_map, Dx_map_unscored) for code in codes])\n",
    "\n",
    "#     filtered_Data = myfilter(Datas[idx], 500, vis=False)\n",
    "\n",
    "#     # get the lead to apply Pan Tomkins\n",
    "#     Q_loc = main_QRST(filtered_Data, idx, '', '', names, fig2=False)\n",
    "\n",
    "#     # store\n",
    "#     Codes.append(codes)\n",
    "#     Q_locs.append(Q_loc)\n",
    "\n",
    "#     idxes.append(idx)\n"
   ]
  },
  {
   "cell_type": "code",
   "execution_count": 9,
   "metadata": {},
   "outputs": [],
   "source": [
    "# from signal_processing import myfilter, extract_QRST, main_QRST\n",
    "# idx = 1511#37581#2932#6884 #6884 #6951 #227#8074 #325#158#325#34#17#8659#4#18#61#10927#6886# 8659\n",
    "# codes = get_classes_from_header(Header_datas[idx])\n",
    "# names = ', '.join([get_name(int(code), Dx_map, Dx_map_unscored) for code in codes])\n",
    "# filtered_Data = myfilter(Datas[idx], 500, vis=False)\n",
    "# #filtered_Data = myfilter(Datas[idx][:,-4000:-1000], 500, vis=False)\n",
    "# Q_loc = main_QRST(filtered_Data, idx, '', '', names, fig2=False, verbose=True, vis=True)"
   ]
  },
  {
   "cell_type": "code",
   "execution_count": 10,
   "metadata": {},
   "outputs": [],
   "source": [
    "# import pickle\n",
    "# with open('../saved/newData_idxes_1000_7000_peakdist100.pkl', 'wb') as idxes_file:\n",
    "#     pickle.dump(idxes, idxes_file)\n",
    "\n",
    "# with open('../saved/newData_Codes_1000_7000_peakdist100.pkl', 'wb') as Codes_file:\n",
    "#     pickle.dump(Codes, Codes_file)\n",
    "\n",
    "# with open('../saved/newData_Q_locs_1000_7000_peakdist100.pkl', 'wb') as Q_locs_file:\n",
    "#     pickle.dump(Q_locs, Q_locs_file)\n"
   ]
  },
  {
   "cell_type": "code",
   "execution_count": 11,
   "metadata": {},
   "outputs": [],
   "source": [
    "# import pickle\n",
    "# Q_locs = None\n",
    "# with open('../saved/newData_Q_locs_1000_7000_peakdist100.pkl', 'rb') as Q_locs_file:\n",
    "#     Q_locs = pickle.load(Q_locs_file)\n",
    "\n",
    "# Codes = None\n",
    "# with open('../saved/newData_Codes_1000_7000_peakdist100.pkl', 'rb') as Codes_file:\n",
    "#     Codes = pickle.load(Codes_file)\n",
    "\n",
    "# idxes = None\n",
    "# with open('../saved/newData_idxes_1000_7000_peakdist100.pkl', 'rb') as idxes_file:\n",
    "#     idxes = pickle.load(idxes_file)\n",
    "    "
   ]
  },
  {
   "cell_type": "code",
   "execution_count": 12,
   "metadata": {},
   "outputs": [],
   "source": [
    "# Codes = []\n",
    "# for idx in tqdm(range(0, len(Datas))): \n",
    "#     codes = get_classes_from_header(Header_datas[idx])\n",
    "#     # store\n",
    "#     Codes.append(codes)\n"
   ]
  },
  {
   "cell_type": "code",
   "execution_count": 13,
   "metadata": {},
   "outputs": [],
   "source": [
    "# data_labels = np.array([get_scored_class(codes, labels) for codes in Codes])\n",
    "# print(data_labels.shape)"
   ]
  },
  {
   "cell_type": "code",
   "execution_count": 14,
   "metadata": {},
   "outputs": [],
   "source": [
    "# key_idxes = []\n",
    "# for key in equivalent_mapping.keys():\n",
    "#     print(key)\n",
    "#     key_idx = np.argwhere(labels==int(key)).flatten()[0]\n",
    "#     key_idxes.append(key_idx)\n",
    "#     val_idx = np.argwhere(labels==int(equivalent_mapping[key])).flatten()[0]\n",
    "#     key_pos = np.argwhere(data_labels[:,key_idx]==1).flatten()\n",
    "#     val_pos = np.argwhere(data_labels[:,val_idx]==1).flatten()\n",
    "#     data_labels[key_pos,val_idx] = 1\n",
    "#     data_labels[val_pos,key_idx] = 1"
   ]
  },
  {
   "cell_type": "code",
   "execution_count": 15,
   "metadata": {},
   "outputs": [],
   "source": [
    "# non_empty_idx = np.argwhere(np.sum(data_labels, axis=1)!=0).flatten()\n",
    "# empty_idx = np.argwhere(np.sum(data_labels, axis=1)==0).flatten()"
   ]
  },
  {
   "cell_type": "code",
   "execution_count": 16,
   "metadata": {},
   "outputs": [],
   "source": [
    "# X_train = []\n",
    "# Data_labels_train = []\n",
    "# Idxes_train = []\n",
    "# Idxes_dict_train = {}\n",
    "# ct = 0\n",
    "# for i in tqdm(all_train_idx):\n",
    "#     Q_loc = Q_locs[i]\n",
    "#     RR_avg = np.median([Q_loc[k+1] - Q_loc[k] for k in range(len(Q_loc)-1)])\n",
    "#     RR_th = (0.3 * RR_avg, 3 * RR_avg)\n",
    "    \n",
    "#     ks = [k for k in range(len(Q_loc)-1) if Q_loc[k+1] - Q_loc[k] > RR_th[0] \n",
    "#               and Q_loc[k+1] - Q_loc[k] < RR_th[1]]\n",
    "    \n",
    "    \n",
    "#     Idxes_dict_train[i] = []\n",
    "#     for k in ks:\n",
    "#         Data_labels_train.append(get_scored_class(Codes[i], labels))\n",
    "#         X_train.append(Datas[i][:,1000+Q_loc[k]:1000+Q_loc[k+1]])\n",
    "#         Idxes_train.append(i)\n",
    "#         Idxes_dict_train[i].append(ct)\n",
    "        \n",
    "#     ct += 1"
   ]
  },
  {
   "cell_type": "code",
   "execution_count": 17,
   "metadata": {},
   "outputs": [],
   "source": [
    "# X_test = []\n",
    "# Data_labels_test = []\n",
    "# Idxes_test = []\n",
    "# Idxes_dict_test = {}\n",
    "# ct = 0\n",
    "# for i in tqdm(all_test_idx):\n",
    "        \n",
    "#     Q_loc = Q_locs[i]\n",
    "#     RR_avg = np.median([Q_loc[k+1] - Q_loc[k] for k in range(len(Q_loc)-1)])\n",
    "#     RR_th = (0.3 * RR_avg, 3 * RR_avg)\n",
    "    \n",
    "#     ks = [k for k in range(len(Q_loc)-1) if Q_loc[k+1] - Q_loc[k] > RR_th[0] \n",
    "#               and Q_loc[k+1] - Q_loc[k] < RR_th[1]]\n",
    "    \n",
    "    \n",
    "#     Idxes_dict_test[i] = []\n",
    "#     for k in ks:\n",
    "#         Data_labels_test.append(get_scored_class(Codes[i], labels))\n",
    "#         X_test.append(Datas[i][:,1000+Q_loc[k]:1000+Q_loc[k+1]])\n",
    "#         Idxes_test.append(i)\n",
    "#         Idxes_dict_test[i].append(ct)\n",
    "        \n",
    "#     ct += 1"
   ]
  },
  {
   "cell_type": "code",
   "execution_count": 18,
   "metadata": {},
   "outputs": [],
   "source": [
    "# Signals_train = np.zeros((len(X_train),12,MAX_RR))\n",
    "# for i in range(len(X_train)):\n",
    "#     Signals_train[i,:,:min(len(X_train[i][0]),MAX_RR)] = X_train[i][:,:MAX_RR]"
   ]
  },
  {
   "cell_type": "code",
   "execution_count": 19,
   "metadata": {},
   "outputs": [],
   "source": [
    "# Signals_test = np.zeros((len(X_test),12,MAX_RR))\n",
    "# for i in range(len(X_test)):\n",
    "#     Signals_test[i,:,:min(len(X_test[i][0]),MAX_RR)] = X_test[i][:,:MAX_RR]"
   ]
  },
  {
   "cell_type": "code",
   "execution_count": 20,
   "metadata": {},
   "outputs": [],
   "source": [
    "# np.save('../saved/Signals_train.npy', Signals_train)\n",
    "# np.save('../saved/Signals_test.npy', Signals_test)"
   ]
  },
  {
   "cell_type": "code",
   "execution_count": 21,
   "metadata": {},
   "outputs": [],
   "source": [
    "# import pickle\n",
    "# with open('../saved/Data_labels_train.pkl', 'wb') as Data_labels_train_file:\n",
    "#     pickle.dump(Data_labels_train, Data_labels_train_file)\n",
    "\n",
    "# with open('../saved/Data_labels_test.pkl', 'wb') as Data_labels_test_file:\n",
    "#     pickle.dump(Data_labels_test, Data_labels_test_file)"
   ]
  },
  {
   "cell_type": "markdown",
   "metadata": {},
   "source": [
    "# On y va"
   ]
  },
  {
   "cell_type": "code",
   "execution_count": 22,
   "metadata": {},
   "outputs": [],
   "source": [
    "Signals_train = np.load('../saved/Signals_train.npy')\n",
    "Signals_test = np.load('../saved/Signals_test.npy')"
   ]
  },
  {
   "cell_type": "code",
   "execution_count": 23,
   "metadata": {},
   "outputs": [],
   "source": [
    "import pickle\n",
    "\n",
    "with open('../saved/Data_labels_train.pkl', 'rb') as Data_labels_train_file:\n",
    "    Data_labels_train = pickle.load(Data_labels_train_file)\n",
    "\n",
    "with open('../saved/Data_labels_test.pkl', 'rb') as Data_labels_test_file:\n",
    "    Data_labels_test = pickle.load(Data_labels_test_file)"
   ]
  },
  {
   "cell_type": "code",
   "execution_count": 24,
   "metadata": {},
   "outputs": [],
   "source": [
    "run_name = 'resnet50_minibatch_adam'"
   ]
  },
  {
   "cell_type": "code",
   "execution_count": 25,
   "metadata": {},
   "outputs": [],
   "source": [
    "from torch.utils.tensorboard import SummaryWriter\n",
    "\n",
    "# default `log_dir` is \"runs\" - we'll be more specific here\n",
    "writer = SummaryWriter('runs/{}'.format(run_name))\n"
   ]
  },
  {
   "cell_type": "code",
   "execution_count": 26,
   "metadata": {},
   "outputs": [],
   "source": [
    "import torch\n",
    "import torch.nn as nn\n",
    "import torch.nn.functional as F\n",
    "import torch.optim as optim\n",
    "\n",
    "if torch.cuda.is_available():\n",
    "    device = torch.device('cuda:0')\n",
    "else:\n",
    "    device = torch.device('cpu')"
   ]
  },
  {
   "cell_type": "code",
   "execution_count": 27,
   "metadata": {},
   "outputs": [],
   "source": [
    "import torch\n",
    "from torch import nn"
   ]
  },
  {
   "cell_type": "code",
   "execution_count": 28,
   "metadata": {},
   "outputs": [],
   "source": [
    "\n",
    "def weighted_binary_cross_entropy2(sigmoid_x, y, weighted_matrix, weight=None, reduction=None):\n",
    "    \"\"\"\n",
    "    Aha this is correct!\n",
    "    sigmoid_x = nn.Sigmoid()(x)\n",
    "    Args:\n",
    "        sigmoid_x: predicted probability of size [N,C], N sample and C Class. Eg. Must be in range of [0,1]\n",
    "        targets: true value, one-hot-like vector of size [N,C]\n",
    "        pos_weight: Weight for postive sample\n",
    "    \"\"\"\n",
    "    if not (y.size() == sigmoid_x.size()):\n",
    "        raise ValueError(\"Target size ({}) must be the same as input size ({})\".format(y.size(), sigmoid_x.size()))\n",
    "   \n",
    "    #print(\"y.size(), sigmoid_x.size()\", y.size(), sigmoid_x.size())\n",
    "    sigmoid_x = torch.clamp(sigmoid_x,min=1e-7,max=1-1e-7) \n",
    "    loss = - torch.matmul(y*sigmoid_x.log() + (1-y)*(1-sigmoid_x).log(), weighted_matrix)\n",
    "    \n",
    "    if weight is not None:\n",
    "        loss = loss * weight\n",
    "        \n",
    "    if reduction is None:\n",
    "        return loss\n",
    "    elif reduction == 'mean':\n",
    "        return loss.mean()\n",
    "    elif reduction == 'sum':\n",
    "        return loss.sum()\n",
    "    return None\n",
    "    \n",
    "class WeightedBCELoss(nn.Module):\n",
    "    def __init__(self, weights, PosWeightIsDynamic= False, WeightIsDynamic= False, \n",
    "                 reduction='mean'):\n",
    "        \"\"\"\n",
    "        Args:\n",
    "            pos_weight = Weight for postive samples. Size [1,C]\n",
    "            weight = Weight for Each class. Size [1,C]\n",
    "            PosWeightIsDynamic: If True, the pos_weight is computed on each batch. If pos_weight is None, then it remains None.\n",
    "            WeightIsDynamic: If True, the weight is computed on each batch. If weight is None, then it remains None.\n",
    "        \"\"\"\n",
    "        super().__init__()\n",
    "\n",
    "        self.register_buffer('weights', weights)\n",
    "        self.reduction = reduction\n",
    "        self.PosWeightIsDynamic = PosWeightIsDynamic\n",
    "\n",
    "    def forward(self, input, target):\n",
    "        if self.PosWeightIsDynamic:\n",
    "            positive_counts = target.sum(dim=0)\n",
    "            nBatch = len(target)\n",
    "            self.pos_weight = (nBatch - positive_counts)/(positive_counts +1e-5)\n",
    "\n",
    "\n",
    "        return weighted_binary_cross_entropy2(input, target,\n",
    "                                             weighted_matrix=self.weights,\n",
    "                                             reduction=self.reduction)"
   ]
  },
  {
   "cell_type": "code",
   "execution_count": 29,
   "metadata": {},
   "outputs": [],
   "source": [
    "Signal_12leads_train = np.transpose(Signals_train, (1,0,2))\n",
    "Signal_12leads_test= np.transpose(Signals_test, (1,0,2))"
   ]
  },
  {
   "cell_type": "code",
   "execution_count": 30,
   "metadata": {},
   "outputs": [],
   "source": [
    "from torch.utils.data import Dataset\n",
    "from torchvision import transforms\n",
    "\n",
    "import os\n",
    "class SignalDataset(Dataset):\n",
    "\n",
    "    def __init__(self, signals, labels):\n",
    "        self.signals = signals\n",
    "        self.labels = labels\n",
    "\n",
    "    def __len__(self):\n",
    "        return len(self.signals)\n",
    "\n",
    "    def __getitem__(self, idx):\n",
    "        if torch.is_tensor(idx):\n",
    "            idx = idx.tolist()\n",
    "        sample =(torch.cat([torch.Tensor(np.array([self.signals[channel,idx]]).transpose()) for channel in range(12)], axis=1), \n",
    "                  torch.Tensor(self.labels[idx]))\n",
    "\n",
    "        return sample\n",
    "    \n",
    "signal_datasets_train = SignalDataset(Signal_12leads_train, np.array(Data_labels_train)[:,:N_CLASS])\n",
    "signal_datasets_test = SignalDataset(Signal_12leads_test, np.array(Data_labels_test)[:,:N_CLASS])\n"
   ]
  },
  {
   "cell_type": "code",
   "execution_count": 31,
   "metadata": {},
   "outputs": [],
   "source": [
    "assert np.array(Data_labels_train).shape[1] == N_CLASS"
   ]
  },
  {
   "cell_type": "code",
   "execution_count": 32,
   "metadata": {},
   "outputs": [
    {
     "data": {
      "text/plain": [
       "torch.Size([750, 12])"
      ]
     },
     "execution_count": 32,
     "metadata": {},
     "output_type": "execute_result"
    }
   ],
   "source": [
    "signal_datasets_train[0][0].shape"
   ]
  },
  {
   "cell_type": "code",
   "execution_count": 33,
   "metadata": {},
   "outputs": [],
   "source": [
    "from global_vars import weights"
   ]
  },
  {
   "cell_type": "code",
   "execution_count": 34,
   "metadata": {},
   "outputs": [],
   "source": [
    "weights_tensor = torch.Tensor(weights).to(device)"
   ]
  },
  {
   "cell_type": "code",
   "execution_count": 35,
   "metadata": {},
   "outputs": [],
   "source": [
    "from evaluation.evaluate_12ECG_score import compute_modified_confusion_matrix, compute_challenge_metric"
   ]
  },
  {
   "cell_type": "code",
   "execution_count": 36,
   "metadata": {},
   "outputs": [],
   "source": [
    "def compute_score(labels, outputs, weights, normal_index=normal_idx):\n",
    "    num_recordings, num_classes = np.shape(labels)\n",
    "    # Compute the observed score.\n",
    "    A = compute_modified_confusion_matrix(labels, outputs)\n",
    "    observed_score = np.nansum(weights * A)\n",
    "\n",
    "    # Compute the score for the model that always chooses the correct label(s).\n",
    "    correct_outputs = labels\n",
    "    A = compute_modified_confusion_matrix(labels, correct_outputs)\n",
    "    correct_score = np.nansum(weights * A)\n",
    "\n",
    "    # Compute the score for the model that always chooses the normal class.\n",
    "    inactive_outputs = np.zeros((num_recordings, num_classes), dtype=np.bool)\n",
    "    inactive_outputs[:, normal_index] = 1\n",
    "    A = compute_modified_confusion_matrix(labels, inactive_outputs)\n",
    "    inactive_score = np.nansum(weights * A)\n",
    "\n",
    "    if correct_score != inactive_score:\n",
    "        normalized_score = float(observed_score - inactive_score) / float(correct_score - inactive_score)\n",
    "    else:\n",
    "        normalized_score = float('nan')\n",
    "\n",
    "    return normalized_score"
   ]
  },
  {
   "cell_type": "code",
   "execution_count": 37,
   "metadata": {},
   "outputs": [],
   "source": [
    "def add_pr_curve_tensorboard(class_index, test_probs, test_preds, names, global_step, prefix):\n",
    "    '''\n",
    "    Takes in a \"class_index\" from 0 to 9 and plots the corresponding\n",
    "    precision-recall curve\n",
    "    '''\n",
    "\n",
    "    writer.add_pr_curve(prefix + '_' + names[class_index],\n",
    "                        test_preds[:,class_index],\n",
    "                        test_probs[:,class_index],\n",
    "                        global_step=global_step)\n",
    "    writer.close()"
   ]
  },
  {
   "cell_type": "code",
   "execution_count": 38,
   "metadata": {},
   "outputs": [],
   "source": [
    "pos_weight = np.ones(N_CLASS) * 2\n",
    "pos_weight = torch.Tensor(pos_weight).to(device)"
   ]
  },
  {
   "cell_type": "code",
   "execution_count": 39,
   "metadata": {},
   "outputs": [],
   "source": [
    "import torch\n",
    "dummy = torch.ones((10, 750, 48))"
   ]
  },
  {
   "cell_type": "code",
   "execution_count": 40,
   "metadata": {},
   "outputs": [
    {
     "name": "stdout",
     "output_type": "stream",
     "text": [
      "ECGResNet50(\n",
      "  (encoder): ResNetEncoder(\n",
      "    (gate): Sequential(\n",
      "      (0): Conv1d(750, 64, kernel_size=(9,), stride=(1,), bias=False)\n",
      "      (1): BatchNorm1d(64, eps=1e-05, momentum=0.1, affine=True, track_running_stats=True)\n",
      "      (2): ReLU(inplace=True)\n",
      "      (3): MaxPool1d(kernel_size=3, stride=3, padding=0, dilation=1, ceil_mode=False)\n",
      "    )\n",
      "    (blocks): ModuleList(\n",
      "      (0): ResNetLayer(\n",
      "        (blocks): Sequential(\n",
      "          (0): ResNet753Block(\n",
      "            (blocks): Sequential(\n",
      "              (0): Sequential(\n",
      "                (0): Conv1dAuto(64, 64, kernel_size=(7,), stride=(1,), padding=(3,), bias=False)\n",
      "                (1): BatchNorm1d(64, eps=1e-05, momentum=0.1, affine=True, track_running_stats=True)\n",
      "              )\n",
      "              (1): ReLU(inplace=True)\n",
      "              (2): Sequential(\n",
      "                (0): Conv1dAuto(64, 64, kernel_size=(5,), stride=(1,), padding=(2,), bias=False)\n",
      "                (1): BatchNorm1d(64, eps=1e-05, momentum=0.1, affine=True, track_running_stats=True)\n",
      "              )\n",
      "              (3): ReLU(inplace=True)\n",
      "              (4): Sequential(\n",
      "                (0): Conv1dAuto(64, 64, kernel_size=(3,), stride=(1,), padding=(1,), bias=False)\n",
      "                (1): BatchNorm1d(64, eps=1e-05, momentum=0.1, affine=True, track_running_stats=True)\n",
      "              )\n",
      "            )\n",
      "            (activate): ReLU(inplace=True)\n",
      "            (shortcut): Sequential(\n",
      "              (0): Conv1d(64, 64, kernel_size=(1,), stride=(1,), bias=False)\n",
      "              (1): BatchNorm1d(64, eps=1e-05, momentum=0.1, affine=True, track_running_stats=True)\n",
      "            )\n",
      "          )\n",
      "          (1): ResNet753Block(\n",
      "            (blocks): Sequential(\n",
      "              (0): Sequential(\n",
      "                (0): Conv1dAuto(64, 64, kernel_size=(7,), stride=(1,), padding=(3,), bias=False)\n",
      "                (1): BatchNorm1d(64, eps=1e-05, momentum=0.1, affine=True, track_running_stats=True)\n",
      "              )\n",
      "              (1): ReLU(inplace=True)\n",
      "              (2): Sequential(\n",
      "                (0): Conv1dAuto(64, 64, kernel_size=(5,), stride=(1,), padding=(2,), bias=False)\n",
      "                (1): BatchNorm1d(64, eps=1e-05, momentum=0.1, affine=True, track_running_stats=True)\n",
      "              )\n",
      "              (3): ReLU(inplace=True)\n",
      "              (4): Sequential(\n",
      "                (0): Conv1dAuto(64, 64, kernel_size=(3,), stride=(1,), padding=(1,), bias=False)\n",
      "                (1): BatchNorm1d(64, eps=1e-05, momentum=0.1, affine=True, track_running_stats=True)\n",
      "              )\n",
      "            )\n",
      "            (activate): ReLU(inplace=True)\n",
      "            (shortcut): Sequential(\n",
      "              (0): Conv1d(64, 64, kernel_size=(1,), stride=(1,), bias=False)\n",
      "              (1): BatchNorm1d(64, eps=1e-05, momentum=0.1, affine=True, track_running_stats=True)\n",
      "            )\n",
      "          )\n",
      "        )\n",
      "      )\n",
      "      (1): ResNetLayer(\n",
      "        (blocks): Sequential(\n",
      "          (0): ResNet753Block(\n",
      "            (blocks): Sequential(\n",
      "              (0): Sequential(\n",
      "                (0): Conv1dAuto(64, 64, kernel_size=(7,), stride=(1,), padding=(3,), bias=False)\n",
      "                (1): BatchNorm1d(64, eps=1e-05, momentum=0.1, affine=True, track_running_stats=True)\n",
      "              )\n",
      "              (1): ReLU(inplace=True)\n",
      "              (2): Sequential(\n",
      "                (0): Conv1dAuto(64, 64, kernel_size=(5,), stride=(2,), padding=(2,), bias=False)\n",
      "                (1): BatchNorm1d(64, eps=1e-05, momentum=0.1, affine=True, track_running_stats=True)\n",
      "              )\n",
      "              (3): ReLU(inplace=True)\n",
      "              (4): Sequential(\n",
      "                (0): Conv1dAuto(64, 64, kernel_size=(3,), stride=(1,), padding=(1,), bias=False)\n",
      "                (1): BatchNorm1d(64, eps=1e-05, momentum=0.1, affine=True, track_running_stats=True)\n",
      "              )\n",
      "            )\n",
      "            (activate): ReLU(inplace=True)\n",
      "            (shortcut): Sequential(\n",
      "              (0): Conv1d(64, 64, kernel_size=(1,), stride=(2,), bias=False)\n",
      "              (1): BatchNorm1d(64, eps=1e-05, momentum=0.1, affine=True, track_running_stats=True)\n",
      "            )\n",
      "          )\n",
      "          (1): ResNet753Block(\n",
      "            (blocks): Sequential(\n",
      "              (0): Sequential(\n",
      "                (0): Conv1dAuto(64, 64, kernel_size=(7,), stride=(1,), padding=(3,), bias=False)\n",
      "                (1): BatchNorm1d(64, eps=1e-05, momentum=0.1, affine=True, track_running_stats=True)\n",
      "              )\n",
      "              (1): ReLU(inplace=True)\n",
      "              (2): Sequential(\n",
      "                (0): Conv1dAuto(64, 64, kernel_size=(5,), stride=(1,), padding=(2,), bias=False)\n",
      "                (1): BatchNorm1d(64, eps=1e-05, momentum=0.1, affine=True, track_running_stats=True)\n",
      "              )\n",
      "              (3): ReLU(inplace=True)\n",
      "              (4): Sequential(\n",
      "                (0): Conv1dAuto(64, 64, kernel_size=(3,), stride=(1,), padding=(1,), bias=False)\n",
      "                (1): BatchNorm1d(64, eps=1e-05, momentum=0.1, affine=True, track_running_stats=True)\n",
      "              )\n",
      "            )\n",
      "            (activate): ReLU(inplace=True)\n",
      "            (shortcut): Sequential(\n",
      "              (0): Conv1d(64, 64, kernel_size=(1,), stride=(1,), bias=False)\n",
      "              (1): BatchNorm1d(64, eps=1e-05, momentum=0.1, affine=True, track_running_stats=True)\n",
      "            )\n",
      "          )\n",
      "          (2): ResNet753Block(\n",
      "            (blocks): Sequential(\n",
      "              (0): Sequential(\n",
      "                (0): Conv1dAuto(64, 64, kernel_size=(7,), stride=(1,), padding=(3,), bias=False)\n",
      "                (1): BatchNorm1d(64, eps=1e-05, momentum=0.1, affine=True, track_running_stats=True)\n",
      "              )\n",
      "              (1): ReLU(inplace=True)\n",
      "              (2): Sequential(\n",
      "                (0): Conv1dAuto(64, 64, kernel_size=(5,), stride=(1,), padding=(2,), bias=False)\n",
      "                (1): BatchNorm1d(64, eps=1e-05, momentum=0.1, affine=True, track_running_stats=True)\n",
      "              )\n",
      "              (3): ReLU(inplace=True)\n",
      "              (4): Sequential(\n",
      "                (0): Conv1dAuto(64, 128, kernel_size=(3,), stride=(1,), padding=(1,), bias=False)\n",
      "                (1): BatchNorm1d(128, eps=1e-05, momentum=0.1, affine=True, track_running_stats=True)\n",
      "              )\n",
      "            )\n",
      "            (activate): ReLU(inplace=True)\n",
      "            (shortcut): Sequential(\n",
      "              (0): Conv1d(64, 128, kernel_size=(1,), stride=(1,), bias=False)\n",
      "              (1): BatchNorm1d(128, eps=1e-05, momentum=0.1, affine=True, track_running_stats=True)\n",
      "            )\n",
      "          )\n",
      "        )\n",
      "      )\n",
      "      (2): ResNetLayer(\n",
      "        (blocks): Sequential(\n",
      "          (0): ResNet753Block(\n",
      "            (blocks): Sequential(\n",
      "              (0): Sequential(\n",
      "                (0): Conv1dAuto(128, 128, kernel_size=(7,), stride=(1,), padding=(3,), bias=False)\n",
      "                (1): BatchNorm1d(128, eps=1e-05, momentum=0.1, affine=True, track_running_stats=True)\n",
      "              )\n",
      "              (1): ReLU(inplace=True)\n",
      "              (2): Sequential(\n",
      "                (0): Conv1dAuto(128, 128, kernel_size=(5,), stride=(1,), padding=(2,), bias=False)\n",
      "                (1): BatchNorm1d(128, eps=1e-05, momentum=0.1, affine=True, track_running_stats=True)\n",
      "              )\n",
      "              (3): ReLU(inplace=True)\n",
      "              (4): Sequential(\n",
      "                (0): Conv1dAuto(128, 128, kernel_size=(3,), stride=(1,), padding=(1,), bias=False)\n",
      "                (1): BatchNorm1d(128, eps=1e-05, momentum=0.1, affine=True, track_running_stats=True)\n",
      "              )\n",
      "            )\n",
      "            (activate): ReLU(inplace=True)\n",
      "            (shortcut): Sequential(\n",
      "              (0): Conv1d(128, 128, kernel_size=(1,), stride=(1,), bias=False)\n",
      "              (1): BatchNorm1d(128, eps=1e-05, momentum=0.1, affine=True, track_running_stats=True)\n",
      "            )\n",
      "          )\n",
      "          (1): ResNet753Block(\n",
      "            (blocks): Sequential(\n",
      "              (0): Sequential(\n",
      "                (0): Conv1dAuto(128, 128, kernel_size=(7,), stride=(1,), padding=(3,), bias=False)\n",
      "                (1): BatchNorm1d(128, eps=1e-05, momentum=0.1, affine=True, track_running_stats=True)\n",
      "              )\n",
      "              (1): ReLU(inplace=True)\n",
      "              (2): Sequential(\n",
      "                (0): Conv1dAuto(128, 128, kernel_size=(5,), stride=(1,), padding=(2,), bias=False)\n",
      "                (1): BatchNorm1d(128, eps=1e-05, momentum=0.1, affine=True, track_running_stats=True)\n",
      "              )\n",
      "              (3): ReLU(inplace=True)\n",
      "              (4): Sequential(\n",
      "                (0): Conv1dAuto(128, 128, kernel_size=(3,), stride=(1,), padding=(1,), bias=False)\n",
      "                (1): BatchNorm1d(128, eps=1e-05, momentum=0.1, affine=True, track_running_stats=True)\n",
      "              )\n",
      "            )\n",
      "            (activate): ReLU(inplace=True)\n",
      "            (shortcut): Sequential(\n",
      "              (0): Conv1d(128, 128, kernel_size=(1,), stride=(1,), bias=False)\n",
      "              (1): BatchNorm1d(128, eps=1e-05, momentum=0.1, affine=True, track_running_stats=True)\n",
      "            )\n",
      "          )\n",
      "          (2): ResNet753Block(\n",
      "            (blocks): Sequential(\n",
      "              (0): Sequential(\n",
      "                (0): Conv1dAuto(128, 128, kernel_size=(7,), stride=(1,), padding=(3,), bias=False)\n",
      "                (1): BatchNorm1d(128, eps=1e-05, momentum=0.1, affine=True, track_running_stats=True)\n",
      "              )\n",
      "              (1): ReLU(inplace=True)\n",
      "              (2): Sequential(\n",
      "                (0): Conv1dAuto(128, 128, kernel_size=(5,), stride=(1,), padding=(2,), bias=False)\n",
      "                (1): BatchNorm1d(128, eps=1e-05, momentum=0.1, affine=True, track_running_stats=True)\n",
      "              )\n",
      "              (3): ReLU(inplace=True)\n",
      "              (4): Sequential(\n",
      "                (0): Conv1dAuto(128, 128, kernel_size=(3,), stride=(1,), padding=(1,), bias=False)\n",
      "                (1): BatchNorm1d(128, eps=1e-05, momentum=0.1, affine=True, track_running_stats=True)\n",
      "              )\n",
      "            )\n",
      "            (activate): ReLU(inplace=True)\n",
      "            (shortcut): Sequential(\n",
      "              (0): Conv1d(128, 128, kernel_size=(1,), stride=(1,), bias=False)\n",
      "              (1): BatchNorm1d(128, eps=1e-05, momentum=0.1, affine=True, track_running_stats=True)\n",
      "            )\n",
      "          )\n",
      "        )\n",
      "      )\n",
      "    )\n",
      "  )\n",
      "  (decoder): ResnetDecoder(\n",
      "    (avg): AdaptiveAvgPool1d(output_size=(1,))\n",
      "    (decoder): Linear(in_features=128, out_features=27, bias=True)\n",
      "  )\n",
      ")\n"
     ]
    }
   ],
   "source": [
    "from resnet1d import ECGResNet50\n",
    "model = ECGResNet50(750, 27)\n",
    "print(model)"
   ]
  },
  {
   "cell_type": "code",
   "execution_count": 41,
   "metadata": {},
   "outputs": [
    {
     "data": {
      "text/plain": [
       "tensor([[-0.0741, -0.0539, -0.0556,  0.0414, -0.0480,  0.0719,  0.0662,  0.0294,\n",
       "          0.0207,  0.0109,  0.0641, -0.0077,  0.0524,  0.0706, -0.0367, -0.0092,\n",
       "          0.0353,  0.0855,  0.0653,  0.0440, -0.0372, -0.0086, -0.0448, -0.0148,\n",
       "          0.0657,  0.0576, -0.0504],\n",
       "        [-0.0741, -0.0539, -0.0556,  0.0414, -0.0480,  0.0719,  0.0662,  0.0294,\n",
       "          0.0207,  0.0109,  0.0641, -0.0077,  0.0524,  0.0706, -0.0367, -0.0092,\n",
       "          0.0353,  0.0855,  0.0653,  0.0440, -0.0372, -0.0086, -0.0448, -0.0148,\n",
       "          0.0657,  0.0576, -0.0504],\n",
       "        [-0.0741, -0.0539, -0.0556,  0.0414, -0.0480,  0.0719,  0.0662,  0.0294,\n",
       "          0.0207,  0.0109,  0.0641, -0.0077,  0.0524,  0.0706, -0.0367, -0.0092,\n",
       "          0.0353,  0.0855,  0.0653,  0.0440, -0.0372, -0.0086, -0.0448, -0.0148,\n",
       "          0.0657,  0.0576, -0.0504],\n",
       "        [-0.0741, -0.0539, -0.0556,  0.0414, -0.0480,  0.0719,  0.0662,  0.0294,\n",
       "          0.0207,  0.0109,  0.0641, -0.0077,  0.0524,  0.0706, -0.0367, -0.0092,\n",
       "          0.0353,  0.0855,  0.0653,  0.0440, -0.0372, -0.0086, -0.0448, -0.0148,\n",
       "          0.0657,  0.0576, -0.0504],\n",
       "        [-0.0741, -0.0539, -0.0556,  0.0414, -0.0480,  0.0719,  0.0662,  0.0294,\n",
       "          0.0207,  0.0109,  0.0641, -0.0077,  0.0524,  0.0706, -0.0367, -0.0092,\n",
       "          0.0353,  0.0855,  0.0653,  0.0440, -0.0372, -0.0086, -0.0448, -0.0148,\n",
       "          0.0657,  0.0576, -0.0504],\n",
       "        [-0.0741, -0.0539, -0.0556,  0.0414, -0.0480,  0.0719,  0.0662,  0.0294,\n",
       "          0.0207,  0.0109,  0.0641, -0.0077,  0.0524,  0.0706, -0.0367, -0.0092,\n",
       "          0.0353,  0.0855,  0.0653,  0.0440, -0.0372, -0.0086, -0.0448, -0.0148,\n",
       "          0.0657,  0.0576, -0.0504],\n",
       "        [-0.0741, -0.0539, -0.0556,  0.0414, -0.0480,  0.0719,  0.0662,  0.0294,\n",
       "          0.0207,  0.0109,  0.0641, -0.0077,  0.0524,  0.0706, -0.0367, -0.0092,\n",
       "          0.0353,  0.0855,  0.0653,  0.0440, -0.0372, -0.0086, -0.0448, -0.0148,\n",
       "          0.0657,  0.0576, -0.0504],\n",
       "        [-0.0741, -0.0539, -0.0556,  0.0414, -0.0480,  0.0719,  0.0662,  0.0294,\n",
       "          0.0207,  0.0109,  0.0641, -0.0077,  0.0524,  0.0706, -0.0367, -0.0092,\n",
       "          0.0353,  0.0855,  0.0653,  0.0440, -0.0372, -0.0086, -0.0448, -0.0148,\n",
       "          0.0657,  0.0576, -0.0504],\n",
       "        [-0.0741, -0.0539, -0.0556,  0.0414, -0.0480,  0.0719,  0.0662,  0.0294,\n",
       "          0.0207,  0.0109,  0.0641, -0.0077,  0.0524,  0.0706, -0.0367, -0.0092,\n",
       "          0.0353,  0.0855,  0.0653,  0.0440, -0.0372, -0.0086, -0.0448, -0.0148,\n",
       "          0.0657,  0.0576, -0.0504],\n",
       "        [-0.0741, -0.0539, -0.0556,  0.0414, -0.0480,  0.0719,  0.0662,  0.0294,\n",
       "          0.0207,  0.0109,  0.0641, -0.0077,  0.0524,  0.0706, -0.0367, -0.0092,\n",
       "          0.0353,  0.0855,  0.0653,  0.0440, -0.0372, -0.0086, -0.0448, -0.0148,\n",
       "          0.0657,  0.0576, -0.0504]], grad_fn=<AddmmBackward>)"
      ]
     },
     "execution_count": 41,
     "metadata": {},
     "output_type": "execute_result"
    }
   ],
   "source": [
    "model(dummy)"
   ]
  },
  {
   "cell_type": "code",
   "execution_count": 42,
   "metadata": {
    "scrolled": true
   },
   "outputs": [],
   "source": [
    "from torchvision import datasets, models, transforms\n",
    "from myeval import agg_y_preds_bags, binary_acc, geometry_loss\n",
    "import torch.optim as optim\n",
    "from torch.optim import lr_scheduler\n",
    "from snippets.pytorchtools import EarlyStopping\n",
    "from sklearn.model_selection import GroupKFold\n",
    "import time\n",
    "\n",
    "st = time.time()\n",
    "patience = 50\n",
    "batch_size= 512#65000\n",
    "\n",
    "saved_dir = '../saved/resnet50/'\n",
    "model.to(device)\n",
    "\n",
    "\n",
    "trainDataset = torch.utils.data.Subset(signal_datasets_train, range(0,len(Signals_train), 1))\n",
    "testDataset = torch.utils.data.Subset(signal_datasets_test, range(0,len(Signals_test), 1))\n",
    "\n",
    "trainLoader = torch.utils.data.DataLoader(trainDataset, batch_size=batch_size, shuffle = True, pin_memory=True)#sampler = sampler)\n",
    "testLoader = torch.utils.data.DataLoader(testDataset, batch_size=65000, shuffle = False, pin_memory=True)\n",
    "\n",
    "\n",
    "optimizer = optim.Adam(model.parameters(), lr=0.01) \n",
    "#optimizer = optim.SGD(model.parameters(), lr=0.001, momentum=0.9) #\n",
    "# Decay LR by a factor of 0.1 every 100 epochs\n",
    "scheduler = lr_scheduler.StepLR(optimizer, step_size=50, gamma=0.1)\n",
    "\n",
    "#criterion_train = WeightedBCELoss(weights=weights_tensor, reduction='mean')\n",
    "#criterion_test = WeightedBCELoss(weights=weights_tensor, reduction='mean')\n",
    "\n",
    "class_weights_train = 1.0/np.sum(Data_labels_train, axis=0)\n",
    "class_weights_train = class_weights_train / np.sum(class_weights_train)\n",
    "class_weights_train = torch.Tensor(class_weights_train).to(device)\n",
    "criterion_train = nn.BCEWithLogitsLoss(pos_weight=pos_weight, reduction='mean') \n",
    "criterion_test = nn.BCEWithLogitsLoss(pos_weight=pos_weight, reduction='mean') \n",
    "\n",
    "losses_train = []\n",
    "losses_test = []\n",
    "\n",
    "avg_losses_train = []\n",
    "avg_losses_test = []\n",
    "\n",
    "\n",
    "early_stopping = EarlyStopping(patience, verbose=False, \n",
    "                              saved_dir=saved_dir, \n",
    "                              save_name='resnet50_'+run_name)\n"
   ]
  },
  {
   "cell_type": "code",
   "execution_count": 45,
   "metadata": {},
   "outputs": [],
   "source": [
    "optimizer = optim.Adam(model.parameters(), lr=0.01) \n",
    "#optimizer = optim.SGD(model.parameters(), lr=0.001, momentum=0.9) #\n",
    "# Decay LR by a factor of 0.1 every 100 epochs\n",
    "scheduler = lr_scheduler.StepLR(optimizer, step_size=50, gamma=0.1)"
   ]
  },
  {
   "cell_type": "code",
   "execution_count": 43,
   "metadata": {},
   "outputs": [],
   "source": [
    "names = [get_name(label, Dx_map, Dx_map_unscored) for label in labels]\n",
    "\n",
    "assert len(labels) == 27"
   ]
  },
  {
   "cell_type": "code",
   "execution_count": 46,
   "metadata": {
    "scrolled": true
   },
   "outputs": [
    {
     "data": {
      "application/vnd.jupyter.widget-view+json": {
       "model_id": "684e725ccf6f4d4aa04c14984caca292",
       "version_major": 2,
       "version_minor": 0
      },
      "text/plain": [
       "HBox(children=(FloatProgress(value=1.0, bar_style='info', max=1.0), HTML(value='')))"
      ]
     },
     "metadata": {},
     "output_type": "display_data"
    },
    {
     "name": "stdout",
     "output_type": "stream",
     "text": [
      "\n",
      "S59 266.72 min |\n",
      " Train Loss: 0.112691, Acc: 0.975, F: 0.265, Fbeta: 0.294, gbeta: 0.147, geo: 0.208, score: 0.338 |\n",
      " Valid Loss: 0.082327, Acc: 0.980, F: 0.384, Fbeta: 0.393, gbeta: 0.337, geo: 0.364, score: 0.457\n",
      " \n"
     ]
    },
    {
     "data": {
      "application/vnd.jupyter.widget-view+json": {
       "model_id": "e851d12c25fe41f3958303957d63e0b2",
       "version_major": 2,
       "version_minor": 0
      },
      "text/plain": [
       "HBox(children=(FloatProgress(value=1.0, bar_style='info', max=1.0), HTML(value='')))"
      ]
     },
     "metadata": {},
     "output_type": "display_data"
    },
    {
     "name": "stdout",
     "output_type": "stream",
     "text": [
      "\n",
      "S60 271.07 min |\n",
      " Train Loss: 0.112709, Acc: 0.975, F: 0.260, Fbeta: 0.289, gbeta: 0.144, geo: 0.204, score: 0.335 |\n",
      " Valid Loss: 0.082356, Acc: 0.980, F: 0.463, Fbeta: 0.471, gbeta: 0.414, geo: 0.442, score: 0.512\n",
      " \n"
     ]
    },
    {
     "data": {
      "application/vnd.jupyter.widget-view+json": {
       "model_id": "ef3ad4be9f34478f926301dcaeab1af6",
       "version_major": 2,
       "version_minor": 0
      },
      "text/plain": [
       "HBox(children=(FloatProgress(value=1.0, bar_style='info', max=1.0), HTML(value='')))"
      ]
     },
     "metadata": {},
     "output_type": "display_data"
    },
    {
     "name": "stdout",
     "output_type": "stream",
     "text": [
      "\n",
      "S61 275.43 min |\n",
      " Train Loss: 0.112701, Acc: 0.976, F: 0.269, Fbeta: 0.298, gbeta: 0.149, geo: 0.211, score: 0.350 |\n",
      " Valid Loss: 0.082391, Acc: 0.980, F: 0.464, Fbeta: 0.472, gbeta: 0.415, geo: 0.443, score: 0.506\n",
      " \n"
     ]
    },
    {
     "data": {
      "application/vnd.jupyter.widget-view+json": {
       "model_id": "0af85d60af6a4e58a3bcbda1d826c83c",
       "version_major": 2,
       "version_minor": 0
      },
      "text/plain": [
       "HBox(children=(FloatProgress(value=1.0, bar_style='info', max=1.0), HTML(value='')))"
      ]
     },
     "metadata": {},
     "output_type": "display_data"
    },
    {
     "name": "stdout",
     "output_type": "stream",
     "text": [
      "\n",
      "S62 279.88 min |\n",
      " Train Loss: 0.112684, Acc: 0.976, F: 0.271, Fbeta: 0.300, gbeta: 0.151, geo: 0.213, score: 0.358 |\n",
      " Valid Loss: 0.082350, Acc: 0.981, F: 0.392, Fbeta: 0.401, gbeta: 0.343, geo: 0.371, score: 0.548\n",
      " \n"
     ]
    },
    {
     "data": {
      "application/vnd.jupyter.widget-view+json": {
       "model_id": "f01033dffcc843e89716f6bbc996f4db",
       "version_major": 2,
       "version_minor": 0
      },
      "text/plain": [
       "HBox(children=(FloatProgress(value=1.0, bar_style='info', max=1.0), HTML(value='')))"
      ]
     },
     "metadata": {},
     "output_type": "display_data"
    },
    {
     "name": "stdout",
     "output_type": "stream",
     "text": [
      "\n",
      "S63 284.34 min |\n",
      " Train Loss: 0.112665, Acc: 0.976, F: 0.275, Fbeta: 0.305, gbeta: 0.153, geo: 0.216, score: 0.357 |\n",
      " Valid Loss: 0.082323, Acc: 0.982, F: 0.427, Fbeta: 0.436, gbeta: 0.380, geo: 0.407, score: 0.571\n",
      " \n"
     ]
    },
    {
     "data": {
      "application/vnd.jupyter.widget-view+json": {
       "model_id": "2e8c326083fd4c39b625e6f4525c6c19",
       "version_major": 2,
       "version_minor": 0
      },
      "text/plain": [
       "HBox(children=(FloatProgress(value=1.0, bar_style='info', max=1.0), HTML(value='')))"
      ]
     },
     "metadata": {},
     "output_type": "display_data"
    },
    {
     "name": "stdout",
     "output_type": "stream",
     "text": [
      "\n",
      "S64 288.75 min |\n",
      " Train Loss: 0.112630, Acc: 0.976, F: 0.278, Fbeta: 0.308, gbeta: 0.155, geo: 0.219, score: 0.366 |\n",
      " Valid Loss: 0.082275, Acc: 0.981, F: 0.355, Fbeta: 0.364, gbeta: 0.305, geo: 0.333, score: 0.532\n",
      " \n"
     ]
    },
    {
     "data": {
      "application/vnd.jupyter.widget-view+json": {
       "model_id": "8bee190137334b45916411f3611e71e3",
       "version_major": 2,
       "version_minor": 0
      },
      "text/plain": [
       "HBox(children=(FloatProgress(value=1.0, bar_style='info', max=1.0), HTML(value='')))"
      ]
     },
     "metadata": {},
     "output_type": "display_data"
    },
    {
     "name": "stdout",
     "output_type": "stream",
     "text": [
      "\n",
      "S65 293.16 min |\n",
      " Train Loss: 0.112591, Acc: 0.976, F: 0.280, Fbeta: 0.311, gbeta: 0.157, geo: 0.221, score: 0.368 |\n",
      " Valid Loss: 0.082277, Acc: 0.981, F: 0.504, Fbeta: 0.512, gbeta: 0.454, geo: 0.482, score: 0.499\n",
      " \n"
     ]
    },
    {
     "data": {
      "application/vnd.jupyter.widget-view+json": {
       "model_id": "fd65069ccaf9407b96f6679159842f27",
       "version_major": 2,
       "version_minor": 0
      },
      "text/plain": [
       "HBox(children=(FloatProgress(value=1.0, bar_style='info', max=1.0), HTML(value='')))"
      ]
     },
     "metadata": {},
     "output_type": "display_data"
    },
    {
     "name": "stdout",
     "output_type": "stream",
     "text": [
      "\n",
      "S66 297.59 min |\n",
      " Train Loss: 0.112556, Acc: 0.976, F: 0.281, Fbeta: 0.312, gbeta: 0.157, geo: 0.221, score: 0.367 |\n",
      " Valid Loss: 0.082215, Acc: 0.982, F: 0.433, Fbeta: 0.441, gbeta: 0.384, geo: 0.411, score: 0.542\n",
      " \n"
     ]
    },
    {
     "data": {
      "application/vnd.jupyter.widget-view+json": {
       "model_id": "3b2f40f551114755b526fbaf0eb39970",
       "version_major": 2,
       "version_minor": 0
      },
      "text/plain": [
       "HBox(children=(FloatProgress(value=1.0, bar_style='info', max=1.0), HTML(value='')))"
      ]
     },
     "metadata": {},
     "output_type": "display_data"
    },
    {
     "name": "stdout",
     "output_type": "stream",
     "text": [
      "\n",
      "S67 302.11 min |\n",
      " Train Loss: 0.112501, Acc: 0.976, F: 0.287, Fbeta: 0.318, gbeta: 0.161, geo: 0.226, score: 0.383 |\n",
      " Valid Loss: 0.082196, Acc: 0.981, F: 0.433, Fbeta: 0.440, gbeta: 0.383, geo: 0.410, score: 0.498\n",
      " \n"
     ]
    },
    {
     "data": {
      "application/vnd.jupyter.widget-view+json": {
       "model_id": "1d71e9b9699b4e40a4e0bda2c2ae63a1",
       "version_major": 2,
       "version_minor": 0
      },
      "text/plain": [
       "HBox(children=(FloatProgress(value=1.0, bar_style='info', max=1.0), HTML(value='')))"
      ]
     },
     "metadata": {},
     "output_type": "display_data"
    },
    {
     "name": "stdout",
     "output_type": "stream",
     "text": [
      "\n",
      "S68 306.55 min |\n",
      " Train Loss: 0.112439, Acc: 0.976, F: 0.291, Fbeta: 0.323, gbeta: 0.163, geo: 0.230, score: 0.389 |\n",
      " Valid Loss: 0.082176, Acc: 0.981, F: 0.397, Fbeta: 0.405, gbeta: 0.347, geo: 0.375, score: 0.516\n",
      " \n"
     ]
    },
    {
     "data": {
      "application/vnd.jupyter.widget-view+json": {
       "model_id": "718a92ae347c4608ae92b314991cbd49",
       "version_major": 2,
       "version_minor": 0
      },
      "text/plain": [
       "HBox(children=(FloatProgress(value=1.0, bar_style='info', max=1.0), HTML(value='')))"
      ]
     },
     "metadata": {},
     "output_type": "display_data"
    },
    {
     "name": "stdout",
     "output_type": "stream",
     "text": [
      "\n",
      "S69 311.01 min |\n",
      " Train Loss: 0.112368, Acc: 0.977, F: 0.294, Fbeta: 0.326, gbeta: 0.166, geo: 0.233, score: 0.394 |\n",
      " Valid Loss: 0.082128, Acc: 0.978, F: 0.356, Fbeta: 0.360, gbeta: 0.304, geo: 0.331, score: 0.324\n",
      " \n"
     ]
    },
    {
     "data": {
      "application/vnd.jupyter.widget-view+json": {
       "model_id": "c71f146aa0c44a44b307f1d3a388ef8d",
       "version_major": 2,
       "version_minor": 0
      },
      "text/plain": [
       "HBox(children=(FloatProgress(value=1.0, bar_style='info', max=1.0), HTML(value='')))"
      ]
     },
     "metadata": {},
     "output_type": "display_data"
    },
    {
     "name": "stdout",
     "output_type": "stream",
     "text": [
      "\n",
      "S70 315.47 min |\n",
      " Train Loss: 0.112296, Acc: 0.977, F: 0.296, Fbeta: 0.329, gbeta: 0.167, geo: 0.234, score: 0.396 |\n",
      " Valid Loss: 0.082063, Acc: 0.982, F: 0.433, Fbeta: 0.442, gbeta: 0.384, geo: 0.412, score: 0.573\n",
      " \n"
     ]
    },
    {
     "data": {
      "application/vnd.jupyter.widget-view+json": {
       "model_id": "0d0fb77c9e6f4b86b7919c893c632985",
       "version_major": 2,
       "version_minor": 0
      },
      "text/plain": [
       "HBox(children=(FloatProgress(value=1.0, bar_style='info', max=1.0), HTML(value='')))"
      ]
     },
     "metadata": {},
     "output_type": "display_data"
    },
    {
     "name": "stdout",
     "output_type": "stream",
     "text": [
      "\n",
      "S71 319.95 min |\n",
      " Train Loss: 0.112219, Acc: 0.977, F: 0.298, Fbeta: 0.331, gbeta: 0.168, geo: 0.236, score: 0.399 |\n",
      " Valid Loss: 0.082005, Acc: 0.982, F: 0.434, Fbeta: 0.442, gbeta: 0.385, geo: 0.413, score: 0.557\n",
      " \n"
     ]
    },
    {
     "data": {
      "application/vnd.jupyter.widget-view+json": {
       "model_id": "c5748c0f9606452f80eb97ec508db67b",
       "version_major": 2,
       "version_minor": 0
      },
      "text/plain": [
       "HBox(children=(FloatProgress(value=1.0, bar_style='info', max=1.0), HTML(value='')))"
      ]
     },
     "metadata": {},
     "output_type": "display_data"
    },
    {
     "name": "stdout",
     "output_type": "stream",
     "text": [
      "\n",
      "S72 324.40 min |\n",
      " Train Loss: 0.112132, Acc: 0.977, F: 0.302, Fbeta: 0.335, gbeta: 0.171, geo: 0.239, score: 0.407 |\n",
      " Valid Loss: 0.081994, Acc: 0.981, F: 0.356, Fbeta: 0.366, gbeta: 0.306, geo: 0.335, score: 0.521\n",
      " \n"
     ]
    },
    {
     "data": {
      "application/vnd.jupyter.widget-view+json": {
       "model_id": "6bfe46d304d4479192fde68a2b22b835",
       "version_major": 2,
       "version_minor": 0
      },
      "text/plain": [
       "HBox(children=(FloatProgress(value=1.0, bar_style='info', max=1.0), HTML(value='')))"
      ]
     },
     "metadata": {},
     "output_type": "display_data"
    },
    {
     "name": "stdout",
     "output_type": "stream",
     "text": [
      "\n",
      "S73 328.85 min |\n",
      " Train Loss: 0.112045, Acc: 0.977, F: 0.304, Fbeta: 0.338, gbeta: 0.171, geo: 0.241, score: 0.405 |\n",
      " Valid Loss: 0.081880, Acc: 0.982, F: 0.363, Fbeta: 0.370, gbeta: 0.312, geo: 0.340, score: 0.526\n",
      " \n"
     ]
    },
    {
     "data": {
      "application/vnd.jupyter.widget-view+json": {
       "model_id": "ad1f1b9a28e04d57b3932acba4b13de5",
       "version_major": 2,
       "version_minor": 0
      },
      "text/plain": [
       "HBox(children=(FloatProgress(value=1.0, bar_style='info', max=1.0), HTML(value='')))"
      ]
     },
     "metadata": {},
     "output_type": "display_data"
    },
    {
     "name": "stdout",
     "output_type": "stream",
     "text": [
      "\n",
      "S74 333.33 min |\n",
      " Train Loss: 0.111950, Acc: 0.977, F: 0.309, Fbeta: 0.342, gbeta: 0.174, geo: 0.244, score: 0.406 |\n",
      " Valid Loss: 0.081782, Acc: 0.983, F: 0.473, Fbeta: 0.481, gbeta: 0.423, geo: 0.451, score: 0.587\n",
      " \n"
     ]
    },
    {
     "data": {
      "application/vnd.jupyter.widget-view+json": {
       "model_id": "cf8f4dfa2c4b4689aede40f5d970b6ce",
       "version_major": 2,
       "version_minor": 0
      },
      "text/plain": [
       "HBox(children=(FloatProgress(value=1.0, bar_style='info', max=1.0), HTML(value='')))"
      ]
     },
     "metadata": {},
     "output_type": "display_data"
    },
    {
     "name": "stdout",
     "output_type": "stream",
     "text": [
      "\n",
      "S75 337.77 min |\n",
      " Train Loss: 0.111852, Acc: 0.977, F: 0.310, Fbeta: 0.344, gbeta: 0.176, geo: 0.246, score: 0.419 |\n",
      " Valid Loss: 0.081723, Acc: 0.982, F: 0.322, Fbeta: 0.331, gbeta: 0.273, geo: 0.301, score: 0.559\n",
      " \n"
     ]
    },
    {
     "data": {
      "application/vnd.jupyter.widget-view+json": {
       "model_id": "94868106ae7d4fbdb3bcb83583359a8d",
       "version_major": 2,
       "version_minor": 0
      },
      "text/plain": [
       "HBox(children=(FloatProgress(value=1.0, bar_style='info', max=1.0), HTML(value='')))"
      ]
     },
     "metadata": {},
     "output_type": "display_data"
    },
    {
     "name": "stdout",
     "output_type": "stream",
     "text": [
      "\n",
      "S76 342.20 min |\n",
      " Train Loss: 0.111752, Acc: 0.977, F: 0.312, Fbeta: 0.346, gbeta: 0.177, geo: 0.247, score: 0.417 |\n",
      " Valid Loss: 0.081624, Acc: 0.983, F: 0.326, Fbeta: 0.335, gbeta: 0.276, geo: 0.304, score: 0.569\n",
      " \n"
     ]
    },
    {
     "data": {
      "application/vnd.jupyter.widget-view+json": {
       "model_id": "ecb9a2126f1a487aa77a109f4dd8139b",
       "version_major": 2,
       "version_minor": 0
      },
      "text/plain": [
       "HBox(children=(FloatProgress(value=1.0, bar_style='info', max=1.0), HTML(value='')))"
      ]
     },
     "metadata": {},
     "output_type": "display_data"
    },
    {
     "name": "stdout",
     "output_type": "stream",
     "text": [
      "\n",
      "S77 346.57 min |\n",
      " Train Loss: 0.111660, Acc: 0.977, F: 0.308, Fbeta: 0.341, gbeta: 0.174, geo: 0.244, score: 0.413 |\n",
      " Valid Loss: 0.081526, Acc: 0.983, F: 0.397, Fbeta: 0.406, gbeta: 0.348, geo: 0.376, score: 0.553\n",
      " \n"
     ]
    },
    {
     "data": {
      "application/vnd.jupyter.widget-view+json": {
       "model_id": "320f9326f8de4c1296ddb239d9e68e34",
       "version_major": 2,
       "version_minor": 0
      },
      "text/plain": [
       "HBox(children=(FloatProgress(value=1.0, bar_style='info', max=1.0), HTML(value='')))"
      ]
     },
     "metadata": {},
     "output_type": "display_data"
    },
    {
     "name": "stdout",
     "output_type": "stream",
     "text": [
      "\n",
      "S78 350.94 min |\n",
      " Train Loss: 0.111557, Acc: 0.977, F: 0.314, Fbeta: 0.349, gbeta: 0.178, geo: 0.249, score: 0.422 |\n",
      " Valid Loss: 0.081434, Acc: 0.982, F: 0.401, Fbeta: 0.409, gbeta: 0.351, geo: 0.379, score: 0.569\n",
      " \n"
     ]
    },
    {
     "data": {
      "application/vnd.jupyter.widget-view+json": {
       "model_id": "b9ad3dbbf7be4eb6b421e88fae66a8f5",
       "version_major": 2,
       "version_minor": 0
      },
      "text/plain": [
       "HBox(children=(FloatProgress(value=1.0, bar_style='info', max=1.0), HTML(value='')))"
      ]
     },
     "metadata": {},
     "output_type": "display_data"
    },
    {
     "name": "stdout",
     "output_type": "stream",
     "text": [
      "\n",
      "S79 355.32 min |\n",
      " Train Loss: 0.111449, Acc: 0.977, F: 0.320, Fbeta: 0.355, gbeta: 0.182, geo: 0.254, score: 0.427 |\n",
      " Valid Loss: 0.081372, Acc: 0.982, F: 0.323, Fbeta: 0.331, gbeta: 0.273, geo: 0.300, score: 0.531\n",
      " \n"
     ]
    },
    {
     "data": {
      "application/vnd.jupyter.widget-view+json": {
       "model_id": "e6dd23bf5a414420bf4a791933707124",
       "version_major": 2,
       "version_minor": 0
      },
      "text/plain": [
       "HBox(children=(FloatProgress(value=1.0, bar_style='info', max=1.0), HTML(value='')))"
      ]
     },
     "metadata": {},
     "output_type": "display_data"
    },
    {
     "name": "stdout",
     "output_type": "stream",
     "text": [
      "\n",
      "S80 359.69 min |\n",
      " Train Loss: 0.111345, Acc: 0.977, F: 0.318, Fbeta: 0.353, gbeta: 0.181, geo: 0.253, score: 0.424 |\n",
      " Valid Loss: 0.081274, Acc: 0.982, F: 0.329, Fbeta: 0.336, gbeta: 0.278, geo: 0.306, score: 0.534\n",
      " \n"
     ]
    },
    {
     "data": {
      "application/vnd.jupyter.widget-view+json": {
       "model_id": "bafb4ef3ff43440e8b79c6b48c2ff776",
       "version_major": 2,
       "version_minor": 0
      },
      "text/plain": [
       "HBox(children=(FloatProgress(value=1.0, bar_style='info', max=1.0), HTML(value='')))"
      ]
     },
     "metadata": {},
     "output_type": "display_data"
    },
    {
     "name": "stdout",
     "output_type": "stream",
     "text": [
      "\n",
      "S81 364.05 min |\n",
      " Train Loss: 0.111232, Acc: 0.978, F: 0.323, Fbeta: 0.359, gbeta: 0.184, geo: 0.257, score: 0.431 |\n",
      " Valid Loss: 0.081207, Acc: 0.982, F: 0.326, Fbeta: 0.334, gbeta: 0.276, geo: 0.304, score: 0.552\n",
      " \n"
     ]
    },
    {
     "data": {
      "application/vnd.jupyter.widget-view+json": {
       "model_id": "38462165a39e4284aa1f19f095bd2893",
       "version_major": 2,
       "version_minor": 0
      },
      "text/plain": [
       "HBox(children=(FloatProgress(value=1.0, bar_style='info', max=1.0), HTML(value='')))"
      ]
     },
     "metadata": {},
     "output_type": "display_data"
    },
    {
     "name": "stdout",
     "output_type": "stream",
     "text": [
      "\n",
      "S82 368.50 min |\n",
      " Train Loss: 0.111122, Acc: 0.978, F: 0.325, Fbeta: 0.361, gbeta: 0.185, geo: 0.258, score: 0.433 |\n",
      " Valid Loss: 0.081123, Acc: 0.983, F: 0.401, Fbeta: 0.410, gbeta: 0.351, geo: 0.379, score: 0.594\n",
      " \n"
     ]
    },
    {
     "data": {
      "application/vnd.jupyter.widget-view+json": {
       "model_id": "6517a3d22c874c63a787a3c92766cb9d",
       "version_major": 2,
       "version_minor": 0
      },
      "text/plain": [
       "HBox(children=(FloatProgress(value=1.0, bar_style='info', max=1.0), HTML(value='')))"
      ]
     },
     "metadata": {},
     "output_type": "display_data"
    },
    {
     "name": "stdout",
     "output_type": "stream",
     "text": [
      "\n",
      "S83 372.90 min |\n",
      " Train Loss: 0.111013, Acc: 0.978, F: 0.323, Fbeta: 0.358, gbeta: 0.184, geo: 0.257, score: 0.433 |\n",
      " Valid Loss: 0.081025, Acc: 0.983, F: 0.367, Fbeta: 0.375, gbeta: 0.317, geo: 0.345, score: 0.577\n",
      " \n"
     ]
    },
    {
     "data": {
      "application/vnd.jupyter.widget-view+json": {
       "model_id": "8a10c8d4ef1e4336acf4b58e5bbf4225",
       "version_major": 2,
       "version_minor": 0
      },
      "text/plain": [
       "HBox(children=(FloatProgress(value=1.0, bar_style='info', max=1.0), HTML(value='')))"
      ]
     },
     "metadata": {},
     "output_type": "display_data"
    },
    {
     "name": "stdout",
     "output_type": "stream",
     "text": [
      "\n",
      "S84 377.26 min |\n",
      " Train Loss: 0.110899, Acc: 0.978, F: 0.327, Fbeta: 0.362, gbeta: 0.186, geo: 0.260, score: 0.441 |\n",
      " Valid Loss: 0.080927, Acc: 0.982, F: 0.257, Fbeta: 0.264, gbeta: 0.206, geo: 0.233, score: 0.547\n",
      " \n"
     ]
    },
    {
     "data": {
      "application/vnd.jupyter.widget-view+json": {
       "model_id": "539f24428a9f4f2899038878fc08b23d",
       "version_major": 2,
       "version_minor": 0
      },
      "text/plain": [
       "HBox(children=(FloatProgress(value=1.0, bar_style='info', max=1.0), HTML(value='')))"
      ]
     },
     "metadata": {},
     "output_type": "display_data"
    },
    {
     "name": "stdout",
     "output_type": "stream",
     "text": [
      "\n",
      "S85 381.67 min |\n",
      " Train Loss: 0.110782, Acc: 0.978, F: 0.332, Fbeta: 0.368, gbeta: 0.189, geo: 0.264, score: 0.438 |\n",
      " Valid Loss: 0.080820, Acc: 0.983, F: 0.293, Fbeta: 0.300, gbeta: 0.242, geo: 0.269, score: 0.584\n",
      " \n"
     ]
    },
    {
     "data": {
      "application/vnd.jupyter.widget-view+json": {
       "model_id": "4cdb37d7da864ff3bc4599ea3ea93d83",
       "version_major": 2,
       "version_minor": 0
      },
      "text/plain": [
       "HBox(children=(FloatProgress(value=1.0, bar_style='info', max=1.0), HTML(value='')))"
      ]
     },
     "metadata": {},
     "output_type": "display_data"
    },
    {
     "name": "stdout",
     "output_type": "stream",
     "text": [
      "\n",
      "S86 386.09 min |\n",
      " Train Loss: 0.110664, Acc: 0.978, F: 0.332, Fbeta: 0.368, gbeta: 0.190, geo: 0.264, score: 0.445 |\n",
      " Valid Loss: 0.080740, Acc: 0.983, F: 0.366, Fbeta: 0.374, gbeta: 0.316, geo: 0.344, score: 0.570\n",
      " \n"
     ]
    },
    {
     "data": {
      "application/vnd.jupyter.widget-view+json": {
       "model_id": "c26fa53ac64a410fb77b443f88e07e87",
       "version_major": 2,
       "version_minor": 0
      },
      "text/plain": [
       "HBox(children=(FloatProgress(value=1.0, bar_style='info', max=1.0), HTML(value='')))"
      ]
     },
     "metadata": {},
     "output_type": "display_data"
    },
    {
     "name": "stdout",
     "output_type": "stream",
     "text": [
      "\n",
      "S87 390.51 min |\n",
      " Train Loss: 0.110575, Acc: 0.977, F: 0.321, Fbeta: 0.357, gbeta: 0.182, geo: 0.255, score: 0.422 |\n",
      " Valid Loss: 0.080681, Acc: 0.983, F: 0.291, Fbeta: 0.300, gbeta: 0.241, geo: 0.269, score: 0.590\n",
      " \n"
     ]
    },
    {
     "data": {
      "application/vnd.jupyter.widget-view+json": {
       "model_id": "f19efd3e378c4a659f359ef9d6e3b515",
       "version_major": 2,
       "version_minor": 0
      },
      "text/plain": [
       "HBox(children=(FloatProgress(value=1.0, bar_style='info', max=1.0), HTML(value='')))"
      ]
     },
     "metadata": {},
     "output_type": "display_data"
    },
    {
     "name": "stdout",
     "output_type": "stream",
     "text": [
      "\n",
      "S88 394.97 min |\n",
      " Train Loss: 0.110453, Acc: 0.978, F: 0.336, Fbeta: 0.372, gbeta: 0.192, geo: 0.268, score: 0.452 |\n",
      " Valid Loss: 0.080588, Acc: 0.983, F: 0.291, Fbeta: 0.300, gbeta: 0.241, geo: 0.269, score: 0.582\n",
      " \n"
     ]
    },
    {
     "data": {
      "application/vnd.jupyter.widget-view+json": {
       "model_id": "7d220066e5c848e18932ba02305696f2",
       "version_major": 2,
       "version_minor": 0
      },
      "text/plain": [
       "HBox(children=(FloatProgress(value=1.0, bar_style='info', max=1.0), HTML(value='')))"
      ]
     },
     "metadata": {},
     "output_type": "display_data"
    },
    {
     "name": "stdout",
     "output_type": "stream",
     "text": [
      "\n",
      "S89 399.44 min |\n",
      " Train Loss: 0.110330, Acc: 0.978, F: 0.339, Fbeta: 0.376, gbeta: 0.194, geo: 0.270, score: 0.455 |\n",
      " Valid Loss: 0.080503, Acc: 0.983, F: 0.294, Fbeta: 0.302, gbeta: 0.243, geo: 0.271, score: 0.597\n",
      " \n"
     ]
    },
    {
     "data": {
      "application/vnd.jupyter.widget-view+json": {
       "model_id": "ae537a82cfd54ea98a1ab0c25ce72cfd",
       "version_major": 2,
       "version_minor": 0
      },
      "text/plain": [
       "HBox(children=(FloatProgress(value=1.0, bar_style='info', max=1.0), HTML(value='')))"
      ]
     },
     "metadata": {},
     "output_type": "display_data"
    },
    {
     "name": "stdout",
     "output_type": "stream",
     "text": [
      "\n",
      "S90 403.85 min |\n",
      " Train Loss: 0.110210, Acc: 0.978, F: 0.339, Fbeta: 0.375, gbeta: 0.194, geo: 0.270, score: 0.452 |\n",
      " Valid Loss: 0.080449, Acc: 0.983, F: 0.296, Fbeta: 0.303, gbeta: 0.244, geo: 0.272, score: 0.559\n",
      " \n"
     ]
    },
    {
     "data": {
      "application/vnd.jupyter.widget-view+json": {
       "model_id": "91755f124c064046a10a686ff77471e7",
       "version_major": 2,
       "version_minor": 0
      },
      "text/plain": [
       "HBox(children=(FloatProgress(value=1.0, bar_style='info', max=1.0), HTML(value='')))"
      ]
     },
     "metadata": {},
     "output_type": "display_data"
    },
    {
     "name": "stdout",
     "output_type": "stream",
     "text": [
      "\n",
      "S91 408.33 min |\n",
      " Train Loss: 0.110088, Acc: 0.978, F: 0.342, Fbeta: 0.379, gbeta: 0.196, geo: 0.273, score: 0.457 |\n",
      " Valid Loss: 0.080383, Acc: 0.982, F: 0.295, Fbeta: 0.302, gbeta: 0.244, geo: 0.271, score: 0.530\n",
      " \n"
     ]
    },
    {
     "data": {
      "application/vnd.jupyter.widget-view+json": {
       "model_id": "219eef370379403e864ad308ec9c71a1",
       "version_major": 2,
       "version_minor": 0
      },
      "text/plain": [
       "HBox(children=(FloatProgress(value=1.0, bar_style='info', max=1.0), HTML(value='')))"
      ]
     },
     "metadata": {},
     "output_type": "display_data"
    },
    {
     "name": "stdout",
     "output_type": "stream",
     "text": [
      "\n",
      "S92 412.83 min |\n",
      " Train Loss: 0.109978, Acc: 0.978, F: 0.339, Fbeta: 0.377, gbeta: 0.194, geo: 0.270, score: 0.454 |\n",
      " Valid Loss: 0.080284, Acc: 0.983, F: 0.295, Fbeta: 0.303, gbeta: 0.244, geo: 0.272, score: 0.592\n",
      " \n"
     ]
    },
    {
     "data": {
      "application/vnd.jupyter.widget-view+json": {
       "model_id": "805b568641c343078070a11ccc903e82",
       "version_major": 2,
       "version_minor": 0
      },
      "text/plain": [
       "HBox(children=(FloatProgress(value=1.0, bar_style='info', max=1.0), HTML(value='')))"
      ]
     },
     "metadata": {},
     "output_type": "display_data"
    },
    {
     "name": "stdout",
     "output_type": "stream",
     "text": [
      "\n",
      "S93 417.33 min |\n",
      " Train Loss: 0.109855, Acc: 0.978, F: 0.345, Fbeta: 0.382, gbeta: 0.197, geo: 0.275, score: 0.463 |\n",
      " Valid Loss: 0.080206, Acc: 0.983, F: 0.330, Fbeta: 0.338, gbeta: 0.279, geo: 0.307, score: 0.546\n",
      " \n"
     ]
    },
    {
     "data": {
      "application/vnd.jupyter.widget-view+json": {
       "model_id": "1ecaa0a976414c68bb7af6166c1bdb6d",
       "version_major": 2,
       "version_minor": 0
      },
      "text/plain": [
       "HBox(children=(FloatProgress(value=1.0, bar_style='info', max=1.0), HTML(value='')))"
      ]
     },
     "metadata": {},
     "output_type": "display_data"
    },
    {
     "name": "stdout",
     "output_type": "stream",
     "text": [
      "\n",
      "S94 421.83 min |\n",
      " Train Loss: 0.109732, Acc: 0.978, F: 0.346, Fbeta: 0.385, gbeta: 0.199, geo: 0.277, score: 0.462 |\n",
      " Valid Loss: 0.080101, Acc: 0.983, F: 0.371, Fbeta: 0.377, gbeta: 0.320, geo: 0.348, score: 0.579\n",
      " \n"
     ]
    },
    {
     "data": {
      "application/vnd.jupyter.widget-view+json": {
       "model_id": "4164e5d26686443bb7f28a5def5232df",
       "version_major": 2,
       "version_minor": 0
      },
      "text/plain": [
       "HBox(children=(FloatProgress(value=1.0, bar_style='info', max=1.0), HTML(value='')))"
      ]
     },
     "metadata": {},
     "output_type": "display_data"
    },
    {
     "name": "stdout",
     "output_type": "stream",
     "text": [
      "\n",
      "S95 426.30 min |\n",
      " Train Loss: 0.109608, Acc: 0.978, F: 0.347, Fbeta: 0.384, gbeta: 0.199, geo: 0.276, score: 0.463 |\n",
      " Valid Loss: 0.080010, Acc: 0.983, F: 0.333, Fbeta: 0.340, gbeta: 0.282, geo: 0.310, score: 0.574\n",
      " \n"
     ]
    },
    {
     "data": {
      "application/vnd.jupyter.widget-view+json": {
       "model_id": "e6f29cc2a19445baa3451e097624519d",
       "version_major": 2,
       "version_minor": 0
      },
      "text/plain": [
       "HBox(children=(FloatProgress(value=1.0, bar_style='info', max=1.0), HTML(value='')))"
      ]
     },
     "metadata": {},
     "output_type": "display_data"
    },
    {
     "name": "stdout",
     "output_type": "stream",
     "text": [
      "\n",
      "S96 430.75 min |\n",
      " Train Loss: 0.109487, Acc: 0.979, F: 0.349, Fbeta: 0.388, gbeta: 0.200, geo: 0.279, score: 0.465 |\n",
      " Valid Loss: 0.079910, Acc: 0.983, F: 0.220, Fbeta: 0.229, gbeta: 0.170, geo: 0.197, score: 0.614\n",
      " \n"
     ]
    },
    {
     "data": {
      "application/vnd.jupyter.widget-view+json": {
       "model_id": "f096b35561954b419418288f1cfa19c0",
       "version_major": 2,
       "version_minor": 0
      },
      "text/plain": [
       "HBox(children=(FloatProgress(value=1.0, bar_style='info', max=1.0), HTML(value='')))"
      ]
     },
     "metadata": {},
     "output_type": "display_data"
    },
    {
     "name": "stdout",
     "output_type": "stream",
     "text": [
      "\n",
      "S97 435.20 min |\n",
      " Train Loss: 0.109367, Acc: 0.979, F: 0.348, Fbeta: 0.386, gbeta: 0.200, geo: 0.278, score: 0.467 |\n",
      " Valid Loss: 0.079817, Acc: 0.983, F: 0.296, Fbeta: 0.304, gbeta: 0.245, geo: 0.273, score: 0.611\n",
      " \n"
     ]
    },
    {
     "data": {
      "application/vnd.jupyter.widget-view+json": {
       "model_id": "b5388723ffb546c3b9bca1f253b0925b",
       "version_major": 2,
       "version_minor": 0
      },
      "text/plain": [
       "HBox(children=(FloatProgress(value=1.0, bar_style='info', max=1.0), HTML(value='')))"
      ]
     },
     "metadata": {},
     "output_type": "display_data"
    },
    {
     "name": "stdout",
     "output_type": "stream",
     "text": [
      "\n",
      "S98 439.66 min |\n",
      " Train Loss: 0.109247, Acc: 0.979, F: 0.349, Fbeta: 0.387, gbeta: 0.200, geo: 0.278, score: 0.467 |\n",
      " Valid Loss: 0.079748, Acc: 0.983, F: 0.258, Fbeta: 0.266, gbeta: 0.208, geo: 0.235, score: 0.580\n",
      " \n"
     ]
    },
    {
     "data": {
      "application/vnd.jupyter.widget-view+json": {
       "model_id": "15b5d8ead9604f3c9ae38f40538c1adb",
       "version_major": 2,
       "version_minor": 0
      },
      "text/plain": [
       "HBox(children=(FloatProgress(value=1.0, bar_style='info', max=1.0), HTML(value='')))"
      ]
     },
     "metadata": {},
     "output_type": "display_data"
    },
    {
     "name": "stdout",
     "output_type": "stream",
     "text": [
      "\n",
      "S99 444.06 min |\n",
      " Train Loss: 0.109125, Acc: 0.979, F: 0.351, Fbeta: 0.390, gbeta: 0.202, geo: 0.281, score: 0.471 |\n",
      " Valid Loss: 0.079640, Acc: 0.984, F: 0.296, Fbeta: 0.305, gbeta: 0.246, geo: 0.274, score: 0.604\n",
      " \n"
     ]
    },
    {
     "data": {
      "application/vnd.jupyter.widget-view+json": {
       "model_id": "4234fa762bc347d7b45d73c6cba9e728",
       "version_major": 2,
       "version_minor": 0
      },
      "text/plain": [
       "HBox(children=(FloatProgress(value=1.0, bar_style='info', max=1.0), HTML(value='')))"
      ]
     },
     "metadata": {},
     "output_type": "display_data"
    },
    {
     "name": "stdout",
     "output_type": "stream",
     "text": [
      "\n",
      "S100 448.47 min |\n",
      " Train Loss: 0.109002, Acc: 0.979, F: 0.354, Fbeta: 0.393, gbeta: 0.204, geo: 0.283, score: 0.472 |\n",
      " Valid Loss: 0.079529, Acc: 0.984, F: 0.224, Fbeta: 0.232, gbeta: 0.173, geo: 0.200, score: 0.604\n",
      " \n"
     ]
    },
    {
     "data": {
      "application/vnd.jupyter.widget-view+json": {
       "model_id": "277541df93c943e7bc20fa15f6e3c391",
       "version_major": 2,
       "version_minor": 0
      },
      "text/plain": [
       "HBox(children=(FloatProgress(value=1.0, bar_style='info', max=1.0), HTML(value='')))"
      ]
     },
     "metadata": {},
     "output_type": "display_data"
    },
    {
     "name": "stdout",
     "output_type": "stream",
     "text": [
      "\n",
      "S101 452.89 min |\n",
      " Train Loss: 0.108882, Acc: 0.979, F: 0.353, Fbeta: 0.392, gbeta: 0.203, geo: 0.282, score: 0.473 |\n",
      " Valid Loss: 0.079433, Acc: 0.983, F: 0.148, Fbeta: 0.156, gbeta: 0.098, geo: 0.123, score: 0.595\n",
      " \n"
     ]
    },
    {
     "data": {
      "application/vnd.jupyter.widget-view+json": {
       "model_id": "82191d8ed2384831929ca3f17064fe32",
       "version_major": 2,
       "version_minor": 0
      },
      "text/plain": [
       "HBox(children=(FloatProgress(value=1.0, bar_style='info', max=1.0), HTML(value='')))"
      ]
     },
     "metadata": {},
     "output_type": "display_data"
    },
    {
     "name": "stdout",
     "output_type": "stream",
     "text": [
      "\n",
      "S102 457.32 min |\n",
      " Train Loss: 0.108758, Acc: 0.979, F: 0.356, Fbeta: 0.395, gbeta: 0.205, geo: 0.284, score: 0.478 |\n",
      " Valid Loss: 0.079334, Acc: 0.983, F: 0.262, Fbeta: 0.268, gbeta: 0.211, geo: 0.238, score: 0.580\n",
      " \n"
     ]
    },
    {
     "data": {
      "application/vnd.jupyter.widget-view+json": {
       "model_id": "3b325ebd47df435da6642251b1398a60",
       "version_major": 2,
       "version_minor": 0
      },
      "text/plain": [
       "HBox(children=(FloatProgress(value=1.0, bar_style='info', max=1.0), HTML(value='')))"
      ]
     },
     "metadata": {},
     "output_type": "display_data"
    },
    {
     "name": "stdout",
     "output_type": "stream",
     "text": [
      "\n",
      "S103 461.75 min |\n",
      " Train Loss: 0.108635, Acc: 0.979, F: 0.360, Fbeta: 0.399, gbeta: 0.207, geo: 0.287, score: 0.478 |\n",
      " Valid Loss: 0.079268, Acc: 0.982, F: 0.261, Fbeta: 0.267, gbeta: 0.210, geo: 0.237, score: 0.519\n",
      " \n"
     ]
    },
    {
     "data": {
      "application/vnd.jupyter.widget-view+json": {
       "model_id": "b537fd2ece794d2782aae069a74df639",
       "version_major": 2,
       "version_minor": 0
      },
      "text/plain": [
       "HBox(children=(FloatProgress(value=1.0, bar_style='info', max=1.0), HTML(value='')))"
      ]
     },
     "metadata": {},
     "output_type": "display_data"
    },
    {
     "name": "stdout",
     "output_type": "stream",
     "text": [
      "\n",
      "S104 466.16 min |\n",
      " Train Loss: 0.108514, Acc: 0.979, F: 0.357, Fbeta: 0.395, gbeta: 0.205, geo: 0.285, score: 0.476 |\n",
      " Valid Loss: 0.079177, Acc: 0.983, F: 0.334, Fbeta: 0.342, gbeta: 0.283, geo: 0.311, score: 0.559\n",
      " \n"
     ]
    },
    {
     "data": {
      "application/vnd.jupyter.widget-view+json": {
       "model_id": "1a2475f406e84815a90b93dd4a820fe0",
       "version_major": 2,
       "version_minor": 0
      },
      "text/plain": [
       "HBox(children=(FloatProgress(value=1.0, bar_style='info', max=1.0), HTML(value='')))"
      ]
     },
     "metadata": {},
     "output_type": "display_data"
    },
    {
     "name": "stdout",
     "output_type": "stream",
     "text": [
      "\n",
      "S105 470.59 min |\n",
      " Train Loss: 0.108395, Acc: 0.979, F: 0.359, Fbeta: 0.399, gbeta: 0.207, geo: 0.287, score: 0.479 |\n",
      " Valid Loss: 0.079088, Acc: 0.984, F: 0.262, Fbeta: 0.269, gbeta: 0.211, geo: 0.239, score: 0.594\n",
      " \n"
     ]
    },
    {
     "data": {
      "application/vnd.jupyter.widget-view+json": {
       "model_id": "03816ab92bda4decb9639d842a24e15c",
       "version_major": 2,
       "version_minor": 0
      },
      "text/plain": [
       "HBox(children=(FloatProgress(value=1.0, bar_style='info', max=1.0), HTML(value='')))"
      ]
     },
     "metadata": {},
     "output_type": "display_data"
    },
    {
     "name": "stdout",
     "output_type": "stream",
     "text": [
      "\n",
      "S106 475.02 min |\n",
      " Train Loss: 0.108276, Acc: 0.979, F: 0.362, Fbeta: 0.401, gbeta: 0.208, geo: 0.289, score: 0.479 |\n",
      " Valid Loss: 0.079023, Acc: 0.983, F: 0.188, Fbeta: 0.194, gbeta: 0.137, geo: 0.163, score: 0.559\n",
      " \n"
     ]
    },
    {
     "data": {
      "application/vnd.jupyter.widget-view+json": {
       "model_id": "6668c89fab704417a3af4254460a780c",
       "version_major": 2,
       "version_minor": 0
      },
      "text/plain": [
       "HBox(children=(FloatProgress(value=1.0, bar_style='info', max=1.0), HTML(value='')))"
      ]
     },
     "metadata": {},
     "output_type": "display_data"
    },
    {
     "name": "stdout",
     "output_type": "stream",
     "text": [
      "\n",
      "S107 479.46 min |\n",
      " Train Loss: 0.108173, Acc: 0.979, F: 0.353, Fbeta: 0.392, gbeta: 0.202, geo: 0.281, score: 0.468 |\n",
      " Valid Loss: 0.078951, Acc: 0.983, F: 0.294, Fbeta: 0.301, gbeta: 0.244, geo: 0.271, score: 0.578\n",
      " \n"
     ]
    },
    {
     "data": {
      "application/vnd.jupyter.widget-view+json": {
       "model_id": "5fc73991a9a64f618e75fccbd63a208c",
       "version_major": 2,
       "version_minor": 0
      },
      "text/plain": [
       "HBox(children=(FloatProgress(value=1.0, bar_style='info', max=1.0), HTML(value='')))"
      ]
     },
     "metadata": {},
     "output_type": "display_data"
    },
    {
     "name": "stdout",
     "output_type": "stream",
     "text": [
      "\n",
      "S108 483.86 min |\n",
      " Train Loss: 0.108067, Acc: 0.979, F: 0.356, Fbeta: 0.396, gbeta: 0.204, geo: 0.284, score: 0.475 |\n",
      " Valid Loss: 0.078888, Acc: 0.983, F: 0.150, Fbeta: 0.156, gbeta: 0.099, geo: 0.124, score: 0.524\n",
      " \n"
     ]
    },
    {
     "data": {
      "application/vnd.jupyter.widget-view+json": {
       "model_id": "fc3c1a352eba4fc1ae75a6c444f75d6a",
       "version_major": 2,
       "version_minor": 0
      },
      "text/plain": [
       "HBox(children=(FloatProgress(value=1.0, bar_style='info', max=1.0), HTML(value='')))"
      ]
     },
     "metadata": {},
     "output_type": "display_data"
    },
    {
     "name": "stdout",
     "output_type": "stream",
     "text": [
      "\n",
      "S109 488.29 min |\n",
      " Train Loss: 0.107899, Acc: 0.980, F: 0.389, Fbeta: 0.432, gbeta: 0.229, geo: 0.314, score: 0.525 |\n",
      " Valid Loss: 0.078765, Acc: 0.985, F: 0.229, Fbeta: 0.237, gbeta: 0.179, geo: 0.206, score: 0.634\n",
      " \n"
     ]
    },
    {
     "data": {
      "application/vnd.jupyter.widget-view+json": {
       "model_id": "4706f1f3c4974f37857b5ece0c5216d8",
       "version_major": 2,
       "version_minor": 0
      },
      "text/plain": [
       "HBox(children=(FloatProgress(value=1.0, bar_style='info', max=1.0), HTML(value='')))"
      ]
     },
     "metadata": {},
     "output_type": "display_data"
    },
    {
     "name": "stdout",
     "output_type": "stream",
     "text": [
      "\n",
      "S110 492.78 min |\n",
      " Train Loss: 0.107718, Acc: 0.981, F: 0.401, Fbeta: 0.444, gbeta: 0.237, geo: 0.325, score: 0.540 |\n",
      " Valid Loss: 0.078647, Acc: 0.985, F: 0.230, Fbeta: 0.238, gbeta: 0.180, geo: 0.207, score: 0.628\n",
      " \n"
     ]
    },
    {
     "data": {
      "application/vnd.jupyter.widget-view+json": {
       "model_id": "692dbbf9e9a343cead5942a44bb6e327",
       "version_major": 2,
       "version_minor": 0
      },
      "text/plain": [
       "HBox(children=(FloatProgress(value=1.0, bar_style='info', max=1.0), HTML(value='')))"
      ]
     },
     "metadata": {},
     "output_type": "display_data"
    },
    {
     "name": "stdout",
     "output_type": "stream",
     "text": [
      "\n",
      "S111 497.24 min |\n",
      " Train Loss: 0.107534, Acc: 0.981, F: 0.405, Fbeta: 0.448, gbeta: 0.240, geo: 0.328, score: 0.546 |\n",
      " Valid Loss: 0.078528, Acc: 0.985, F: 0.230, Fbeta: 0.238, gbeta: 0.180, geo: 0.207, score: 0.629\n",
      " \n"
     ]
    },
    {
     "data": {
      "application/vnd.jupyter.widget-view+json": {
       "model_id": "07f90cd24281434b836d2a9ab79d8622",
       "version_major": 2,
       "version_minor": 0
      },
      "text/plain": [
       "HBox(children=(FloatProgress(value=1.0, bar_style='info', max=1.0), HTML(value='')))"
      ]
     },
     "metadata": {},
     "output_type": "display_data"
    },
    {
     "name": "stdout",
     "output_type": "stream",
     "text": [
      "\n",
      "S112 501.69 min |\n",
      " Train Loss: 0.107350, Acc: 0.981, F: 0.410, Fbeta: 0.454, gbeta: 0.243, geo: 0.332, score: 0.549 |\n",
      " Valid Loss: 0.078406, Acc: 0.985, F: 0.268, Fbeta: 0.276, gbeta: 0.218, geo: 0.245, score: 0.643\n",
      " \n"
     ]
    },
    {
     "data": {
      "application/vnd.jupyter.widget-view+json": {
       "model_id": "a923adf4a85e42b69e14d256ad3d82c6",
       "version_major": 2,
       "version_minor": 0
      },
      "text/plain": [
       "HBox(children=(FloatProgress(value=1.0, bar_style='info', max=1.0), HTML(value='')))"
      ]
     },
     "metadata": {},
     "output_type": "display_data"
    },
    {
     "name": "stdout",
     "output_type": "stream",
     "text": [
      "\n",
      "S113 506.13 min |\n",
      " Train Loss: 0.107164, Acc: 0.981, F: 0.411, Fbeta: 0.455, gbeta: 0.244, geo: 0.334, score: 0.554 |\n",
      " Valid Loss: 0.078282, Acc: 0.985, F: 0.193, Fbeta: 0.202, gbeta: 0.143, geo: 0.170, score: 0.649\n",
      " \n"
     ]
    },
    {
     "data": {
      "application/vnd.jupyter.widget-view+json": {
       "model_id": "5f4e0c8e7ec441cbaf0ccc158fc6d126",
       "version_major": 2,
       "version_minor": 0
      },
      "text/plain": [
       "HBox(children=(FloatProgress(value=1.0, bar_style='info', max=1.0), HTML(value='')))"
      ]
     },
     "metadata": {},
     "output_type": "display_data"
    },
    {
     "name": "stdout",
     "output_type": "stream",
     "text": [
      "\n",
      "S114 510.62 min |\n",
      " Train Loss: 0.106978, Acc: 0.981, F: 0.413, Fbeta: 0.457, gbeta: 0.246, geo: 0.335, score: 0.554 |\n",
      " Valid Loss: 0.078164, Acc: 0.985, F: 0.232, Fbeta: 0.240, gbeta: 0.182, geo: 0.209, score: 0.641\n",
      " \n"
     ]
    },
    {
     "data": {
      "application/vnd.jupyter.widget-view+json": {
       "model_id": "a80cbafff6144924a854a0de165d8a1e",
       "version_major": 2,
       "version_minor": 0
      },
      "text/plain": [
       "HBox(children=(FloatProgress(value=1.0, bar_style='info', max=1.0), HTML(value='')))"
      ]
     },
     "metadata": {},
     "output_type": "display_data"
    },
    {
     "name": "stdout",
     "output_type": "stream",
     "text": [
      "\n",
      "S115 515.09 min |\n",
      " Train Loss: 0.106795, Acc: 0.981, F: 0.415, Fbeta: 0.459, gbeta: 0.247, geo: 0.336, score: 0.555 |\n",
      " Valid Loss: 0.078044, Acc: 0.985, F: 0.232, Fbeta: 0.240, gbeta: 0.182, geo: 0.209, score: 0.641\n",
      " \n"
     ]
    },
    {
     "data": {
      "application/vnd.jupyter.widget-view+json": {
       "model_id": "1bf099377d034587adadb5f2d5e2afdd",
       "version_major": 2,
       "version_minor": 0
      },
      "text/plain": [
       "HBox(children=(FloatProgress(value=1.0, bar_style='info', max=1.0), HTML(value='')))"
      ]
     },
     "metadata": {},
     "output_type": "display_data"
    },
    {
     "name": "stdout",
     "output_type": "stream",
     "text": [
      "\n",
      "S116 519.54 min |\n",
      " Train Loss: 0.106613, Acc: 0.981, F: 0.415, Fbeta: 0.459, gbeta: 0.247, geo: 0.337, score: 0.556 |\n",
      " Valid Loss: 0.077925, Acc: 0.985, F: 0.195, Fbeta: 0.203, gbeta: 0.146, geo: 0.172, score: 0.647\n",
      " \n"
     ]
    },
    {
     "data": {
      "application/vnd.jupyter.widget-view+json": {
       "model_id": "f358ee09bc7544f38106faee0a13e371",
       "version_major": 2,
       "version_minor": 0
      },
      "text/plain": [
       "HBox(children=(FloatProgress(value=1.0, bar_style='info', max=1.0), HTML(value='')))"
      ]
     },
     "metadata": {},
     "output_type": "display_data"
    },
    {
     "name": "stdout",
     "output_type": "stream",
     "text": [
      "\n",
      "S117 524.08 min |\n",
      " Train Loss: 0.106432, Acc: 0.981, F: 0.418, Fbeta: 0.462, gbeta: 0.249, geo: 0.339, score: 0.558 |\n",
      " Valid Loss: 0.077810, Acc: 0.985, F: 0.195, Fbeta: 0.203, gbeta: 0.145, geo: 0.172, score: 0.649\n",
      " \n"
     ]
    },
    {
     "data": {
      "application/vnd.jupyter.widget-view+json": {
       "model_id": "8616e5fec94740689829c8bda3fdc4fc",
       "version_major": 2,
       "version_minor": 0
      },
      "text/plain": [
       "HBox(children=(FloatProgress(value=1.0, bar_style='info', max=1.0), HTML(value='')))"
      ]
     },
     "metadata": {},
     "output_type": "display_data"
    },
    {
     "name": "stdout",
     "output_type": "stream",
     "text": [
      "\n",
      "S118 528.56 min |\n",
      " Train Loss: 0.106253, Acc: 0.981, F: 0.419, Fbeta: 0.462, gbeta: 0.249, geo: 0.339, score: 0.558 |\n",
      " Valid Loss: 0.077693, Acc: 0.985, F: 0.195, Fbeta: 0.203, gbeta: 0.146, geo: 0.172, score: 0.647\n",
      " \n"
     ]
    },
    {
     "data": {
      "application/vnd.jupyter.widget-view+json": {
       "model_id": "024ae98d05d34a79baff6118e8f9b494",
       "version_major": 2,
       "version_minor": 0
      },
      "text/plain": [
       "HBox(children=(FloatProgress(value=1.0, bar_style='info', max=1.0), HTML(value='')))"
      ]
     },
     "metadata": {},
     "output_type": "display_data"
    },
    {
     "name": "stdout",
     "output_type": "stream",
     "text": [
      "\n",
      "S119 533.05 min |\n",
      " Train Loss: 0.106076, Acc: 0.981, F: 0.417, Fbeta: 0.461, gbeta: 0.249, geo: 0.339, score: 0.561 |\n",
      " Valid Loss: 0.077576, Acc: 0.985, F: 0.158, Fbeta: 0.167, gbeta: 0.109, geo: 0.135, score: 0.662\n",
      " \n"
     ]
    },
    {
     "data": {
      "application/vnd.jupyter.widget-view+json": {
       "model_id": "2d3bec0b431e45f18cc24af3859d9d3c",
       "version_major": 2,
       "version_minor": 0
      },
      "text/plain": [
       "HBox(children=(FloatProgress(value=1.0, bar_style='info', max=1.0), HTML(value='')))"
      ]
     },
     "metadata": {},
     "output_type": "display_data"
    },
    {
     "name": "stdout",
     "output_type": "stream",
     "text": [
      "\n",
      "S120 537.56 min |\n",
      " Train Loss: 0.105900, Acc: 0.981, F: 0.419, Fbeta: 0.463, gbeta: 0.249, geo: 0.340, score: 0.561 |\n",
      " Valid Loss: 0.077464, Acc: 0.985, F: 0.196, Fbeta: 0.204, gbeta: 0.147, geo: 0.173, score: 0.649\n",
      " \n"
     ]
    },
    {
     "data": {
      "application/vnd.jupyter.widget-view+json": {
       "model_id": "d3d751daaed445b4a4888e6f5724a783",
       "version_major": 2,
       "version_minor": 0
      },
      "text/plain": [
       "HBox(children=(FloatProgress(value=1.0, bar_style='info', max=1.0), HTML(value='')))"
      ]
     },
     "metadata": {},
     "output_type": "display_data"
    },
    {
     "name": "stdout",
     "output_type": "stream",
     "text": [
      "\n",
      "S121 542.03 min |\n",
      " Train Loss: 0.105726, Acc: 0.981, F: 0.421, Fbeta: 0.465, gbeta: 0.251, geo: 0.341, score: 0.562 |\n",
      " Valid Loss: 0.077359, Acc: 0.985, F: 0.158, Fbeta: 0.166, gbeta: 0.108, geo: 0.134, score: 0.639\n",
      " \n"
     ]
    },
    {
     "data": {
      "application/vnd.jupyter.widget-view+json": {
       "model_id": "0c69ac984cc14421b834a3b5c1e3e172",
       "version_major": 2,
       "version_minor": 0
      },
      "text/plain": [
       "HBox(children=(FloatProgress(value=1.0, bar_style='info', max=1.0), HTML(value='')))"
      ]
     },
     "metadata": {},
     "output_type": "display_data"
    },
    {
     "name": "stdout",
     "output_type": "stream",
     "text": [
      "\n",
      "S122 546.52 min |\n",
      " Train Loss: 0.105554, Acc: 0.981, F: 0.421, Fbeta: 0.465, gbeta: 0.251, geo: 0.341, score: 0.563 |\n",
      " Valid Loss: 0.077252, Acc: 0.985, F: 0.196, Fbeta: 0.203, gbeta: 0.146, geo: 0.172, score: 0.640\n",
      " \n"
     ]
    },
    {
     "data": {
      "application/vnd.jupyter.widget-view+json": {
       "model_id": "5188ccffd1e143ab8d279862035dc506",
       "version_major": 2,
       "version_minor": 0
      },
      "text/plain": [
       "HBox(children=(FloatProgress(value=1.0, bar_style='info', max=1.0), HTML(value='')))"
      ]
     },
     "metadata": {},
     "output_type": "display_data"
    },
    {
     "name": "stdout",
     "output_type": "stream",
     "text": [
      "\n",
      "S123 551.01 min |\n",
      " Train Loss: 0.105385, Acc: 0.981, F: 0.422, Fbeta: 0.466, gbeta: 0.251, geo: 0.342, score: 0.564 |\n",
      " Valid Loss: 0.077143, Acc: 0.985, F: 0.196, Fbeta: 0.204, gbeta: 0.146, geo: 0.173, score: 0.647\n",
      " \n"
     ]
    },
    {
     "data": {
      "application/vnd.jupyter.widget-view+json": {
       "model_id": "f1996159cff34b9dae2f87a58d88f499",
       "version_major": 2,
       "version_minor": 0
      },
      "text/plain": [
       "HBox(children=(FloatProgress(value=1.0, bar_style='info', max=1.0), HTML(value='')))"
      ]
     },
     "metadata": {},
     "output_type": "display_data"
    },
    {
     "name": "stdout",
     "output_type": "stream",
     "text": [
      "\n",
      "S124 555.51 min |\n",
      " Train Loss: 0.105217, Acc: 0.981, F: 0.422, Fbeta: 0.466, gbeta: 0.251, geo: 0.342, score: 0.564 |\n",
      " Valid Loss: 0.077031, Acc: 0.986, F: 0.233, Fbeta: 0.241, gbeta: 0.184, geo: 0.211, score: 0.655\n",
      " \n"
     ]
    },
    {
     "data": {
      "application/vnd.jupyter.widget-view+json": {
       "model_id": "7498f8213175407386a39aacd9d4b7cf",
       "version_major": 2,
       "version_minor": 0
      },
      "text/plain": [
       "HBox(children=(FloatProgress(value=1.0, bar_style='info', max=1.0), HTML(value='')))"
      ]
     },
     "metadata": {},
     "output_type": "display_data"
    },
    {
     "name": "stdout",
     "output_type": "stream",
     "text": [
      "\n",
      "S125 559.88 min |\n",
      " Train Loss: 0.105052, Acc: 0.981, F: 0.424, Fbeta: 0.469, gbeta: 0.253, geo: 0.344, score: 0.563 |\n",
      " Valid Loss: 0.076923, Acc: 0.985, F: 0.196, Fbeta: 0.204, gbeta: 0.146, geo: 0.173, score: 0.652\n",
      " \n"
     ]
    },
    {
     "data": {
      "application/vnd.jupyter.widget-view+json": {
       "model_id": "a05ce4650cab4b2f80957bf8de06a538",
       "version_major": 2,
       "version_minor": 0
      },
      "text/plain": [
       "HBox(children=(FloatProgress(value=1.0, bar_style='info', max=1.0), HTML(value='')))"
      ]
     },
     "metadata": {},
     "output_type": "display_data"
    },
    {
     "name": "stdout",
     "output_type": "stream",
     "text": [
      "\n",
      "S126 564.24 min |\n",
      " Train Loss: 0.104887, Acc: 0.981, F: 0.424, Fbeta: 0.468, gbeta: 0.253, geo: 0.344, score: 0.564 |\n",
      " Valid Loss: 0.076817, Acc: 0.985, F: 0.196, Fbeta: 0.204, gbeta: 0.146, geo: 0.173, score: 0.660\n",
      " \n"
     ]
    },
    {
     "data": {
      "application/vnd.jupyter.widget-view+json": {
       "model_id": "1c22b0702a274c4aa1a7125c55fe2ec9",
       "version_major": 2,
       "version_minor": 0
      },
      "text/plain": [
       "HBox(children=(FloatProgress(value=1.0, bar_style='info', max=1.0), HTML(value='')))"
      ]
     },
     "metadata": {},
     "output_type": "display_data"
    },
    {
     "name": "stdout",
     "output_type": "stream",
     "text": [
      "\n",
      "S127 568.63 min |\n",
      " Train Loss: 0.104725, Acc: 0.981, F: 0.425, Fbeta: 0.470, gbeta: 0.254, geo: 0.345, score: 0.567 |\n",
      " Valid Loss: 0.076714, Acc: 0.986, F: 0.196, Fbeta: 0.204, gbeta: 0.147, geo: 0.173, score: 0.661\n",
      " \n"
     ]
    },
    {
     "data": {
      "application/vnd.jupyter.widget-view+json": {
       "model_id": "6f4d42bc3cc041519901c62c02a7a00d",
       "version_major": 2,
       "version_minor": 0
      },
      "text/plain": [
       "HBox(children=(FloatProgress(value=1.0, bar_style='info', max=1.0), HTML(value='')))"
      ]
     },
     "metadata": {},
     "output_type": "display_data"
    },
    {
     "name": "stdout",
     "output_type": "stream",
     "text": [
      "\n",
      "S128 573.03 min |\n",
      " Train Loss: 0.104564, Acc: 0.981, F: 0.426, Fbeta: 0.470, gbeta: 0.254, geo: 0.345, score: 0.567 |\n",
      " Valid Loss: 0.076614, Acc: 0.986, F: 0.196, Fbeta: 0.204, gbeta: 0.147, geo: 0.173, score: 0.654\n",
      " \n"
     ]
    },
    {
     "data": {
      "application/vnd.jupyter.widget-view+json": {
       "model_id": "4bbcb7f1c55c4d1780ecca0ecb7726fc",
       "version_major": 2,
       "version_minor": 0
      },
      "text/plain": [
       "HBox(children=(FloatProgress(value=1.0, bar_style='info', max=1.0), HTML(value='')))"
      ]
     },
     "metadata": {},
     "output_type": "display_data"
    },
    {
     "name": "stdout",
     "output_type": "stream",
     "text": [
      "\n",
      "S129 577.43 min |\n",
      " Train Loss: 0.104406, Acc: 0.981, F: 0.428, Fbeta: 0.472, gbeta: 0.255, geo: 0.347, score: 0.566 |\n",
      " Valid Loss: 0.076512, Acc: 0.986, F: 0.196, Fbeta: 0.204, gbeta: 0.146, geo: 0.173, score: 0.662\n",
      " \n"
     ]
    },
    {
     "data": {
      "application/vnd.jupyter.widget-view+json": {
       "model_id": "9189399b429e4cdc92e2076e6390791a",
       "version_major": 2,
       "version_minor": 0
      },
      "text/plain": [
       "HBox(children=(FloatProgress(value=1.0, bar_style='info', max=1.0), HTML(value='')))"
      ]
     },
     "metadata": {},
     "output_type": "display_data"
    },
    {
     "name": "stdout",
     "output_type": "stream",
     "text": [
      "\n",
      "S130 581.86 min |\n",
      " Train Loss: 0.104249, Acc: 0.981, F: 0.427, Fbeta: 0.473, gbeta: 0.255, geo: 0.347, score: 0.567 |\n",
      " Valid Loss: 0.076417, Acc: 0.985, F: 0.159, Fbeta: 0.167, gbeta: 0.110, geo: 0.135, score: 0.644\n",
      " \n"
     ]
    },
    {
     "data": {
      "application/vnd.jupyter.widget-view+json": {
       "model_id": "e993ec05d5254f7887ccff02e3d10dda",
       "version_major": 2,
       "version_minor": 0
      },
      "text/plain": [
       "HBox(children=(FloatProgress(value=1.0, bar_style='info', max=1.0), HTML(value='')))"
      ]
     },
     "metadata": {},
     "output_type": "display_data"
    },
    {
     "name": "stdout",
     "output_type": "stream",
     "text": [
      "\n",
      "S131 586.30 min |\n",
      " Train Loss: 0.104094, Acc: 0.982, F: 0.427, Fbeta: 0.472, gbeta: 0.255, geo: 0.347, score: 0.567 |\n",
      " Valid Loss: 0.076316, Acc: 0.986, F: 0.159, Fbeta: 0.168, gbeta: 0.110, geo: 0.136, score: 0.657\n",
      " \n"
     ]
    },
    {
     "data": {
      "application/vnd.jupyter.widget-view+json": {
       "model_id": "ed3c2204fdf545dd82a488e2e52fbd0e",
       "version_major": 2,
       "version_minor": 0
      },
      "text/plain": [
       "HBox(children=(FloatProgress(value=1.0, bar_style='info', max=1.0), HTML(value='')))"
      ]
     },
     "metadata": {},
     "output_type": "display_data"
    },
    {
     "name": "stdout",
     "output_type": "stream",
     "text": [
      "\n",
      "S132 590.69 min |\n",
      " Train Loss: 0.103942, Acc: 0.982, F: 0.427, Fbeta: 0.472, gbeta: 0.255, geo: 0.347, score: 0.568 |\n",
      " Valid Loss: 0.076219, Acc: 0.986, F: 0.196, Fbeta: 0.205, gbeta: 0.147, geo: 0.173, score: 0.669\n",
      " \n"
     ]
    },
    {
     "data": {
      "application/vnd.jupyter.widget-view+json": {
       "model_id": "3130046eac1c45b9b9aa48bc78212169",
       "version_major": 2,
       "version_minor": 0
      },
      "text/plain": [
       "HBox(children=(FloatProgress(value=1.0, bar_style='info', max=1.0), HTML(value='')))"
      ]
     },
     "metadata": {},
     "output_type": "display_data"
    },
    {
     "name": "stdout",
     "output_type": "stream",
     "text": [
      "\n",
      "S133 595.17 min |\n",
      " Train Loss: 0.103790, Acc: 0.982, F: 0.429, Fbeta: 0.474, gbeta: 0.256, geo: 0.349, score: 0.569 |\n",
      " Valid Loss: 0.076117, Acc: 0.986, F: 0.161, Fbeta: 0.168, gbeta: 0.111, geo: 0.137, score: 0.665\n",
      " \n"
     ]
    },
    {
     "data": {
      "application/vnd.jupyter.widget-view+json": {
       "model_id": "767491bd95e8468d8eef5181c97d6fd6",
       "version_major": 2,
       "version_minor": 0
      },
      "text/plain": [
       "HBox(children=(FloatProgress(value=1.0, bar_style='info', max=1.0), HTML(value='')))"
      ]
     },
     "metadata": {},
     "output_type": "display_data"
    },
    {
     "name": "stdout",
     "output_type": "stream",
     "text": [
      "\n",
      "S134 599.58 min |\n",
      " Train Loss: 0.103641, Acc: 0.982, F: 0.427, Fbeta: 0.473, gbeta: 0.255, geo: 0.347, score: 0.569 |\n",
      " Valid Loss: 0.076022, Acc: 0.986, F: 0.160, Fbeta: 0.168, gbeta: 0.111, geo: 0.136, score: 0.664\n",
      " \n"
     ]
    },
    {
     "data": {
      "application/vnd.jupyter.widget-view+json": {
       "model_id": "751274573b7a466592845e9d558e6c21",
       "version_major": 2,
       "version_minor": 0
      },
      "text/plain": [
       "HBox(children=(FloatProgress(value=1.0, bar_style='info', max=1.0), HTML(value='')))"
      ]
     },
     "metadata": {},
     "output_type": "display_data"
    },
    {
     "name": "stdout",
     "output_type": "stream",
     "text": [
      "\n",
      "S135 604.00 min |\n",
      " Train Loss: 0.103493, Acc: 0.982, F: 0.428, Fbeta: 0.473, gbeta: 0.256, geo: 0.348, score: 0.569 |\n",
      " Valid Loss: 0.075930, Acc: 0.986, F: 0.196, Fbeta: 0.204, gbeta: 0.147, geo: 0.173, score: 0.663\n",
      " \n"
     ]
    },
    {
     "data": {
      "application/vnd.jupyter.widget-view+json": {
       "model_id": "4e979863054744ce81df753cf97cf063",
       "version_major": 2,
       "version_minor": 0
      },
      "text/plain": [
       "HBox(children=(FloatProgress(value=1.0, bar_style='info', max=1.0), HTML(value='')))"
      ]
     },
     "metadata": {},
     "output_type": "display_data"
    },
    {
     "name": "stdout",
     "output_type": "stream",
     "text": [
      "\n",
      "S136 608.47 min |\n",
      " Train Loss: 0.103347, Acc: 0.982, F: 0.428, Fbeta: 0.473, gbeta: 0.255, geo: 0.348, score: 0.569 |\n",
      " Valid Loss: 0.075841, Acc: 0.985, F: 0.196, Fbeta: 0.204, gbeta: 0.147, geo: 0.173, score: 0.651\n",
      " \n"
     ]
    },
    {
     "data": {
      "application/vnd.jupyter.widget-view+json": {
       "model_id": "5fcc036f16bd48ec972aad02a3f7179b",
       "version_major": 2,
       "version_minor": 0
      },
      "text/plain": [
       "HBox(children=(FloatProgress(value=1.0, bar_style='info', max=1.0), HTML(value='')))"
      ]
     },
     "metadata": {},
     "output_type": "display_data"
    },
    {
     "name": "stdout",
     "output_type": "stream",
     "text": [
      "\n",
      "S137 612.93 min |\n",
      " Train Loss: 0.103202, Acc: 0.982, F: 0.430, Fbeta: 0.475, gbeta: 0.257, geo: 0.349, score: 0.569 |\n",
      " Valid Loss: 0.075750, Acc: 0.986, F: 0.234, Fbeta: 0.242, gbeta: 0.185, geo: 0.211, score: 0.667\n",
      " \n"
     ]
    },
    {
     "data": {
      "application/vnd.jupyter.widget-view+json": {
       "model_id": "be207727dcd0404cb8c869fc4a8aab30",
       "version_major": 2,
       "version_minor": 0
      },
      "text/plain": [
       "HBox(children=(FloatProgress(value=1.0, bar_style='info', max=1.0), HTML(value='')))"
      ]
     },
     "metadata": {},
     "output_type": "display_data"
    },
    {
     "name": "stdout",
     "output_type": "stream",
     "text": [
      "\n",
      "S138 617.40 min |\n",
      " Train Loss: 0.103060, Acc: 0.982, F: 0.430, Fbeta: 0.475, gbeta: 0.257, geo: 0.349, score: 0.569 |\n",
      " Valid Loss: 0.075657, Acc: 0.986, F: 0.271, Fbeta: 0.279, gbeta: 0.222, geo: 0.249, score: 0.659\n",
      " \n"
     ]
    },
    {
     "data": {
      "application/vnd.jupyter.widget-view+json": {
       "model_id": "3e952ef6e0f74f97af5a134b2ec7efc4",
       "version_major": 2,
       "version_minor": 0
      },
      "text/plain": [
       "HBox(children=(FloatProgress(value=1.0, bar_style='info', max=1.0), HTML(value='')))"
      ]
     },
     "metadata": {},
     "output_type": "display_data"
    },
    {
     "name": "stdout",
     "output_type": "stream",
     "text": [
      "\n",
      "S139 621.88 min |\n",
      " Train Loss: 0.102919, Acc: 0.982, F: 0.430, Fbeta: 0.474, gbeta: 0.256, geo: 0.349, score: 0.570 |\n",
      " Valid Loss: 0.075565, Acc: 0.986, F: 0.197, Fbeta: 0.205, gbeta: 0.148, geo: 0.174, score: 0.663\n",
      " \n"
     ]
    },
    {
     "data": {
      "application/vnd.jupyter.widget-view+json": {
       "model_id": "9dda5499ad2740479248410e4e9a51f8",
       "version_major": 2,
       "version_minor": 0
      },
      "text/plain": [
       "HBox(children=(FloatProgress(value=1.0, bar_style='info', max=1.0), HTML(value='')))"
      ]
     },
     "metadata": {},
     "output_type": "display_data"
    },
    {
     "name": "stdout",
     "output_type": "stream",
     "text": [
      "\n",
      "S140 626.36 min |\n",
      " Train Loss: 0.102779, Acc: 0.982, F: 0.430, Fbeta: 0.474, gbeta: 0.257, geo: 0.349, score: 0.570 |\n",
      " Valid Loss: 0.075474, Acc: 0.986, F: 0.197, Fbeta: 0.205, gbeta: 0.148, geo: 0.174, score: 0.658\n",
      " \n"
     ]
    },
    {
     "data": {
      "application/vnd.jupyter.widget-view+json": {
       "model_id": "17005205882c4d55978318f23f192902",
       "version_major": 2,
       "version_minor": 0
      },
      "text/plain": [
       "HBox(children=(FloatProgress(value=1.0, bar_style='info', max=1.0), HTML(value='')))"
      ]
     },
     "metadata": {},
     "output_type": "display_data"
    },
    {
     "name": "stdout",
     "output_type": "stream",
     "text": [
      "\n",
      "S141 630.87 min |\n",
      " Train Loss: 0.102641, Acc: 0.982, F: 0.431, Fbeta: 0.475, gbeta: 0.257, geo: 0.349, score: 0.571 |\n",
      " Valid Loss: 0.075387, Acc: 0.986, F: 0.234, Fbeta: 0.242, gbeta: 0.185, geo: 0.212, score: 0.652\n",
      " \n"
     ]
    },
    {
     "data": {
      "application/vnd.jupyter.widget-view+json": {
       "model_id": "3c67ac6b6fdb4f34815a31c9362ffde3",
       "version_major": 2,
       "version_minor": 0
      },
      "text/plain": [
       "HBox(children=(FloatProgress(value=1.0, bar_style='info', max=1.0), HTML(value='')))"
      ]
     },
     "metadata": {},
     "output_type": "display_data"
    },
    {
     "name": "stdout",
     "output_type": "stream",
     "text": [
      "\n",
      "S142 635.36 min |\n",
      " Train Loss: 0.102505, Acc: 0.982, F: 0.432, Fbeta: 0.477, gbeta: 0.258, geo: 0.351, score: 0.571 |\n",
      " Valid Loss: 0.075301, Acc: 0.986, F: 0.234, Fbeta: 0.242, gbeta: 0.185, geo: 0.212, score: 0.662\n",
      " \n"
     ]
    },
    {
     "data": {
      "application/vnd.jupyter.widget-view+json": {
       "model_id": "4603814403184937ab9efb6e819f3e7a",
       "version_major": 2,
       "version_minor": 0
      },
      "text/plain": [
       "HBox(children=(FloatProgress(value=1.0, bar_style='info', max=1.0), HTML(value='')))"
      ]
     },
     "metadata": {},
     "output_type": "display_data"
    },
    {
     "name": "stdout",
     "output_type": "stream",
     "text": [
      "\n",
      "S143 639.82 min |\n",
      " Train Loss: 0.102370, Acc: 0.982, F: 0.433, Fbeta: 0.478, gbeta: 0.259, geo: 0.352, score: 0.571 |\n",
      " Valid Loss: 0.075218, Acc: 0.985, F: 0.161, Fbeta: 0.169, gbeta: 0.111, geo: 0.137, score: 0.649\n",
      " \n"
     ]
    },
    {
     "data": {
      "application/vnd.jupyter.widget-view+json": {
       "model_id": "c1ac57ce440841aca8b99175e851bc95",
       "version_major": 2,
       "version_minor": 0
      },
      "text/plain": [
       "HBox(children=(FloatProgress(value=1.0, bar_style='info', max=1.0), HTML(value='')))"
      ]
     },
     "metadata": {},
     "output_type": "display_data"
    },
    {
     "name": "stdout",
     "output_type": "stream",
     "text": [
      "\n",
      "S144 644.24 min |\n",
      " Train Loss: 0.102237, Acc: 0.982, F: 0.431, Fbeta: 0.476, gbeta: 0.257, geo: 0.350, score: 0.572 |\n",
      " Valid Loss: 0.075140, Acc: 0.985, F: 0.233, Fbeta: 0.241, gbeta: 0.183, geo: 0.210, score: 0.660\n",
      " \n"
     ]
    },
    {
     "data": {
      "application/vnd.jupyter.widget-view+json": {
       "model_id": "6145dadfd888449d9c03bbb5b2edb8b7",
       "version_major": 2,
       "version_minor": 0
      },
      "text/plain": [
       "HBox(children=(FloatProgress(value=1.0, bar_style='info', max=1.0), HTML(value='')))"
      ]
     },
     "metadata": {},
     "output_type": "display_data"
    },
    {
     "name": "stdout",
     "output_type": "stream",
     "text": [
      "\n",
      "S145 648.70 min |\n",
      " Train Loss: 0.102104, Acc: 0.982, F: 0.435, Fbeta: 0.480, gbeta: 0.260, geo: 0.353, score: 0.572 |\n",
      " Valid Loss: 0.075054, Acc: 0.986, F: 0.198, Fbeta: 0.206, gbeta: 0.148, geo: 0.175, score: 0.662\n",
      " \n"
     ]
    },
    {
     "data": {
      "application/vnd.jupyter.widget-view+json": {
       "model_id": "7369134b443f4c339f9d0103d5c298b0",
       "version_major": 2,
       "version_minor": 0
      },
      "text/plain": [
       "HBox(children=(FloatProgress(value=1.0, bar_style='info', max=1.0), HTML(value='')))"
      ]
     },
     "metadata": {},
     "output_type": "display_data"
    },
    {
     "name": "stdout",
     "output_type": "stream",
     "text": [
      "\n",
      "S146 653.08 min |\n",
      " Train Loss: 0.101973, Acc: 0.982, F: 0.433, Fbeta: 0.478, gbeta: 0.259, geo: 0.351, score: 0.572 |\n",
      " Valid Loss: 0.074970, Acc: 0.986, F: 0.198, Fbeta: 0.205, gbeta: 0.148, geo: 0.174, score: 0.662\n",
      " \n"
     ]
    },
    {
     "data": {
      "application/vnd.jupyter.widget-view+json": {
       "model_id": "ecf6784fe44c4addb589b5cd961df7cc",
       "version_major": 2,
       "version_minor": 0
      },
      "text/plain": [
       "HBox(children=(FloatProgress(value=1.0, bar_style='info', max=1.0), HTML(value='')))"
      ]
     },
     "metadata": {},
     "output_type": "display_data"
    },
    {
     "name": "stdout",
     "output_type": "stream",
     "text": [
      "\n",
      "S147 657.51 min |\n",
      " Train Loss: 0.101844, Acc: 0.982, F: 0.433, Fbeta: 0.478, gbeta: 0.259, geo: 0.352, score: 0.574 |\n",
      " Valid Loss: 0.074892, Acc: 0.986, F: 0.196, Fbeta: 0.205, gbeta: 0.147, geo: 0.173, score: 0.658\n",
      " \n"
     ]
    },
    {
     "data": {
      "application/vnd.jupyter.widget-view+json": {
       "model_id": "704a641ca981449a80202ef7786d7454",
       "version_major": 2,
       "version_minor": 0
      },
      "text/plain": [
       "HBox(children=(FloatProgress(value=1.0, bar_style='info', max=1.0), HTML(value='')))"
      ]
     },
     "metadata": {},
     "output_type": "display_data"
    },
    {
     "name": "stdout",
     "output_type": "stream",
     "text": [
      "\n",
      "S148 661.93 min |\n",
      " Train Loss: 0.101716, Acc: 0.982, F: 0.432, Fbeta: 0.477, gbeta: 0.258, geo: 0.351, score: 0.572 |\n",
      " Valid Loss: 0.074812, Acc: 0.986, F: 0.234, Fbeta: 0.242, gbeta: 0.185, geo: 0.212, score: 0.660\n",
      " \n"
     ]
    },
    {
     "data": {
      "application/vnd.jupyter.widget-view+json": {
       "model_id": "4e0a58c5729e49f69d385e2e195d8a92",
       "version_major": 2,
       "version_minor": 0
      },
      "text/plain": [
       "HBox(children=(FloatProgress(value=1.0, bar_style='info', max=1.0), HTML(value='')))"
      ]
     },
     "metadata": {},
     "output_type": "display_data"
    },
    {
     "name": "stdout",
     "output_type": "stream",
     "text": [
      "\n",
      "S149 666.38 min |\n",
      " Train Loss: 0.101589, Acc: 0.982, F: 0.435, Fbeta: 0.481, gbeta: 0.260, geo: 0.354, score: 0.573 |\n",
      " Valid Loss: 0.074734, Acc: 0.986, F: 0.197, Fbeta: 0.205, gbeta: 0.147, geo: 0.174, score: 0.668\n",
      " \n"
     ]
    },
    {
     "data": {
      "application/vnd.jupyter.widget-view+json": {
       "model_id": "9c1ad0cce6704f6fac051ba633712569",
       "version_major": 2,
       "version_minor": 0
      },
      "text/plain": [
       "HBox(children=(FloatProgress(value=1.0, bar_style='info', max=1.0), HTML(value='')))"
      ]
     },
     "metadata": {},
     "output_type": "display_data"
    },
    {
     "name": "stdout",
     "output_type": "stream",
     "text": [
      "\n",
      "S150 670.83 min |\n",
      " Train Loss: 0.101463, Acc: 0.982, F: 0.434, Fbeta: 0.478, gbeta: 0.259, geo: 0.352, score: 0.576 |\n",
      " Valid Loss: 0.074656, Acc: 0.986, F: 0.235, Fbeta: 0.242, gbeta: 0.185, geo: 0.212, score: 0.656\n",
      " \n"
     ]
    },
    {
     "data": {
      "application/vnd.jupyter.widget-view+json": {
       "model_id": "7923a5de124f4265a92ebdb80de44351",
       "version_major": 2,
       "version_minor": 0
      },
      "text/plain": [
       "HBox(children=(FloatProgress(value=1.0, bar_style='info', max=1.0), HTML(value='')))"
      ]
     },
     "metadata": {},
     "output_type": "display_data"
    },
    {
     "name": "stdout",
     "output_type": "stream",
     "text": [
      "\n",
      "S151 675.27 min |\n",
      " Train Loss: 0.101339, Acc: 0.982, F: 0.434, Fbeta: 0.479, gbeta: 0.259, geo: 0.352, score: 0.574 |\n",
      " Valid Loss: 0.074576, Acc: 0.986, F: 0.160, Fbeta: 0.168, gbeta: 0.111, geo: 0.137, score: 0.665\n",
      " \n"
     ]
    },
    {
     "data": {
      "application/vnd.jupyter.widget-view+json": {
       "model_id": "d2491ac96fa740489d34d1df4c64cf3e",
       "version_major": 2,
       "version_minor": 0
      },
      "text/plain": [
       "HBox(children=(FloatProgress(value=1.0, bar_style='info', max=1.0), HTML(value='')))"
      ]
     },
     "metadata": {},
     "output_type": "display_data"
    },
    {
     "name": "stdout",
     "output_type": "stream",
     "text": [
      "\n",
      "S152 679.68 min |\n",
      " Train Loss: 0.101217, Acc: 0.982, F: 0.434, Fbeta: 0.478, gbeta: 0.259, geo: 0.352, score: 0.575 |\n",
      " Valid Loss: 0.074499, Acc: 0.986, F: 0.198, Fbeta: 0.206, gbeta: 0.148, geo: 0.175, score: 0.663\n",
      " \n"
     ]
    },
    {
     "data": {
      "application/vnd.jupyter.widget-view+json": {
       "model_id": "288bd835695a471eb65192bbf7f7122f",
       "version_major": 2,
       "version_minor": 0
      },
      "text/plain": [
       "HBox(children=(FloatProgress(value=1.0, bar_style='info', max=1.0), HTML(value='')))"
      ]
     },
     "metadata": {},
     "output_type": "display_data"
    },
    {
     "name": "stdout",
     "output_type": "stream",
     "text": [
      "\n",
      "S153 684.08 min |\n",
      " Train Loss: 0.101095, Acc: 0.982, F: 0.435, Fbeta: 0.480, gbeta: 0.260, geo: 0.353, score: 0.574 |\n",
      " Valid Loss: 0.074419, Acc: 0.986, F: 0.197, Fbeta: 0.206, gbeta: 0.148, geo: 0.175, score: 0.669\n",
      " \n"
     ]
    },
    {
     "data": {
      "application/vnd.jupyter.widget-view+json": {
       "model_id": "e452c2f0664f4a1482a5899965175beb",
       "version_major": 2,
       "version_minor": 0
      },
      "text/plain": [
       "HBox(children=(FloatProgress(value=1.0, bar_style='info', max=1.0), HTML(value='')))"
      ]
     },
     "metadata": {},
     "output_type": "display_data"
    },
    {
     "name": "stdout",
     "output_type": "stream",
     "text": [
      "\n",
      "S154 688.48 min |\n",
      " Train Loss: 0.100975, Acc: 0.982, F: 0.434, Fbeta: 0.479, gbeta: 0.260, geo: 0.353, score: 0.576 |\n",
      " Valid Loss: 0.074343, Acc: 0.986, F: 0.197, Fbeta: 0.206, gbeta: 0.148, geo: 0.175, score: 0.673\n",
      " \n"
     ]
    },
    {
     "data": {
      "application/vnd.jupyter.widget-view+json": {
       "model_id": "acef366fe8e646bdaa1e9bec41ec2035",
       "version_major": 2,
       "version_minor": 0
      },
      "text/plain": [
       "HBox(children=(FloatProgress(value=1.0, bar_style='info', max=1.0), HTML(value='')))"
      ]
     },
     "metadata": {},
     "output_type": "display_data"
    },
    {
     "name": "stdout",
     "output_type": "stream",
     "text": [
      "\n",
      "S155 692.94 min |\n",
      " Train Loss: 0.100857, Acc: 0.982, F: 0.436, Fbeta: 0.480, gbeta: 0.261, geo: 0.354, score: 0.575 |\n",
      " Valid Loss: 0.074269, Acc: 0.986, F: 0.197, Fbeta: 0.206, gbeta: 0.148, geo: 0.174, score: 0.669\n",
      " \n"
     ]
    },
    {
     "data": {
      "application/vnd.jupyter.widget-view+json": {
       "model_id": "ccad932c3ae543e39f6b577fdcf1ab17",
       "version_major": 2,
       "version_minor": 0
      },
      "text/plain": [
       "HBox(children=(FloatProgress(value=1.0, bar_style='info', max=1.0), HTML(value='')))"
      ]
     },
     "metadata": {},
     "output_type": "display_data"
    },
    {
     "name": "stdout",
     "output_type": "stream",
     "text": [
      "\n",
      "S156 697.33 min |\n",
      " Train Loss: 0.100739, Acc: 0.982, F: 0.435, Fbeta: 0.480, gbeta: 0.260, geo: 0.354, score: 0.576 |\n",
      " Valid Loss: 0.074198, Acc: 0.986, F: 0.234, Fbeta: 0.243, gbeta: 0.185, geo: 0.212, score: 0.669\n",
      " \n"
     ]
    },
    {
     "data": {
      "application/vnd.jupyter.widget-view+json": {
       "model_id": "1db3eb9f8473479caaae52829a23c4e3",
       "version_major": 2,
       "version_minor": 0
      },
      "text/plain": [
       "HBox(children=(FloatProgress(value=1.0, bar_style='info', max=1.0), HTML(value='')))"
      ]
     },
     "metadata": {},
     "output_type": "display_data"
    },
    {
     "name": "stdout",
     "output_type": "stream",
     "text": [
      "\n",
      "S157 701.75 min |\n",
      " Train Loss: 0.100622, Acc: 0.982, F: 0.435, Fbeta: 0.480, gbeta: 0.260, geo: 0.353, score: 0.577 |\n",
      " Valid Loss: 0.074128, Acc: 0.986, F: 0.198, Fbeta: 0.206, gbeta: 0.149, geo: 0.175, score: 0.674\n",
      " \n"
     ]
    },
    {
     "data": {
      "application/vnd.jupyter.widget-view+json": {
       "model_id": "c01840820a2249f3bc78c171d614ece9",
       "version_major": 2,
       "version_minor": 0
      },
      "text/plain": [
       "HBox(children=(FloatProgress(value=1.0, bar_style='info', max=1.0), HTML(value='')))"
      ]
     },
     "metadata": {},
     "output_type": "display_data"
    },
    {
     "name": "stdout",
     "output_type": "stream",
     "text": [
      "\n",
      "S158 706.19 min |\n",
      " Train Loss: 0.100506, Acc: 0.982, F: 0.438, Fbeta: 0.482, gbeta: 0.262, geo: 0.355, score: 0.577 |\n",
      " Valid Loss: 0.074058, Acc: 0.986, F: 0.235, Fbeta: 0.243, gbeta: 0.185, geo: 0.212, score: 0.664\n",
      " \n"
     ]
    },
    {
     "data": {
      "application/vnd.jupyter.widget-view+json": {
       "model_id": "1aa7586218d147bfa91aedab101a9492",
       "version_major": 2,
       "version_minor": 0
      },
      "text/plain": [
       "HBox(children=(FloatProgress(value=1.0, bar_style='info', max=1.0), HTML(value='')))"
      ]
     },
     "metadata": {},
     "output_type": "display_data"
    },
    {
     "name": "stdout",
     "output_type": "stream",
     "text": [
      "\n",
      "S159 710.63 min |\n",
      " Train Loss: 0.100388, Acc: 0.982, F: 0.440, Fbeta: 0.486, gbeta: 0.264, geo: 0.358, score: 0.581 |\n",
      " Valid Loss: 0.073986, Acc: 0.986, F: 0.235, Fbeta: 0.243, gbeta: 0.185, geo: 0.212, score: 0.663\n",
      " \n"
     ]
    },
    {
     "data": {
      "application/vnd.jupyter.widget-view+json": {
       "model_id": "0fa5ca439b4542dc84dbbf355c41d63d",
       "version_major": 2,
       "version_minor": 0
      },
      "text/plain": [
       "HBox(children=(FloatProgress(value=1.0, bar_style='info', max=1.0), HTML(value='')))"
      ]
     },
     "metadata": {},
     "output_type": "display_data"
    },
    {
     "name": "stdout",
     "output_type": "stream",
     "text": [
      "\n",
      "S160 715.14 min |\n",
      " Train Loss: 0.100271, Acc: 0.982, F: 0.441, Fbeta: 0.486, gbeta: 0.264, geo: 0.358, score: 0.581 |\n",
      " Valid Loss: 0.073917, Acc: 0.986, F: 0.271, Fbeta: 0.279, gbeta: 0.221, geo: 0.249, score: 0.665\n",
      " \n"
     ]
    },
    {
     "data": {
      "application/vnd.jupyter.widget-view+json": {
       "model_id": "b98d31f636d044a4926f7c6d7f16af58",
       "version_major": 2,
       "version_minor": 0
      },
      "text/plain": [
       "HBox(children=(FloatProgress(value=1.0, bar_style='info', max=1.0), HTML(value='')))"
      ]
     },
     "metadata": {},
     "output_type": "display_data"
    },
    {
     "name": "stdout",
     "output_type": "stream",
     "text": [
      "\n",
      "S161 719.64 min |\n",
      " Train Loss: 0.100155, Acc: 0.982, F: 0.443, Fbeta: 0.489, gbeta: 0.266, geo: 0.360, score: 0.582 |\n",
      " Valid Loss: 0.073846, Acc: 0.986, F: 0.273, Fbeta: 0.280, gbeta: 0.223, geo: 0.250, score: 0.665\n",
      " \n"
     ]
    },
    {
     "data": {
      "application/vnd.jupyter.widget-view+json": {
       "model_id": "852c89cf35484d508723a17401e15b65",
       "version_major": 2,
       "version_minor": 0
      },
      "text/plain": [
       "HBox(children=(FloatProgress(value=1.0, bar_style='info', max=1.0), HTML(value='')))"
      ]
     },
     "metadata": {},
     "output_type": "display_data"
    },
    {
     "name": "stdout",
     "output_type": "stream",
     "text": [
      "\n",
      "S162 724.18 min |\n",
      " Train Loss: 0.100040, Acc: 0.982, F: 0.442, Fbeta: 0.488, gbeta: 0.265, geo: 0.359, score: 0.583 |\n",
      " Valid Loss: 0.073782, Acc: 0.986, F: 0.198, Fbeta: 0.206, gbeta: 0.148, geo: 0.175, score: 0.672\n",
      " \n"
     ]
    },
    {
     "data": {
      "application/vnd.jupyter.widget-view+json": {
       "model_id": "934c30c4673b4ff5b7458c2630841d92",
       "version_major": 2,
       "version_minor": 0
      },
      "text/plain": [
       "HBox(children=(FloatProgress(value=1.0, bar_style='info', max=1.0), HTML(value='')))"
      ]
     },
     "metadata": {},
     "output_type": "display_data"
    },
    {
     "name": "stdout",
     "output_type": "stream",
     "text": [
      "\n",
      "S163 728.67 min |\n",
      " Train Loss: 0.099925, Acc: 0.982, F: 0.443, Fbeta: 0.488, gbeta: 0.266, geo: 0.360, score: 0.584 |\n",
      " Valid Loss: 0.073714, Acc: 0.986, F: 0.236, Fbeta: 0.244, gbeta: 0.186, geo: 0.213, score: 0.664\n",
      " \n"
     ]
    },
    {
     "data": {
      "application/vnd.jupyter.widget-view+json": {
       "model_id": "a2a4ffb3d9d247b7a7a46551d5f85b74",
       "version_major": 2,
       "version_minor": 0
      },
      "text/plain": [
       "HBox(children=(FloatProgress(value=1.0, bar_style='info', max=1.0), HTML(value='')))"
      ]
     },
     "metadata": {},
     "output_type": "display_data"
    },
    {
     "name": "stdout",
     "output_type": "stream",
     "text": [
      "\n",
      "S164 733.12 min |\n",
      " Train Loss: 0.099813, Acc: 0.982, F: 0.441, Fbeta: 0.487, gbeta: 0.265, geo: 0.359, score: 0.584 |\n",
      " Valid Loss: 0.073653, Acc: 0.986, F: 0.234, Fbeta: 0.242, gbeta: 0.185, geo: 0.212, score: 0.660\n",
      " \n"
     ]
    },
    {
     "data": {
      "application/vnd.jupyter.widget-view+json": {
       "model_id": "a1f312ed49dc4fe0aba40319ff2e3e66",
       "version_major": 2,
       "version_minor": 0
      },
      "text/plain": [
       "HBox(children=(FloatProgress(value=1.0, bar_style='info', max=1.0), HTML(value='')))"
      ]
     },
     "metadata": {},
     "output_type": "display_data"
    },
    {
     "name": "stdout",
     "output_type": "stream",
     "text": [
      "\n",
      "S165 737.53 min |\n",
      " Train Loss: 0.099701, Acc: 0.982, F: 0.444, Fbeta: 0.489, gbeta: 0.266, geo: 0.361, score: 0.583 |\n",
      " Valid Loss: 0.073589, Acc: 0.986, F: 0.235, Fbeta: 0.243, gbeta: 0.186, geo: 0.213, score: 0.660\n",
      " \n"
     ]
    },
    {
     "data": {
      "application/vnd.jupyter.widget-view+json": {
       "model_id": "5714978d2e87419b900eb91f6c662a53",
       "version_major": 2,
       "version_minor": 0
      },
      "text/plain": [
       "HBox(children=(FloatProgress(value=1.0, bar_style='info', max=1.0), HTML(value='')))"
      ]
     },
     "metadata": {},
     "output_type": "display_data"
    },
    {
     "name": "stdout",
     "output_type": "stream",
     "text": [
      "\n",
      "S166 741.93 min |\n",
      " Train Loss: 0.099590, Acc: 0.982, F: 0.443, Fbeta: 0.488, gbeta: 0.266, geo: 0.360, score: 0.585 |\n",
      " Valid Loss: 0.073523, Acc: 0.986, F: 0.199, Fbeta: 0.206, gbeta: 0.149, geo: 0.175, score: 0.663\n",
      " \n"
     ]
    },
    {
     "data": {
      "application/vnd.jupyter.widget-view+json": {
       "model_id": "128fcc6007bc41019e6654feb623375a",
       "version_major": 2,
       "version_minor": 0
      },
      "text/plain": [
       "HBox(children=(FloatProgress(value=1.0, bar_style='info', max=1.0), HTML(value='')))"
      ]
     },
     "metadata": {},
     "output_type": "display_data"
    },
    {
     "name": "stdout",
     "output_type": "stream",
     "text": [
      "\n",
      "S167 746.31 min |\n",
      " Train Loss: 0.099480, Acc: 0.982, F: 0.444, Fbeta: 0.490, gbeta: 0.266, geo: 0.361, score: 0.585 |\n",
      " Valid Loss: 0.073455, Acc: 0.986, F: 0.199, Fbeta: 0.207, gbeta: 0.150, geo: 0.176, score: 0.669\n",
      " \n"
     ]
    },
    {
     "data": {
      "application/vnd.jupyter.widget-view+json": {
       "model_id": "f6dc55aabd0740eb98831b56f83ec2aa",
       "version_major": 2,
       "version_minor": 0
      },
      "text/plain": [
       "HBox(children=(FloatProgress(value=1.0, bar_style='info', max=1.0), HTML(value='')))"
      ]
     },
     "metadata": {},
     "output_type": "display_data"
    },
    {
     "name": "stdout",
     "output_type": "stream",
     "text": [
      "\n",
      "S168 750.69 min |\n",
      " Train Loss: 0.099372, Acc: 0.982, F: 0.444, Fbeta: 0.490, gbeta: 0.266, geo: 0.361, score: 0.582 |\n",
      " Valid Loss: 0.073388, Acc: 0.986, F: 0.198, Fbeta: 0.207, gbeta: 0.149, geo: 0.176, score: 0.676\n",
      " \n"
     ]
    },
    {
     "data": {
      "application/vnd.jupyter.widget-view+json": {
       "model_id": "d0f8d51ef7f84ccd8f36b1bf72db2174",
       "version_major": 2,
       "version_minor": 0
      },
      "text/plain": [
       "HBox(children=(FloatProgress(value=1.0, bar_style='info', max=1.0), HTML(value='')))"
      ]
     },
     "metadata": {},
     "output_type": "display_data"
    },
    {
     "name": "stdout",
     "output_type": "stream",
     "text": [
      "\n",
      "S169 755.09 min |\n",
      " Train Loss: 0.099265, Acc: 0.982, F: 0.443, Fbeta: 0.488, gbeta: 0.266, geo: 0.360, score: 0.584 |\n",
      " Valid Loss: 0.073326, Acc: 0.986, F: 0.235, Fbeta: 0.243, gbeta: 0.186, geo: 0.212, score: 0.663\n",
      " \n"
     ]
    },
    {
     "data": {
      "application/vnd.jupyter.widget-view+json": {
       "model_id": "d43b2c2f0d5d4305a4d43a2cda80aab1",
       "version_major": 2,
       "version_minor": 0
      },
      "text/plain": [
       "HBox(children=(FloatProgress(value=1.0, bar_style='info', max=1.0), HTML(value='')))"
      ]
     },
     "metadata": {},
     "output_type": "display_data"
    },
    {
     "name": "stdout",
     "output_type": "stream",
     "text": [
      "\n",
      "S170 759.49 min |\n",
      " Train Loss: 0.099159, Acc: 0.982, F: 0.444, Fbeta: 0.489, gbeta: 0.266, geo: 0.361, score: 0.584 |\n",
      " Valid Loss: 0.073261, Acc: 0.986, F: 0.198, Fbeta: 0.206, gbeta: 0.149, geo: 0.175, score: 0.669\n",
      " \n"
     ]
    },
    {
     "data": {
      "application/vnd.jupyter.widget-view+json": {
       "model_id": "be143f86e3a1490cbc35870da464df13",
       "version_major": 2,
       "version_minor": 0
      },
      "text/plain": [
       "HBox(children=(FloatProgress(value=1.0, bar_style='info', max=1.0), HTML(value='')))"
      ]
     },
     "metadata": {},
     "output_type": "display_data"
    },
    {
     "name": "stdout",
     "output_type": "stream",
     "text": [
      "\n",
      "S171 763.90 min |\n",
      " Train Loss: 0.099055, Acc: 0.982, F: 0.444, Fbeta: 0.490, gbeta: 0.266, geo: 0.361, score: 0.585 |\n",
      " Valid Loss: 0.073197, Acc: 0.986, F: 0.199, Fbeta: 0.207, gbeta: 0.150, geo: 0.176, score: 0.672\n",
      " \n"
     ]
    },
    {
     "data": {
      "application/vnd.jupyter.widget-view+json": {
       "model_id": "635af7c493b942379924979442350bb5",
       "version_major": 2,
       "version_minor": 0
      },
      "text/plain": [
       "HBox(children=(FloatProgress(value=1.0, bar_style='info', max=1.0), HTML(value='')))"
      ]
     },
     "metadata": {},
     "output_type": "display_data"
    },
    {
     "name": "stdout",
     "output_type": "stream",
     "text": [
      "\n",
      "S172 768.26 min |\n",
      " Train Loss: 0.098952, Acc: 0.982, F: 0.444, Fbeta: 0.489, gbeta: 0.266, geo: 0.361, score: 0.584 |\n",
      " Valid Loss: 0.073135, Acc: 0.986, F: 0.199, Fbeta: 0.207, gbeta: 0.149, geo: 0.176, score: 0.658\n",
      " \n"
     ]
    },
    {
     "data": {
      "application/vnd.jupyter.widget-view+json": {
       "model_id": "7a481324df74455193908d8074c31487",
       "version_major": 2,
       "version_minor": 0
      },
      "text/plain": [
       "HBox(children=(FloatProgress(value=1.0, bar_style='info', max=1.0), HTML(value='')))"
      ]
     },
     "metadata": {},
     "output_type": "display_data"
    },
    {
     "name": "stdout",
     "output_type": "stream",
     "text": [
      "\n",
      "S173 772.71 min |\n",
      " Train Loss: 0.098850, Acc: 0.982, F: 0.443, Fbeta: 0.489, gbeta: 0.266, geo: 0.360, score: 0.584 |\n",
      " Valid Loss: 0.073073, Acc: 0.986, F: 0.235, Fbeta: 0.243, gbeta: 0.186, geo: 0.213, score: 0.676\n",
      " \n"
     ]
    },
    {
     "data": {
      "application/vnd.jupyter.widget-view+json": {
       "model_id": "75eb08d5640d48d7bedcc9dd96cc0efb",
       "version_major": 2,
       "version_minor": 0
      },
      "text/plain": [
       "HBox(children=(FloatProgress(value=1.0, bar_style='info', max=1.0), HTML(value='')))"
      ]
     },
     "metadata": {},
     "output_type": "display_data"
    },
    {
     "name": "stdout",
     "output_type": "stream",
     "text": [
      "\n",
      "S174 777.14 min |\n",
      " Train Loss: 0.098749, Acc: 0.982, F: 0.445, Fbeta: 0.490, gbeta: 0.267, geo: 0.362, score: 0.585 |\n",
      " Valid Loss: 0.073013, Acc: 0.986, F: 0.199, Fbeta: 0.207, gbeta: 0.149, geo: 0.176, score: 0.665\n",
      " \n"
     ]
    },
    {
     "data": {
      "application/vnd.jupyter.widget-view+json": {
       "model_id": "1a14aee4cbe74179b7451ceb9776f32e",
       "version_major": 2,
       "version_minor": 0
      },
      "text/plain": [
       "HBox(children=(FloatProgress(value=1.0, bar_style='info', max=1.0), HTML(value='')))"
      ]
     },
     "metadata": {},
     "output_type": "display_data"
    },
    {
     "name": "stdout",
     "output_type": "stream",
     "text": [
      "\n",
      "S175 781.62 min |\n",
      " Train Loss: 0.098648, Acc: 0.982, F: 0.443, Fbeta: 0.488, gbeta: 0.266, geo: 0.360, score: 0.584 |\n",
      " Valid Loss: 0.072956, Acc: 0.986, F: 0.198, Fbeta: 0.206, gbeta: 0.149, geo: 0.175, score: 0.656\n",
      " \n"
     ]
    },
    {
     "data": {
      "application/vnd.jupyter.widget-view+json": {
       "model_id": "ece83eefa8d844529262f4a3f2aae48f",
       "version_major": 2,
       "version_minor": 0
      },
      "text/plain": [
       "HBox(children=(FloatProgress(value=1.0, bar_style='info', max=1.0), HTML(value='')))"
      ]
     },
     "metadata": {},
     "output_type": "display_data"
    },
    {
     "name": "stdout",
     "output_type": "stream",
     "text": [
      "\n",
      "S176 786.07 min |\n",
      " Train Loss: 0.098549, Acc: 0.982, F: 0.445, Fbeta: 0.491, gbeta: 0.267, geo: 0.362, score: 0.585 |\n",
      " Valid Loss: 0.072898, Acc: 0.986, F: 0.198, Fbeta: 0.206, gbeta: 0.149, geo: 0.175, score: 0.665\n",
      " \n"
     ]
    },
    {
     "data": {
      "application/vnd.jupyter.widget-view+json": {
       "model_id": "41749e785df14d65b495d0fa6bcd330c",
       "version_major": 2,
       "version_minor": 0
      },
      "text/plain": [
       "HBox(children=(FloatProgress(value=1.0, bar_style='info', max=1.0), HTML(value='')))"
      ]
     },
     "metadata": {},
     "output_type": "display_data"
    },
    {
     "name": "stdout",
     "output_type": "stream",
     "text": [
      "\n",
      "S177 790.50 min |\n",
      " Train Loss: 0.098451, Acc: 0.982, F: 0.443, Fbeta: 0.488, gbeta: 0.266, geo: 0.360, score: 0.585 |\n",
      " Valid Loss: 0.072838, Acc: 0.986, F: 0.236, Fbeta: 0.244, gbeta: 0.187, geo: 0.213, score: 0.670\n",
      " \n"
     ]
    },
    {
     "data": {
      "application/vnd.jupyter.widget-view+json": {
       "model_id": "2269b5517dd5417397213a8eb9b4af15",
       "version_major": 2,
       "version_minor": 0
      },
      "text/plain": [
       "HBox(children=(FloatProgress(value=1.0, bar_style='info', max=1.0), HTML(value='')))"
      ]
     },
     "metadata": {},
     "output_type": "display_data"
    },
    {
     "name": "stdout",
     "output_type": "stream",
     "text": [
      "\n",
      "S178 794.98 min |\n",
      " Train Loss: 0.098354, Acc: 0.982, F: 0.443, Fbeta: 0.489, gbeta: 0.266, geo: 0.360, score: 0.585 |\n",
      " Valid Loss: 0.072781, Acc: 0.986, F: 0.236, Fbeta: 0.244, gbeta: 0.187, geo: 0.213, score: 0.662\n",
      " \n"
     ]
    },
    {
     "data": {
      "application/vnd.jupyter.widget-view+json": {
       "model_id": "d617559617284a7c98a7dfd37fc27209",
       "version_major": 2,
       "version_minor": 0
      },
      "text/plain": [
       "HBox(children=(FloatProgress(value=1.0, bar_style='info', max=1.0), HTML(value='')))"
      ]
     },
     "metadata": {},
     "output_type": "display_data"
    },
    {
     "name": "stdout",
     "output_type": "stream",
     "text": [
      "\n",
      "S179 799.45 min |\n",
      " Train Loss: 0.098258, Acc: 0.982, F: 0.445, Fbeta: 0.491, gbeta: 0.267, geo: 0.362, score: 0.586 |\n",
      " Valid Loss: 0.072726, Acc: 0.986, F: 0.199, Fbeta: 0.207, gbeta: 0.149, geo: 0.176, score: 0.661\n",
      " \n"
     ]
    },
    {
     "data": {
      "application/vnd.jupyter.widget-view+json": {
       "model_id": "c9eef14274da4f77befaa1e1e1d2c934",
       "version_major": 2,
       "version_minor": 0
      },
      "text/plain": [
       "HBox(children=(FloatProgress(value=1.0, bar_style='info', max=1.0), HTML(value='')))"
      ]
     },
     "metadata": {},
     "output_type": "display_data"
    },
    {
     "name": "stdout",
     "output_type": "stream",
     "text": [
      "\n",
      "S180 803.97 min |\n",
      " Train Loss: 0.098163, Acc: 0.982, F: 0.444, Fbeta: 0.489, gbeta: 0.266, geo: 0.361, score: 0.585 |\n",
      " Valid Loss: 0.072673, Acc: 0.986, F: 0.198, Fbeta: 0.206, gbeta: 0.149, geo: 0.175, score: 0.667\n",
      " \n"
     ]
    },
    {
     "data": {
      "application/vnd.jupyter.widget-view+json": {
       "model_id": "7363b58469d34be98ccf22ee3b81ca53",
       "version_major": 2,
       "version_minor": 0
      },
      "text/plain": [
       "HBox(children=(FloatProgress(value=1.0, bar_style='info', max=1.0), HTML(value='')))"
      ]
     },
     "metadata": {},
     "output_type": "display_data"
    },
    {
     "name": "stdout",
     "output_type": "stream",
     "text": [
      "\n",
      "S181 808.49 min |\n",
      " Train Loss: 0.098068, Acc: 0.982, F: 0.444, Fbeta: 0.489, gbeta: 0.266, geo: 0.361, score: 0.586 |\n",
      " Valid Loss: 0.072618, Acc: 0.986, F: 0.199, Fbeta: 0.207, gbeta: 0.149, geo: 0.176, score: 0.667\n",
      " \n"
     ]
    },
    {
     "data": {
      "application/vnd.jupyter.widget-view+json": {
       "model_id": "cd6395ccc1e14dea8c3958b10d123044",
       "version_major": 2,
       "version_minor": 0
      },
      "text/plain": [
       "HBox(children=(FloatProgress(value=1.0, bar_style='info', max=1.0), HTML(value='')))"
      ]
     },
     "metadata": {},
     "output_type": "display_data"
    },
    {
     "name": "stdout",
     "output_type": "stream",
     "text": [
      "\n",
      "S182 813.01 min |\n",
      " Train Loss: 0.097975, Acc: 0.982, F: 0.444, Fbeta: 0.489, gbeta: 0.267, geo: 0.361, score: 0.586 |\n",
      " Valid Loss: 0.072564, Acc: 0.986, F: 0.198, Fbeta: 0.207, gbeta: 0.149, geo: 0.176, score: 0.674\n",
      " \n"
     ]
    },
    {
     "data": {
      "application/vnd.jupyter.widget-view+json": {
       "model_id": "e63f5e1313044a87ae5046242aee84eb",
       "version_major": 2,
       "version_minor": 0
      },
      "text/plain": [
       "HBox(children=(FloatProgress(value=1.0, bar_style='info', max=1.0), HTML(value='')))"
      ]
     },
     "metadata": {},
     "output_type": "display_data"
    },
    {
     "name": "stdout",
     "output_type": "stream",
     "text": [
      "\n",
      "S183 817.49 min |\n",
      " Train Loss: 0.097883, Acc: 0.982, F: 0.445, Fbeta: 0.491, gbeta: 0.267, geo: 0.362, score: 0.587 |\n",
      " Valid Loss: 0.072509, Acc: 0.986, F: 0.199, Fbeta: 0.207, gbeta: 0.149, geo: 0.176, score: 0.670\n",
      " \n"
     ]
    },
    {
     "data": {
      "application/vnd.jupyter.widget-view+json": {
       "model_id": "03f46f14af22432281553eee613aba22",
       "version_major": 2,
       "version_minor": 0
      },
      "text/plain": [
       "HBox(children=(FloatProgress(value=1.0, bar_style='info', max=1.0), HTML(value='')))"
      ]
     },
     "metadata": {},
     "output_type": "display_data"
    },
    {
     "name": "stdout",
     "output_type": "stream",
     "text": [
      "\n",
      "S184 822.02 min |\n",
      " Train Loss: 0.097792, Acc: 0.982, F: 0.445, Fbeta: 0.491, gbeta: 0.267, geo: 0.362, score: 0.585 |\n",
      " Valid Loss: 0.072456, Acc: 0.986, F: 0.235, Fbeta: 0.243, gbeta: 0.186, geo: 0.213, score: 0.670\n",
      " \n"
     ]
    },
    {
     "data": {
      "application/vnd.jupyter.widget-view+json": {
       "model_id": "87ee2c9d1408415fab32da5356fd3ef4",
       "version_major": 2,
       "version_minor": 0
      },
      "text/plain": [
       "HBox(children=(FloatProgress(value=1.0, bar_style='info', max=1.0), HTML(value='')))"
      ]
     },
     "metadata": {},
     "output_type": "display_data"
    },
    {
     "name": "stdout",
     "output_type": "stream",
     "text": [
      "\n",
      "S185 826.49 min |\n",
      " Train Loss: 0.097702, Acc: 0.982, F: 0.445, Fbeta: 0.491, gbeta: 0.267, geo: 0.362, score: 0.585 |\n",
      " Valid Loss: 0.072402, Acc: 0.986, F: 0.236, Fbeta: 0.243, gbeta: 0.186, geo: 0.213, score: 0.671\n",
      " \n"
     ]
    },
    {
     "data": {
      "application/vnd.jupyter.widget-view+json": {
       "model_id": "9f986b808bbe499a8458ab1d45afd962",
       "version_major": 2,
       "version_minor": 0
      },
      "text/plain": [
       "HBox(children=(FloatProgress(value=1.0, bar_style='info', max=1.0), HTML(value='')))"
      ]
     },
     "metadata": {},
     "output_type": "display_data"
    },
    {
     "name": "stdout",
     "output_type": "stream",
     "text": [
      "\n",
      "S186 830.95 min |\n",
      " Train Loss: 0.097612, Acc: 0.982, F: 0.445, Fbeta: 0.490, gbeta: 0.267, geo: 0.362, score: 0.584 |\n",
      " Valid Loss: 0.072349, Acc: 0.986, F: 0.198, Fbeta: 0.207, gbeta: 0.149, geo: 0.176, score: 0.672\n",
      " \n"
     ]
    },
    {
     "data": {
      "application/vnd.jupyter.widget-view+json": {
       "model_id": "8cb5376caf6446a0bfd3aada4deec4c8",
       "version_major": 2,
       "version_minor": 0
      },
      "text/plain": [
       "HBox(children=(FloatProgress(value=1.0, bar_style='info', max=1.0), HTML(value='')))"
      ]
     },
     "metadata": {},
     "output_type": "display_data"
    },
    {
     "name": "stdout",
     "output_type": "stream",
     "text": [
      "\n",
      "S187 835.38 min |\n",
      " Train Loss: 0.097524, Acc: 0.982, F: 0.445, Fbeta: 0.491, gbeta: 0.267, geo: 0.362, score: 0.586 |\n",
      " Valid Loss: 0.072296, Acc: 0.986, F: 0.199, Fbeta: 0.207, gbeta: 0.149, geo: 0.176, score: 0.663\n",
      " \n"
     ]
    },
    {
     "data": {
      "application/vnd.jupyter.widget-view+json": {
       "model_id": "0f87c91b2b9b41ecad61dfd00713c854",
       "version_major": 2,
       "version_minor": 0
      },
      "text/plain": [
       "HBox(children=(FloatProgress(value=1.0, bar_style='info', max=1.0), HTML(value='')))"
      ]
     },
     "metadata": {},
     "output_type": "display_data"
    },
    {
     "name": "stdout",
     "output_type": "stream",
     "text": [
      "\n",
      "S188 839.75 min |\n",
      " Train Loss: 0.097435, Acc: 0.982, F: 0.445, Fbeta: 0.491, gbeta: 0.267, geo: 0.362, score: 0.587 |\n",
      " Valid Loss: 0.072246, Acc: 0.986, F: 0.199, Fbeta: 0.206, gbeta: 0.149, geo: 0.176, score: 0.658\n",
      " \n"
     ]
    },
    {
     "data": {
      "application/vnd.jupyter.widget-view+json": {
       "model_id": "85b1d9d76e3f44d79c37f0b90b7feb37",
       "version_major": 2,
       "version_minor": 0
      },
      "text/plain": [
       "HBox(children=(FloatProgress(value=1.0, bar_style='info', max=1.0), HTML(value='')))"
      ]
     },
     "metadata": {},
     "output_type": "display_data"
    },
    {
     "name": "stdout",
     "output_type": "stream",
     "text": [
      "\n",
      "S189 844.15 min |\n",
      " Train Loss: 0.097349, Acc: 0.982, F: 0.445, Fbeta: 0.490, gbeta: 0.267, geo: 0.362, score: 0.585 |\n",
      " Valid Loss: 0.072193, Acc: 0.986, F: 0.236, Fbeta: 0.244, gbeta: 0.187, geo: 0.213, score: 0.674\n",
      " \n"
     ]
    },
    {
     "data": {
      "application/vnd.jupyter.widget-view+json": {
       "model_id": "dffdcd9bb7674d91b6b928a97f8e931a",
       "version_major": 2,
       "version_minor": 0
      },
      "text/plain": [
       "HBox(children=(FloatProgress(value=1.0, bar_style='info', max=1.0), HTML(value='')))"
      ]
     },
     "metadata": {},
     "output_type": "display_data"
    },
    {
     "name": "stdout",
     "output_type": "stream",
     "text": [
      "\n",
      "S190 848.61 min |\n",
      " Train Loss: 0.097264, Acc: 0.982, F: 0.445, Fbeta: 0.490, gbeta: 0.267, geo: 0.362, score: 0.586 |\n",
      " Valid Loss: 0.072145, Acc: 0.986, F: 0.161, Fbeta: 0.169, gbeta: 0.112, geo: 0.137, score: 0.675\n",
      " \n"
     ]
    },
    {
     "data": {
      "application/vnd.jupyter.widget-view+json": {
       "model_id": "8e4d73cf9a7843e48663321d7c9c2878",
       "version_major": 2,
       "version_minor": 0
      },
      "text/plain": [
       "HBox(children=(FloatProgress(value=1.0, bar_style='info', max=1.0), HTML(value='')))"
      ]
     },
     "metadata": {},
     "output_type": "display_data"
    },
    {
     "name": "stdout",
     "output_type": "stream",
     "text": [
      "\n",
      "S191 853.05 min |\n",
      " Train Loss: 0.097179, Acc: 0.982, F: 0.445, Fbeta: 0.490, gbeta: 0.267, geo: 0.362, score: 0.584 |\n",
      " Valid Loss: 0.072092, Acc: 0.986, F: 0.199, Fbeta: 0.207, gbeta: 0.150, geo: 0.176, score: 0.679\n",
      " \n"
     ]
    },
    {
     "data": {
      "application/vnd.jupyter.widget-view+json": {
       "model_id": "1f71b81fd5e24bc5b05f14293aa3a6da",
       "version_major": 2,
       "version_minor": 0
      },
      "text/plain": [
       "HBox(children=(FloatProgress(value=1.0, bar_style='info', max=1.0), HTML(value='')))"
      ]
     },
     "metadata": {},
     "output_type": "display_data"
    },
    {
     "name": "stdout",
     "output_type": "stream",
     "text": [
      "\n",
      "S192 857.44 min |\n",
      " Train Loss: 0.097095, Acc: 0.982, F: 0.445, Fbeta: 0.491, gbeta: 0.267, geo: 0.362, score: 0.585 |\n",
      " Valid Loss: 0.072040, Acc: 0.986, F: 0.199, Fbeta: 0.207, gbeta: 0.150, geo: 0.176, score: 0.672\n",
      " \n"
     ]
    },
    {
     "data": {
      "application/vnd.jupyter.widget-view+json": {
       "model_id": "2370311ad41c4bb6b3416f929383290e",
       "version_major": 2,
       "version_minor": 0
      },
      "text/plain": [
       "HBox(children=(FloatProgress(value=1.0, bar_style='info', max=1.0), HTML(value='')))"
      ]
     },
     "metadata": {},
     "output_type": "display_data"
    },
    {
     "name": "stdout",
     "output_type": "stream",
     "text": [
      "\n",
      "S193 861.85 min |\n",
      " Train Loss: 0.097011, Acc: 0.982, F: 0.446, Fbeta: 0.492, gbeta: 0.268, geo: 0.363, score: 0.585 |\n",
      " Valid Loss: 0.071988, Acc: 0.986, F: 0.199, Fbeta: 0.207, gbeta: 0.150, geo: 0.176, score: 0.672\n",
      " \n"
     ]
    },
    {
     "data": {
      "application/vnd.jupyter.widget-view+json": {
       "model_id": "27552c9cacc64f30bc861e2e99c80d28",
       "version_major": 2,
       "version_minor": 0
      },
      "text/plain": [
       "HBox(children=(FloatProgress(value=1.0, bar_style='info', max=1.0), HTML(value='')))"
      ]
     },
     "metadata": {},
     "output_type": "display_data"
    },
    {
     "name": "stdout",
     "output_type": "stream",
     "text": [
      "\n",
      "S194 866.31 min |\n",
      " Train Loss: 0.096929, Acc: 0.982, F: 0.445, Fbeta: 0.491, gbeta: 0.267, geo: 0.362, score: 0.586 |\n",
      " Valid Loss: 0.071940, Acc: 0.986, F: 0.236, Fbeta: 0.244, gbeta: 0.187, geo: 0.213, score: 0.661\n",
      " \n"
     ]
    },
    {
     "data": {
      "application/vnd.jupyter.widget-view+json": {
       "model_id": "c1ddf3948a8648c0b222cfe056928e35",
       "version_major": 2,
       "version_minor": 0
      },
      "text/plain": [
       "HBox(children=(FloatProgress(value=1.0, bar_style='info', max=1.0), HTML(value='')))"
      ]
     },
     "metadata": {},
     "output_type": "display_data"
    },
    {
     "name": "stdout",
     "output_type": "stream",
     "text": [
      "\n",
      "S195 870.75 min |\n",
      " Train Loss: 0.096847, Acc: 0.982, F: 0.446, Fbeta: 0.491, gbeta: 0.268, geo: 0.363, score: 0.587 |\n",
      " Valid Loss: 0.071891, Acc: 0.986, F: 0.199, Fbeta: 0.207, gbeta: 0.150, geo: 0.176, score: 0.672\n",
      " \n"
     ]
    },
    {
     "data": {
      "application/vnd.jupyter.widget-view+json": {
       "model_id": "e34e7e17c2994d33a2ca5c4d31f7b5b0",
       "version_major": 2,
       "version_minor": 0
      },
      "text/plain": [
       "HBox(children=(FloatProgress(value=1.0, bar_style='info', max=1.0), HTML(value='')))"
      ]
     },
     "metadata": {},
     "output_type": "display_data"
    },
    {
     "name": "stdout",
     "output_type": "stream",
     "text": [
      "\n",
      "S196 875.20 min |\n",
      " Train Loss: 0.096766, Acc: 0.982, F: 0.445, Fbeta: 0.490, gbeta: 0.267, geo: 0.362, score: 0.586 |\n",
      " Valid Loss: 0.071844, Acc: 0.986, F: 0.198, Fbeta: 0.206, gbeta: 0.149, geo: 0.175, score: 0.663\n",
      " \n"
     ]
    },
    {
     "data": {
      "application/vnd.jupyter.widget-view+json": {
       "model_id": "5ddb289aca7b4721be6255076345a782",
       "version_major": 2,
       "version_minor": 0
      },
      "text/plain": [
       "HBox(children=(FloatProgress(value=1.0, bar_style='info', max=1.0), HTML(value='')))"
      ]
     },
     "metadata": {},
     "output_type": "display_data"
    },
    {
     "name": "stdout",
     "output_type": "stream",
     "text": [
      "\n",
      "S197 879.63 min |\n",
      " Train Loss: 0.096686, Acc: 0.982, F: 0.445, Fbeta: 0.491, gbeta: 0.267, geo: 0.362, score: 0.585 |\n",
      " Valid Loss: 0.071797, Acc: 0.986, F: 0.199, Fbeta: 0.207, gbeta: 0.149, geo: 0.176, score: 0.666\n",
      " \n"
     ]
    },
    {
     "data": {
      "application/vnd.jupyter.widget-view+json": {
       "model_id": "4d751b60b6524d909a9148f8a465ed1c",
       "version_major": 2,
       "version_minor": 0
      },
      "text/plain": [
       "HBox(children=(FloatProgress(value=1.0, bar_style='info', max=1.0), HTML(value='')))"
      ]
     },
     "metadata": {},
     "output_type": "display_data"
    },
    {
     "name": "stdout",
     "output_type": "stream",
     "text": [
      "\n",
      "S198 884.06 min |\n",
      " Train Loss: 0.096606, Acc: 0.982, F: 0.445, Fbeta: 0.491, gbeta: 0.267, geo: 0.362, score: 0.587 |\n",
      " Valid Loss: 0.071751, Acc: 0.986, F: 0.198, Fbeta: 0.206, gbeta: 0.149, geo: 0.175, score: 0.664\n",
      " \n"
     ]
    },
    {
     "data": {
      "application/vnd.jupyter.widget-view+json": {
       "model_id": "389d9e4749364d79a86419ad08d0d30a",
       "version_major": 2,
       "version_minor": 0
      },
      "text/plain": [
       "HBox(children=(FloatProgress(value=1.0, bar_style='info', max=1.0), HTML(value='')))"
      ]
     },
     "metadata": {},
     "output_type": "display_data"
    },
    {
     "name": "stdout",
     "output_type": "stream",
     "text": [
      "\n",
      "S199 888.50 min |\n",
      " Train Loss: 0.096528, Acc: 0.982, F: 0.444, Fbeta: 0.490, gbeta: 0.267, geo: 0.361, score: 0.586 |\n",
      " Valid Loss: 0.071702, Acc: 0.986, F: 0.199, Fbeta: 0.207, gbeta: 0.150, geo: 0.176, score: 0.678\n",
      " \n"
     ]
    },
    {
     "data": {
      "application/vnd.jupyter.widget-view+json": {
       "model_id": "24cd457916584a25bfe14664b347ac41",
       "version_major": 2,
       "version_minor": 0
      },
      "text/plain": [
       "HBox(children=(FloatProgress(value=1.0, bar_style='info', max=1.0), HTML(value='')))"
      ]
     },
     "metadata": {},
     "output_type": "display_data"
    },
    {
     "name": "stdout",
     "output_type": "stream",
     "text": [
      "\n",
      "S200 893.02 min |\n",
      " Train Loss: 0.096450, Acc: 0.982, F: 0.445, Fbeta: 0.491, gbeta: 0.267, geo: 0.362, score: 0.586 |\n",
      " Valid Loss: 0.071654, Acc: 0.986, F: 0.236, Fbeta: 0.244, gbeta: 0.187, geo: 0.214, score: 0.673\n",
      " \n"
     ]
    },
    {
     "data": {
      "application/vnd.jupyter.widget-view+json": {
       "model_id": "bfe657c248f740268e78551ac1a1281e",
       "version_major": 2,
       "version_minor": 0
      },
      "text/plain": [
       "HBox(children=(FloatProgress(value=1.0, bar_style='info', max=1.0), HTML(value='')))"
      ]
     },
     "metadata": {},
     "output_type": "display_data"
    },
    {
     "name": "stdout",
     "output_type": "stream",
     "text": [
      "\n",
      "S201 897.55 min |\n",
      " Train Loss: 0.096373, Acc: 0.982, F: 0.445, Fbeta: 0.490, gbeta: 0.267, geo: 0.362, score: 0.586 |\n",
      " Valid Loss: 0.071608, Acc: 0.986, F: 0.235, Fbeta: 0.244, gbeta: 0.186, geo: 0.213, score: 0.671\n",
      " \n"
     ]
    },
    {
     "data": {
      "application/vnd.jupyter.widget-view+json": {
       "model_id": "ada87ab9cfae486293def6097764fb79",
       "version_major": 2,
       "version_minor": 0
      },
      "text/plain": [
       "HBox(children=(FloatProgress(value=1.0, bar_style='info', max=1.0), HTML(value='')))"
      ]
     },
     "metadata": {},
     "output_type": "display_data"
    },
    {
     "name": "stdout",
     "output_type": "stream",
     "text": [
      "\n",
      "S202 902.06 min |\n",
      " Train Loss: 0.096296, Acc: 0.982, F: 0.445, Fbeta: 0.490, gbeta: 0.267, geo: 0.362, score: 0.585 |\n",
      " Valid Loss: 0.071565, Acc: 0.986, F: 0.198, Fbeta: 0.207, gbeta: 0.149, geo: 0.175, score: 0.674\n",
      " \n"
     ]
    },
    {
     "data": {
      "application/vnd.jupyter.widget-view+json": {
       "model_id": "fff93fe92dcf4ed5b220351fbe592fd9",
       "version_major": 2,
       "version_minor": 0
      },
      "text/plain": [
       "HBox(children=(FloatProgress(value=1.0, bar_style='info', max=1.0), HTML(value='')))"
      ]
     },
     "metadata": {},
     "output_type": "display_data"
    },
    {
     "name": "stdout",
     "output_type": "stream",
     "text": [
      "\n",
      "S203 906.55 min |\n",
      " Train Loss: 0.096221, Acc: 0.982, F: 0.443, Fbeta: 0.488, gbeta: 0.266, geo: 0.360, score: 0.585 |\n",
      " Valid Loss: 0.071520, Acc: 0.986, F: 0.198, Fbeta: 0.206, gbeta: 0.148, geo: 0.175, score: 0.680\n",
      " \n"
     ]
    },
    {
     "data": {
      "application/vnd.jupyter.widget-view+json": {
       "model_id": "6a32f40c9d6f4cff8b00c5eb4edf4ddd",
       "version_major": 2,
       "version_minor": 0
      },
      "text/plain": [
       "HBox(children=(FloatProgress(value=1.0, bar_style='info', max=1.0), HTML(value='')))"
      ]
     },
     "metadata": {},
     "output_type": "display_data"
    },
    {
     "name": "stdout",
     "output_type": "stream",
     "text": [
      "\n",
      "S204 911.00 min |\n",
      " Train Loss: 0.096146, Acc: 0.982, F: 0.446, Fbeta: 0.492, gbeta: 0.268, geo: 0.363, score: 0.587 |\n",
      " Valid Loss: 0.071474, Acc: 0.986, F: 0.199, Fbeta: 0.207, gbeta: 0.150, geo: 0.176, score: 0.662\n",
      " \n"
     ]
    },
    {
     "data": {
      "application/vnd.jupyter.widget-view+json": {
       "model_id": "ad160781c7314c458d0bf1ed2e843c5c",
       "version_major": 2,
       "version_minor": 0
      },
      "text/plain": [
       "HBox(children=(FloatProgress(value=1.0, bar_style='info', max=1.0), HTML(value='')))"
      ]
     },
     "metadata": {},
     "output_type": "display_data"
    },
    {
     "name": "stdout",
     "output_type": "stream",
     "text": [
      "\n",
      "S205 915.43 min |\n",
      " Train Loss: 0.096071, Acc: 0.982, F: 0.446, Fbeta: 0.492, gbeta: 0.268, geo: 0.363, score: 0.586 |\n",
      " Valid Loss: 0.071432, Acc: 0.986, F: 0.199, Fbeta: 0.207, gbeta: 0.149, geo: 0.176, score: 0.674\n",
      " \n"
     ]
    },
    {
     "data": {
      "application/vnd.jupyter.widget-view+json": {
       "model_id": "6abb8f38ac6d4f72ad644b8f70cff6fe",
       "version_major": 2,
       "version_minor": 0
      },
      "text/plain": [
       "HBox(children=(FloatProgress(value=1.0, bar_style='info', max=1.0), HTML(value='')))"
      ]
     },
     "metadata": {},
     "output_type": "display_data"
    },
    {
     "name": "stdout",
     "output_type": "stream",
     "text": [
      "\n",
      "S206 919.86 min |\n",
      " Train Loss: 0.095998, Acc: 0.982, F: 0.445, Fbeta: 0.491, gbeta: 0.268, geo: 0.362, score: 0.587 |\n",
      " Valid Loss: 0.071387, Acc: 0.986, F: 0.199, Fbeta: 0.207, gbeta: 0.150, geo: 0.176, score: 0.669\n",
      " \n"
     ]
    },
    {
     "data": {
      "application/vnd.jupyter.widget-view+json": {
       "model_id": "558977b0cc794b9ead0df77bb3f4aac6",
       "version_major": 2,
       "version_minor": 0
      },
      "text/plain": [
       "HBox(children=(FloatProgress(value=1.0, bar_style='info', max=1.0), HTML(value='')))"
      ]
     },
     "metadata": {},
     "output_type": "display_data"
    },
    {
     "name": "stdout",
     "output_type": "stream",
     "text": [
      "\n",
      "S207 924.26 min |\n",
      " Train Loss: 0.095925, Acc: 0.982, F: 0.448, Fbeta: 0.493, gbeta: 0.269, geo: 0.364, score: 0.587 |\n",
      " Valid Loss: 0.071341, Acc: 0.986, F: 0.199, Fbeta: 0.207, gbeta: 0.150, geo: 0.176, score: 0.674\n",
      " \n"
     ]
    },
    {
     "data": {
      "application/vnd.jupyter.widget-view+json": {
       "model_id": "a5d1fdf9f93546cd8a11f10b259117c6",
       "version_major": 2,
       "version_minor": 0
      },
      "text/plain": [
       "HBox(children=(FloatProgress(value=1.0, bar_style='info', max=1.0), HTML(value='')))"
      ]
     },
     "metadata": {},
     "output_type": "display_data"
    },
    {
     "name": "stdout",
     "output_type": "stream",
     "text": [
      "\n",
      "S208 928.69 min |\n",
      " Train Loss: 0.095853, Acc: 0.982, F: 0.447, Fbeta: 0.493, gbeta: 0.269, geo: 0.364, score: 0.585 |\n",
      " Valid Loss: 0.071297, Acc: 0.986, F: 0.236, Fbeta: 0.244, gbeta: 0.187, geo: 0.213, score: 0.673\n",
      " \n"
     ]
    },
    {
     "data": {
      "application/vnd.jupyter.widget-view+json": {
       "model_id": "878f9870df734efca965393d3cfae2ae",
       "version_major": 2,
       "version_minor": 0
      },
      "text/plain": [
       "HBox(children=(FloatProgress(value=1.0, bar_style='info', max=1.0), HTML(value='')))"
      ]
     },
     "metadata": {},
     "output_type": "display_data"
    },
    {
     "name": "stdout",
     "output_type": "stream",
     "text": [
      "\n",
      "S209 933.12 min |\n",
      " Train Loss: 0.095781, Acc: 0.982, F: 0.446, Fbeta: 0.492, gbeta: 0.268, geo: 0.363, score: 0.586 |\n",
      " Valid Loss: 0.071255, Acc: 0.986, F: 0.199, Fbeta: 0.207, gbeta: 0.149, geo: 0.176, score: 0.670\n",
      " \n"
     ]
    },
    {
     "data": {
      "application/vnd.jupyter.widget-view+json": {
       "model_id": "d3d439d784ab479da33d532cf2ae48a9",
       "version_major": 2,
       "version_minor": 0
      },
      "text/plain": [
       "HBox(children=(FloatProgress(value=1.0, bar_style='info', max=1.0), HTML(value='')))"
      ]
     },
     "metadata": {},
     "output_type": "display_data"
    },
    {
     "name": "stdout",
     "output_type": "stream",
     "text": [
      "\n",
      "S210 937.51 min |\n",
      " Train Loss: 0.095710, Acc: 0.982, F: 0.447, Fbeta: 0.492, gbeta: 0.269, geo: 0.364, score: 0.587 |\n",
      " Valid Loss: 0.071214, Acc: 0.986, F: 0.199, Fbeta: 0.207, gbeta: 0.149, geo: 0.176, score: 0.675\n",
      " \n"
     ]
    },
    {
     "data": {
      "application/vnd.jupyter.widget-view+json": {
       "model_id": "bd4e638672074d8c8bc0f9bb33eae6ad",
       "version_major": 2,
       "version_minor": 0
      },
      "text/plain": [
       "HBox(children=(FloatProgress(value=1.0, bar_style='info', max=1.0), HTML(value='')))"
      ]
     },
     "metadata": {},
     "output_type": "display_data"
    },
    {
     "name": "stdout",
     "output_type": "stream",
     "text": [
      "\n",
      "S211 941.94 min |\n",
      " Train Loss: 0.095640, Acc: 0.982, F: 0.445, Fbeta: 0.490, gbeta: 0.267, geo: 0.362, score: 0.587 |\n",
      " Valid Loss: 0.071172, Acc: 0.986, F: 0.199, Fbeta: 0.207, gbeta: 0.149, geo: 0.176, score: 0.675\n",
      " \n"
     ]
    },
    {
     "data": {
      "application/vnd.jupyter.widget-view+json": {
       "model_id": "23d7efb84fbe42598df1ece0d00870a6",
       "version_major": 2,
       "version_minor": 0
      },
      "text/plain": [
       "HBox(children=(FloatProgress(value=1.0, bar_style='info', max=1.0), HTML(value='')))"
      ]
     },
     "metadata": {},
     "output_type": "display_data"
    },
    {
     "name": "stdout",
     "output_type": "stream",
     "text": [
      "\n",
      "S212 946.37 min |\n",
      " Train Loss: 0.095570, Acc: 0.982, F: 0.447, Fbeta: 0.492, gbeta: 0.268, geo: 0.363, score: 0.586 |\n",
      " Valid Loss: 0.071129, Acc: 0.986, F: 0.237, Fbeta: 0.245, gbeta: 0.188, geo: 0.214, score: 0.672\n",
      " \n"
     ]
    },
    {
     "data": {
      "application/vnd.jupyter.widget-view+json": {
       "model_id": "137e21c9deee44dda0145cc27f9956f1",
       "version_major": 2,
       "version_minor": 0
      },
      "text/plain": [
       "HBox(children=(FloatProgress(value=1.0, bar_style='info', max=1.0), HTML(value='')))"
      ]
     },
     "metadata": {},
     "output_type": "display_data"
    },
    {
     "name": "stdout",
     "output_type": "stream",
     "text": [
      "\n",
      "S213 950.85 min |\n",
      " Train Loss: 0.095501, Acc: 0.982, F: 0.448, Fbeta: 0.493, gbeta: 0.269, geo: 0.365, score: 0.587 |\n",
      " Valid Loss: 0.071086, Acc: 0.986, F: 0.236, Fbeta: 0.244, gbeta: 0.187, geo: 0.214, score: 0.678\n",
      " \n"
     ]
    },
    {
     "data": {
      "application/vnd.jupyter.widget-view+json": {
       "model_id": "5acbe35a7cc049d09348f89586045bf9",
       "version_major": 2,
       "version_minor": 0
      },
      "text/plain": [
       "HBox(children=(FloatProgress(value=1.0, bar_style='info', max=1.0), HTML(value='')))"
      ]
     },
     "metadata": {},
     "output_type": "display_data"
    },
    {
     "name": "stdout",
     "output_type": "stream",
     "text": [
      "\n",
      "S214 955.30 min |\n",
      " Train Loss: 0.095432, Acc: 0.982, F: 0.446, Fbeta: 0.491, gbeta: 0.268, geo: 0.363, score: 0.587 |\n",
      " Valid Loss: 0.071045, Acc: 0.986, F: 0.236, Fbeta: 0.244, gbeta: 0.187, geo: 0.214, score: 0.673\n",
      " \n"
     ]
    },
    {
     "data": {
      "application/vnd.jupyter.widget-view+json": {
       "model_id": "0cc08518940b486e8384658d62808f48",
       "version_major": 2,
       "version_minor": 0
      },
      "text/plain": [
       "HBox(children=(FloatProgress(value=1.0, bar_style='info', max=1.0), HTML(value='')))"
      ]
     },
     "metadata": {},
     "output_type": "display_data"
    },
    {
     "name": "stdout",
     "output_type": "stream",
     "text": [
      "\n",
      "S215 959.76 min |\n",
      " Train Loss: 0.095364, Acc: 0.982, F: 0.446, Fbeta: 0.492, gbeta: 0.268, geo: 0.363, score: 0.587 |\n",
      " Valid Loss: 0.071003, Acc: 0.986, F: 0.235, Fbeta: 0.244, gbeta: 0.186, geo: 0.213, score: 0.681\n",
      " \n"
     ]
    },
    {
     "data": {
      "application/vnd.jupyter.widget-view+json": {
       "model_id": "7ea4395cf42e4f8e8c121090e1d82304",
       "version_major": 2,
       "version_minor": 0
      },
      "text/plain": [
       "HBox(children=(FloatProgress(value=1.0, bar_style='info', max=1.0), HTML(value='')))"
      ]
     },
     "metadata": {},
     "output_type": "display_data"
    },
    {
     "name": "stdout",
     "output_type": "stream",
     "text": [
      "\n",
      "S216 964.22 min |\n",
      " Train Loss: 0.095297, Acc: 0.982, F: 0.444, Fbeta: 0.490, gbeta: 0.267, geo: 0.362, score: 0.587 |\n",
      " Valid Loss: 0.070964, Acc: 0.986, F: 0.236, Fbeta: 0.244, gbeta: 0.187, geo: 0.214, score: 0.667\n",
      " \n"
     ]
    },
    {
     "data": {
      "application/vnd.jupyter.widget-view+json": {
       "model_id": "5ff1b4c5a40b429d85e1a9e7f1b3cd68",
       "version_major": 2,
       "version_minor": 0
      },
      "text/plain": [
       "HBox(children=(FloatProgress(value=1.0, bar_style='info', max=1.0), HTML(value='')))"
      ]
     },
     "metadata": {},
     "output_type": "display_data"
    },
    {
     "name": "stdout",
     "output_type": "stream",
     "text": [
      "\n",
      "S217 968.77 min |\n",
      " Train Loss: 0.095230, Acc: 0.982, F: 0.446, Fbeta: 0.492, gbeta: 0.268, geo: 0.363, score: 0.587 |\n",
      " Valid Loss: 0.070925, Acc: 0.986, F: 0.198, Fbeta: 0.206, gbeta: 0.149, geo: 0.175, score: 0.664\n",
      " \n"
     ]
    },
    {
     "data": {
      "application/vnd.jupyter.widget-view+json": {
       "model_id": "d7bf319c94494f9bb1aaf9487b733ae6",
       "version_major": 2,
       "version_minor": 0
      },
      "text/plain": [
       "HBox(children=(FloatProgress(value=1.0, bar_style='info', max=1.0), HTML(value='')))"
      ]
     },
     "metadata": {},
     "output_type": "display_data"
    },
    {
     "name": "stdout",
     "output_type": "stream",
     "text": [
      "\n",
      "S218 973.27 min |\n",
      " Train Loss: 0.095164, Acc: 0.982, F: 0.447, Fbeta: 0.493, gbeta: 0.268, geo: 0.364, score: 0.586 |\n",
      " Valid Loss: 0.070884, Acc: 0.986, F: 0.199, Fbeta: 0.207, gbeta: 0.150, geo: 0.176, score: 0.664\n",
      " \n"
     ]
    },
    {
     "data": {
      "application/vnd.jupyter.widget-view+json": {
       "model_id": "c8572d2d592f430090984d696d990aae",
       "version_major": 2,
       "version_minor": 0
      },
      "text/plain": [
       "HBox(children=(FloatProgress(value=1.0, bar_style='info', max=1.0), HTML(value='')))"
      ]
     },
     "metadata": {},
     "output_type": "display_data"
    },
    {
     "name": "stdout",
     "output_type": "stream",
     "text": [
      "\n",
      "S219 977.74 min |\n",
      " Train Loss: 0.095098, Acc: 0.982, F: 0.447, Fbeta: 0.493, gbeta: 0.269, geo: 0.364, score: 0.586 |\n",
      " Valid Loss: 0.070844, Acc: 0.986, F: 0.199, Fbeta: 0.207, gbeta: 0.150, geo: 0.176, score: 0.668\n",
      " \n"
     ]
    },
    {
     "data": {
      "application/vnd.jupyter.widget-view+json": {
       "model_id": "de152b1eef6349bf9acad0dee9b7106f",
       "version_major": 2,
       "version_minor": 0
      },
      "text/plain": [
       "HBox(children=(FloatProgress(value=1.0, bar_style='info', max=1.0), HTML(value='')))"
      ]
     },
     "metadata": {},
     "output_type": "display_data"
    },
    {
     "name": "stdout",
     "output_type": "stream",
     "text": [
      "\n",
      "S220 982.22 min |\n",
      " Train Loss: 0.095033, Acc: 0.982, F: 0.449, Fbeta: 0.495, gbeta: 0.270, geo: 0.365, score: 0.589 |\n",
      " Valid Loss: 0.070806, Acc: 0.986, F: 0.236, Fbeta: 0.244, gbeta: 0.187, geo: 0.213, score: 0.663\n",
      " \n"
     ]
    },
    {
     "data": {
      "application/vnd.jupyter.widget-view+json": {
       "model_id": "a6c716fd6e2c4da0abcc96afb7580950",
       "version_major": 2,
       "version_minor": 0
      },
      "text/plain": [
       "HBox(children=(FloatProgress(value=1.0, bar_style='info', max=1.0), HTML(value='')))"
      ]
     },
     "metadata": {},
     "output_type": "display_data"
    },
    {
     "name": "stdout",
     "output_type": "stream",
     "text": [
      "\n",
      "S221 986.73 min |\n",
      " Train Loss: 0.094969, Acc: 0.982, F: 0.447, Fbeta: 0.492, gbeta: 0.269, geo: 0.364, score: 0.585 |\n",
      " Valid Loss: 0.070770, Acc: 0.986, F: 0.198, Fbeta: 0.206, gbeta: 0.149, geo: 0.176, score: 0.669\n",
      " \n"
     ]
    },
    {
     "data": {
      "application/vnd.jupyter.widget-view+json": {
       "model_id": "ac5b8f41eb004119a40c4a21fdf9f5ce",
       "version_major": 2,
       "version_minor": 0
      },
      "text/plain": [
       "HBox(children=(FloatProgress(value=1.0, bar_style='info', max=1.0), HTML(value='')))"
      ]
     },
     "metadata": {},
     "output_type": "display_data"
    },
    {
     "name": "stdout",
     "output_type": "stream",
     "text": [
      "\n",
      "S222 991.22 min |\n",
      " Train Loss: 0.094905, Acc: 0.982, F: 0.446, Fbeta: 0.492, gbeta: 0.268, geo: 0.363, score: 0.587 |\n",
      " Valid Loss: 0.070734, Acc: 0.986, F: 0.199, Fbeta: 0.207, gbeta: 0.150, geo: 0.176, score: 0.654\n",
      " \n"
     ]
    },
    {
     "data": {
      "application/vnd.jupyter.widget-view+json": {
       "model_id": "8605e8b3d931494b8bdf48044246f843",
       "version_major": 2,
       "version_minor": 0
      },
      "text/plain": [
       "HBox(children=(FloatProgress(value=1.0, bar_style='info', max=1.0), HTML(value='')))"
      ]
     },
     "metadata": {},
     "output_type": "display_data"
    },
    {
     "name": "stdout",
     "output_type": "stream",
     "text": [
      "\n",
      "S223 995.85 min |\n",
      " Train Loss: 0.094842, Acc: 0.982, F: 0.447, Fbeta: 0.493, gbeta: 0.269, geo: 0.364, score: 0.586 |\n",
      " Valid Loss: 0.070698, Acc: 0.986, F: 0.198, Fbeta: 0.206, gbeta: 0.148, geo: 0.175, score: 0.677\n",
      " \n"
     ]
    },
    {
     "data": {
      "application/vnd.jupyter.widget-view+json": {
       "model_id": "9e59878747cf437a88f9f629529dc3af",
       "version_major": 2,
       "version_minor": 0
      },
      "text/plain": [
       "HBox(children=(FloatProgress(value=1.0, bar_style='info', max=1.0), HTML(value='')))"
      ]
     },
     "metadata": {},
     "output_type": "display_data"
    },
    {
     "name": "stdout",
     "output_type": "stream",
     "text": [
      "\n",
      "S224 1000.37 min |\n",
      " Train Loss: 0.094779, Acc: 0.982, F: 0.446, Fbeta: 0.492, gbeta: 0.268, geo: 0.363, score: 0.587 |\n",
      " Valid Loss: 0.070660, Acc: 0.986, F: 0.236, Fbeta: 0.244, gbeta: 0.187, geo: 0.213, score: 0.669\n",
      " \n"
     ]
    },
    {
     "data": {
      "application/vnd.jupyter.widget-view+json": {
       "model_id": "7d29c556f4a44b80b4128a63370873f2",
       "version_major": 2,
       "version_minor": 0
      },
      "text/plain": [
       "HBox(children=(FloatProgress(value=1.0, bar_style='info', max=1.0), HTML(value='')))"
      ]
     },
     "metadata": {},
     "output_type": "display_data"
    },
    {
     "name": "stdout",
     "output_type": "stream",
     "text": [
      "\n",
      "S225 1004.91 min |\n",
      " Train Loss: 0.094717, Acc: 0.982, F: 0.447, Fbeta: 0.492, gbeta: 0.269, geo: 0.364, score: 0.586 |\n",
      " Valid Loss: 0.070623, Acc: 0.986, F: 0.199, Fbeta: 0.207, gbeta: 0.150, geo: 0.176, score: 0.669\n",
      " \n"
     ]
    },
    {
     "data": {
      "application/vnd.jupyter.widget-view+json": {
       "model_id": "a2e09b5ff04f46a097f883d81f706dcd",
       "version_major": 2,
       "version_minor": 0
      },
      "text/plain": [
       "HBox(children=(FloatProgress(value=1.0, bar_style='info', max=1.0), HTML(value='')))"
      ]
     },
     "metadata": {},
     "output_type": "display_data"
    },
    {
     "name": "stdout",
     "output_type": "stream",
     "text": [
      "\n",
      "S226 1009.39 min |\n",
      " Train Loss: 0.094655, Acc: 0.982, F: 0.448, Fbeta: 0.493, gbeta: 0.269, geo: 0.364, score: 0.588 |\n",
      " Valid Loss: 0.070588, Acc: 0.986, F: 0.199, Fbeta: 0.207, gbeta: 0.149, geo: 0.176, score: 0.661\n",
      " \n"
     ]
    },
    {
     "data": {
      "application/vnd.jupyter.widget-view+json": {
       "model_id": "8be511ecefcd4148bfaa387fbed00930",
       "version_major": 2,
       "version_minor": 0
      },
      "text/plain": [
       "HBox(children=(FloatProgress(value=1.0, bar_style='info', max=1.0), HTML(value='')))"
      ]
     },
     "metadata": {},
     "output_type": "display_data"
    },
    {
     "name": "stdout",
     "output_type": "stream",
     "text": [
      "\n",
      "S227 1013.82 min |\n",
      " Train Loss: 0.094593, Acc: 0.982, F: 0.445, Fbeta: 0.490, gbeta: 0.267, geo: 0.362, score: 0.588 |\n",
      " Valid Loss: 0.070554, Acc: 0.986, F: 0.198, Fbeta: 0.206, gbeta: 0.149, geo: 0.175, score: 0.666\n",
      " \n"
     ]
    },
    {
     "data": {
      "application/vnd.jupyter.widget-view+json": {
       "model_id": "8a1748b2898b4777af027c021a82ef35",
       "version_major": 2,
       "version_minor": 0
      },
      "text/plain": [
       "HBox(children=(FloatProgress(value=1.0, bar_style='info', max=1.0), HTML(value='')))"
      ]
     },
     "metadata": {},
     "output_type": "display_data"
    },
    {
     "name": "stdout",
     "output_type": "stream",
     "text": [
      "\n",
      "S228 1018.25 min |\n",
      " Train Loss: 0.094532, Acc: 0.982, F: 0.447, Fbeta: 0.492, gbeta: 0.268, geo: 0.364, score: 0.586 |\n",
      " Valid Loss: 0.070518, Acc: 0.986, F: 0.199, Fbeta: 0.207, gbeta: 0.149, geo: 0.176, score: 0.678\n",
      " \n"
     ]
    },
    {
     "data": {
      "application/vnd.jupyter.widget-view+json": {
       "model_id": "3490c660907946129ad7822302c450f5",
       "version_major": 2,
       "version_minor": 0
      },
      "text/plain": [
       "HBox(children=(FloatProgress(value=1.0, bar_style='info', max=1.0), HTML(value='')))"
      ]
     },
     "metadata": {},
     "output_type": "display_data"
    },
    {
     "name": "stdout",
     "output_type": "stream",
     "text": [
      "\n",
      "S229 1022.67 min |\n",
      " Train Loss: 0.094472, Acc: 0.982, F: 0.446, Fbeta: 0.491, gbeta: 0.268, geo: 0.363, score: 0.588 |\n",
      " Valid Loss: 0.070484, Acc: 0.986, F: 0.235, Fbeta: 0.243, gbeta: 0.186, geo: 0.213, score: 0.665\n",
      " \n"
     ]
    },
    {
     "data": {
      "application/vnd.jupyter.widget-view+json": {
       "model_id": "55de67efa29c4406beea45e992bf42ec",
       "version_major": 2,
       "version_minor": 0
      },
      "text/plain": [
       "HBox(children=(FloatProgress(value=1.0, bar_style='info', max=1.0), HTML(value='')))"
      ]
     },
     "metadata": {},
     "output_type": "display_data"
    },
    {
     "name": "stdout",
     "output_type": "stream",
     "text": [
      "\n",
      "S230 1027.10 min |\n",
      " Train Loss: 0.094412, Acc: 0.982, F: 0.447, Fbeta: 0.493, gbeta: 0.269, geo: 0.364, score: 0.589 |\n",
      " Valid Loss: 0.070448, Acc: 0.986, F: 0.236, Fbeta: 0.244, gbeta: 0.187, geo: 0.214, score: 0.671\n",
      " \n"
     ]
    },
    {
     "data": {
      "application/vnd.jupyter.widget-view+json": {
       "model_id": "7c5b9a8eefd8496394c3bc4c9a216dbb",
       "version_major": 2,
       "version_minor": 0
      },
      "text/plain": [
       "HBox(children=(FloatProgress(value=1.0, bar_style='info', max=1.0), HTML(value='')))"
      ]
     },
     "metadata": {},
     "output_type": "display_data"
    },
    {
     "name": "stdout",
     "output_type": "stream",
     "text": [
      "\n",
      "S231 1031.55 min |\n",
      " Train Loss: 0.094353, Acc: 0.982, F: 0.446, Fbeta: 0.492, gbeta: 0.268, geo: 0.364, score: 0.588 |\n",
      " Valid Loss: 0.070413, Acc: 0.986, F: 0.199, Fbeta: 0.207, gbeta: 0.149, geo: 0.176, score: 0.671\n",
      " \n"
     ]
    },
    {
     "data": {
      "application/vnd.jupyter.widget-view+json": {
       "model_id": "21093b5ab22c4cdda118c7f585972526",
       "version_major": 2,
       "version_minor": 0
      },
      "text/plain": [
       "HBox(children=(FloatProgress(value=1.0, bar_style='info', max=1.0), HTML(value='')))"
      ]
     },
     "metadata": {},
     "output_type": "display_data"
    },
    {
     "name": "stdout",
     "output_type": "stream",
     "text": [
      "\n",
      "S232 1035.97 min |\n",
      " Train Loss: 0.094294, Acc: 0.982, F: 0.446, Fbeta: 0.492, gbeta: 0.268, geo: 0.363, score: 0.585 |\n",
      " Valid Loss: 0.070377, Acc: 0.986, F: 0.273, Fbeta: 0.281, gbeta: 0.224, geo: 0.251, score: 0.672\n",
      " \n"
     ]
    },
    {
     "data": {
      "application/vnd.jupyter.widget-view+json": {
       "model_id": "70b3cceafad745ffbfad5b1fd2660a24",
       "version_major": 2,
       "version_minor": 0
      },
      "text/plain": [
       "HBox(children=(FloatProgress(value=1.0, bar_style='info', max=1.0), HTML(value='')))"
      ]
     },
     "metadata": {},
     "output_type": "display_data"
    },
    {
     "name": "stdout",
     "output_type": "stream",
     "text": [
      "\n",
      "S233 1040.40 min |\n",
      " Train Loss: 0.094236, Acc: 0.982, F: 0.446, Fbeta: 0.492, gbeta: 0.268, geo: 0.363, score: 0.588 |\n",
      " Valid Loss: 0.070342, Acc: 0.986, F: 0.199, Fbeta: 0.207, gbeta: 0.150, geo: 0.176, score: 0.672\n",
      " \n"
     ]
    },
    {
     "data": {
      "application/vnd.jupyter.widget-view+json": {
       "model_id": "0f2b843526da498cb547c51d6e97d56a",
       "version_major": 2,
       "version_minor": 0
      },
      "text/plain": [
       "HBox(children=(FloatProgress(value=1.0, bar_style='info', max=1.0), HTML(value='')))"
      ]
     },
     "metadata": {},
     "output_type": "display_data"
    },
    {
     "name": "stdout",
     "output_type": "stream",
     "text": [
      "\n",
      "S234 1044.88 min |\n",
      " Train Loss: 0.094179, Acc: 0.982, F: 0.445, Fbeta: 0.490, gbeta: 0.267, geo: 0.362, score: 0.585 |\n",
      " Valid Loss: 0.070310, Acc: 0.986, F: 0.199, Fbeta: 0.206, gbeta: 0.149, geo: 0.175, score: 0.662\n",
      " \n"
     ]
    },
    {
     "data": {
      "application/vnd.jupyter.widget-view+json": {
       "model_id": "dca40d0a94264b6dba53cf2781267974",
       "version_major": 2,
       "version_minor": 0
      },
      "text/plain": [
       "HBox(children=(FloatProgress(value=1.0, bar_style='info', max=1.0), HTML(value='')))"
      ]
     },
     "metadata": {},
     "output_type": "display_data"
    },
    {
     "name": "stdout",
     "output_type": "stream",
     "text": [
      "\n",
      "S235 1049.39 min |\n",
      " Train Loss: 0.094122, Acc: 0.982, F: 0.448, Fbeta: 0.493, gbeta: 0.269, geo: 0.364, score: 0.587 |\n",
      " Valid Loss: 0.070276, Acc: 0.986, F: 0.236, Fbeta: 0.244, gbeta: 0.187, geo: 0.213, score: 0.667\n",
      " \n"
     ]
    },
    {
     "data": {
      "application/vnd.jupyter.widget-view+json": {
       "model_id": "7be5d907261645be9749fa7efd15343f",
       "version_major": 2,
       "version_minor": 0
      },
      "text/plain": [
       "HBox(children=(FloatProgress(value=1.0, bar_style='info', max=1.0), HTML(value='')))"
      ]
     },
     "metadata": {},
     "output_type": "display_data"
    },
    {
     "name": "stdout",
     "output_type": "stream",
     "text": [
      "\n",
      "S236 1053.87 min |\n",
      " Train Loss: 0.094065, Acc: 0.982, F: 0.446, Fbeta: 0.492, gbeta: 0.268, geo: 0.363, score: 0.587 |\n",
      " Valid Loss: 0.070244, Acc: 0.986, F: 0.198, Fbeta: 0.207, gbeta: 0.149, geo: 0.176, score: 0.672\n",
      " \n"
     ]
    },
    {
     "data": {
      "application/vnd.jupyter.widget-view+json": {
       "model_id": "ca9c380f72594f50a25fa963e5c0ff65",
       "version_major": 2,
       "version_minor": 0
      },
      "text/plain": [
       "HBox(children=(FloatProgress(value=1.0, bar_style='info', max=1.0), HTML(value='')))"
      ]
     },
     "metadata": {},
     "output_type": "display_data"
    },
    {
     "name": "stdout",
     "output_type": "stream",
     "text": [
      "\n",
      "S237 1058.35 min |\n",
      " Train Loss: 0.094008, Acc: 0.982, F: 0.447, Fbeta: 0.493, gbeta: 0.269, geo: 0.364, score: 0.588 |\n",
      " Valid Loss: 0.070213, Acc: 0.986, F: 0.235, Fbeta: 0.244, gbeta: 0.186, geo: 0.213, score: 0.665\n",
      " \n"
     ]
    },
    {
     "data": {
      "application/vnd.jupyter.widget-view+json": {
       "model_id": "01a7b57fd55b4d5dbc4e8d3d3f6ad916",
       "version_major": 2,
       "version_minor": 0
      },
      "text/plain": [
       "HBox(children=(FloatProgress(value=1.0, bar_style='info', max=1.0), HTML(value='')))"
      ]
     },
     "metadata": {},
     "output_type": "display_data"
    },
    {
     "name": "stdout",
     "output_type": "stream",
     "text": [
      "\n",
      "S238 1062.81 min |\n",
      " Train Loss: 0.093952, Acc: 0.982, F: 0.445, Fbeta: 0.491, gbeta: 0.268, geo: 0.362, score: 0.587 |\n",
      " Valid Loss: 0.070178, Acc: 0.986, F: 0.199, Fbeta: 0.207, gbeta: 0.150, geo: 0.177, score: 0.677\n",
      " \n"
     ]
    },
    {
     "data": {
      "application/vnd.jupyter.widget-view+json": {
       "model_id": "b2dc4f0c860a41c084dbc4e156c1a6e3",
       "version_major": 2,
       "version_minor": 0
      },
      "text/plain": [
       "HBox(children=(FloatProgress(value=1.0, bar_style='info', max=1.0), HTML(value='')))"
      ]
     },
     "metadata": {},
     "output_type": "display_data"
    },
    {
     "name": "stdout",
     "output_type": "stream",
     "text": [
      "\n",
      "S239 1067.27 min |\n",
      " Train Loss: 0.093897, Acc: 0.982, F: 0.446, Fbeta: 0.492, gbeta: 0.268, geo: 0.363, score: 0.586 |\n",
      " Valid Loss: 0.070144, Acc: 0.986, F: 0.199, Fbeta: 0.207, gbeta: 0.150, geo: 0.176, score: 0.673\n",
      " \n"
     ]
    },
    {
     "data": {
      "application/vnd.jupyter.widget-view+json": {
       "model_id": "ba752a2e45bc47c08ac788b3fd4df1eb",
       "version_major": 2,
       "version_minor": 0
      },
      "text/plain": [
       "HBox(children=(FloatProgress(value=1.0, bar_style='info', max=1.0), HTML(value='')))"
      ]
     },
     "metadata": {},
     "output_type": "display_data"
    },
    {
     "name": "stdout",
     "output_type": "stream",
     "text": [
      "\n",
      "S240 1071.74 min |\n",
      " Train Loss: 0.093842, Acc: 0.982, F: 0.447, Fbeta: 0.492, gbeta: 0.268, geo: 0.364, score: 0.587 |\n",
      " Valid Loss: 0.070112, Acc: 0.986, F: 0.199, Fbeta: 0.207, gbeta: 0.150, geo: 0.176, score: 0.676\n",
      " \n"
     ]
    },
    {
     "data": {
      "application/vnd.jupyter.widget-view+json": {
       "model_id": "dbed3f9fe8c94484af09e7a5cc658b12",
       "version_major": 2,
       "version_minor": 0
      },
      "text/plain": [
       "HBox(children=(FloatProgress(value=1.0, bar_style='info', max=1.0), HTML(value='')))"
      ]
     },
     "metadata": {},
     "output_type": "display_data"
    },
    {
     "name": "stdout",
     "output_type": "stream",
     "text": [
      "\n",
      "S241 1076.21 min |\n",
      " Train Loss: 0.093787, Acc: 0.982, F: 0.446, Fbeta: 0.492, gbeta: 0.268, geo: 0.363, score: 0.588 |\n",
      " Valid Loss: 0.070079, Acc: 0.986, F: 0.199, Fbeta: 0.207, gbeta: 0.150, geo: 0.176, score: 0.674\n",
      " \n"
     ]
    },
    {
     "data": {
      "application/vnd.jupyter.widget-view+json": {
       "model_id": "f3073df894d5427cb202dd0e8a7bed9c",
       "version_major": 2,
       "version_minor": 0
      },
      "text/plain": [
       "HBox(children=(FloatProgress(value=1.0, bar_style='info', max=1.0), HTML(value='')))"
      ]
     },
     "metadata": {},
     "output_type": "display_data"
    },
    {
     "name": "stdout",
     "output_type": "stream",
     "text": [
      "\n",
      "S242 1080.70 min |\n",
      " Train Loss: 0.093733, Acc: 0.982, F: 0.448, Fbeta: 0.494, gbeta: 0.270, geo: 0.365, score: 0.587 |\n",
      " Valid Loss: 0.070049, Acc: 0.986, F: 0.198, Fbeta: 0.206, gbeta: 0.149, geo: 0.175, score: 0.676\n",
      " \n"
     ]
    },
    {
     "data": {
      "application/vnd.jupyter.widget-view+json": {
       "model_id": "05b2612d53a241129471f18f462bc5ad",
       "version_major": 2,
       "version_minor": 0
      },
      "text/plain": [
       "HBox(children=(FloatProgress(value=1.0, bar_style='info', max=1.0), HTML(value='')))"
      ]
     },
     "metadata": {},
     "output_type": "display_data"
    },
    {
     "name": "stdout",
     "output_type": "stream",
     "text": [
      "\n",
      "S243 1085.16 min |\n",
      " Train Loss: 0.093679, Acc: 0.982, F: 0.446, Fbeta: 0.491, gbeta: 0.268, geo: 0.363, score: 0.587 |\n",
      " Valid Loss: 0.070017, Acc: 0.986, F: 0.199, Fbeta: 0.207, gbeta: 0.150, geo: 0.176, score: 0.662\n",
      " \n"
     ]
    },
    {
     "data": {
      "application/vnd.jupyter.widget-view+json": {
       "model_id": "b06a312b2175403a9ec23fcc92ad0450",
       "version_major": 2,
       "version_minor": 0
      },
      "text/plain": [
       "HBox(children=(FloatProgress(value=1.0, bar_style='info', max=1.0), HTML(value='')))"
      ]
     },
     "metadata": {},
     "output_type": "display_data"
    },
    {
     "name": "stdout",
     "output_type": "stream",
     "text": [
      "\n",
      "S244 1089.66 min |\n",
      " Train Loss: 0.093626, Acc: 0.982, F: 0.447, Fbeta: 0.493, gbeta: 0.269, geo: 0.364, score: 0.589 |\n",
      " Valid Loss: 0.069985, Acc: 0.986, F: 0.236, Fbeta: 0.244, gbeta: 0.187, geo: 0.214, score: 0.674\n",
      " \n"
     ]
    },
    {
     "data": {
      "application/vnd.jupyter.widget-view+json": {
       "model_id": "0a68fe12994d440582e963e5ad92b914",
       "version_major": 2,
       "version_minor": 0
      },
      "text/plain": [
       "HBox(children=(FloatProgress(value=1.0, bar_style='info', max=1.0), HTML(value='')))"
      ]
     },
     "metadata": {},
     "output_type": "display_data"
    },
    {
     "name": "stdout",
     "output_type": "stream",
     "text": [
      "\n",
      "S245 1094.19 min |\n",
      " Train Loss: 0.093574, Acc: 0.982, F: 0.445, Fbeta: 0.491, gbeta: 0.267, geo: 0.362, score: 0.586 |\n",
      " Valid Loss: 0.069955, Acc: 0.986, F: 0.235, Fbeta: 0.243, gbeta: 0.186, geo: 0.213, score: 0.668\n",
      " \n"
     ]
    },
    {
     "data": {
      "application/vnd.jupyter.widget-view+json": {
       "model_id": "81aaeb2d152e4ecea3ec93677b185758",
       "version_major": 2,
       "version_minor": 0
      },
      "text/plain": [
       "HBox(children=(FloatProgress(value=1.0, bar_style='info', max=1.0), HTML(value='')))"
      ]
     },
     "metadata": {},
     "output_type": "display_data"
    },
    {
     "name": "stdout",
     "output_type": "stream",
     "text": [
      "\n",
      "S246 1098.78 min |\n",
      " Train Loss: 0.093521, Acc: 0.982, F: 0.446, Fbeta: 0.492, gbeta: 0.268, geo: 0.363, score: 0.589 |\n",
      " Valid Loss: 0.069923, Acc: 0.986, F: 0.199, Fbeta: 0.207, gbeta: 0.150, geo: 0.176, score: 0.677\n",
      " \n"
     ]
    },
    {
     "data": {
      "application/vnd.jupyter.widget-view+json": {
       "model_id": "19b88e7a08d1451fb8d49aa0401b3fcf",
       "version_major": 2,
       "version_minor": 0
      },
      "text/plain": [
       "HBox(children=(FloatProgress(value=1.0, bar_style='info', max=1.0), HTML(value='')))"
      ]
     },
     "metadata": {},
     "output_type": "display_data"
    },
    {
     "name": "stdout",
     "output_type": "stream",
     "text": [
      "\n",
      "S247 1103.35 min |\n",
      " Train Loss: 0.093469, Acc: 0.982, F: 0.446, Fbeta: 0.491, gbeta: 0.268, geo: 0.363, score: 0.586 |\n",
      " Valid Loss: 0.069893, Acc: 0.986, F: 0.199, Fbeta: 0.207, gbeta: 0.150, geo: 0.176, score: 0.672\n",
      " \n"
     ]
    },
    {
     "data": {
      "application/vnd.jupyter.widget-view+json": {
       "model_id": "81d20d1f75484aca9c05fba562d6efc5",
       "version_major": 2,
       "version_minor": 0
      },
      "text/plain": [
       "HBox(children=(FloatProgress(value=1.0, bar_style='info', max=1.0), HTML(value='')))"
      ]
     },
     "metadata": {},
     "output_type": "display_data"
    },
    {
     "name": "stdout",
     "output_type": "stream",
     "text": [
      "\n",
      "S248 1107.90 min |\n",
      " Train Loss: 0.093418, Acc: 0.982, F: 0.446, Fbeta: 0.491, gbeta: 0.268, geo: 0.363, score: 0.586 |\n",
      " Valid Loss: 0.069861, Acc: 0.986, F: 0.200, Fbeta: 0.207, gbeta: 0.150, geo: 0.177, score: 0.663\n",
      " \n"
     ]
    },
    {
     "data": {
      "application/vnd.jupyter.widget-view+json": {
       "model_id": "abdad226c20b41c1992009569ae26f58",
       "version_major": 2,
       "version_minor": 0
      },
      "text/plain": [
       "HBox(children=(FloatProgress(value=1.0, bar_style='info', max=1.0), HTML(value='')))"
      ]
     },
     "metadata": {},
     "output_type": "display_data"
    },
    {
     "name": "stdout",
     "output_type": "stream",
     "text": [
      "\n",
      "S249 1112.37 min |\n",
      " Train Loss: 0.093367, Acc: 0.982, F: 0.448, Fbeta: 0.493, gbeta: 0.269, geo: 0.364, score: 0.587 |\n",
      " Valid Loss: 0.069832, Acc: 0.986, F: 0.162, Fbeta: 0.170, gbeta: 0.112, geo: 0.138, score: 0.665\n",
      " \n"
     ]
    },
    {
     "data": {
      "application/vnd.jupyter.widget-view+json": {
       "model_id": "81bfc26dadfc4d7f9921b06083136b87",
       "version_major": 2,
       "version_minor": 0
      },
      "text/plain": [
       "HBox(children=(FloatProgress(value=1.0, bar_style='info', max=1.0), HTML(value='')))"
      ]
     },
     "metadata": {},
     "output_type": "display_data"
    },
    {
     "ename": "KeyboardInterrupt",
     "evalue": "",
     "output_type": "error",
     "traceback": [
      "\u001b[0;31m---------------------------------------------------------------------------\u001b[0m",
      "\u001b[0;31mKeyboardInterrupt\u001b[0m                         Traceback (most recent call last)",
      "\u001b[0;32m<ipython-input-46-e318cf036fb5>\u001b[0m in \u001b[0;36m<module>\u001b[0;34m\u001b[0m\n\u001b[1;32m      9\u001b[0m     \u001b[0my_trains\u001b[0m \u001b[0;34m=\u001b[0m \u001b[0;34m[\u001b[0m\u001b[0;34m]\u001b[0m \u001b[0;31m# ground truth\u001b[0m\u001b[0;34m\u001b[0m\u001b[0;34m\u001b[0m\u001b[0m\n\u001b[1;32m     10\u001b[0m     \u001b[0moutput_trains\u001b[0m \u001b[0;34m=\u001b[0m \u001b[0;34m[\u001b[0m\u001b[0;34m]\u001b[0m \u001b[0;31m# output\u001b[0m\u001b[0;34m\u001b[0m\u001b[0;34m\u001b[0m\u001b[0m\n\u001b[0;32m---> 11\u001b[0;31m     \u001b[0;32mfor\u001b[0m \u001b[0mk\u001b[0m\u001b[0;34m,\u001b[0m \u001b[0;34m(\u001b[0m\u001b[0mX_train\u001b[0m\u001b[0;34m,\u001b[0m \u001b[0my_train\u001b[0m\u001b[0;34m)\u001b[0m \u001b[0;32min\u001b[0m \u001b[0mtqdm\u001b[0m\u001b[0;34m(\u001b[0m\u001b[0menumerate\u001b[0m\u001b[0;34m(\u001b[0m\u001b[0mtrainLoader\u001b[0m\u001b[0;34m)\u001b[0m\u001b[0;34m)\u001b[0m\u001b[0;34m:\u001b[0m\u001b[0;34m\u001b[0m\u001b[0;34m\u001b[0m\u001b[0m\n\u001b[0m\u001b[1;32m     12\u001b[0m         \u001b[0my_train\u001b[0m \u001b[0;34m=\u001b[0m \u001b[0my_train\u001b[0m\u001b[0;34m.\u001b[0m\u001b[0mto\u001b[0m\u001b[0;34m(\u001b[0m\u001b[0mdevice\u001b[0m\u001b[0;34m)\u001b[0m\u001b[0;34m\u001b[0m\u001b[0;34m\u001b[0m\u001b[0m\n\u001b[1;32m     13\u001b[0m         \u001b[0mX_train\u001b[0m \u001b[0;34m=\u001b[0m \u001b[0mX_train\u001b[0m\u001b[0;34m.\u001b[0m\u001b[0mto\u001b[0m\u001b[0;34m(\u001b[0m\u001b[0mdevice\u001b[0m\u001b[0;34m)\u001b[0m\u001b[0;34m\u001b[0m\u001b[0;34m\u001b[0m\u001b[0m\n",
      "\u001b[0;32m~/anaconda3/envs/physioNet/lib/python3.6/site-packages/tqdm/notebook.py\u001b[0m in \u001b[0;36m__iter__\u001b[0;34m(self, *args, **kwargs)\u001b[0m\n\u001b[1;32m    216\u001b[0m     \u001b[0;32mdef\u001b[0m \u001b[0m__iter__\u001b[0m\u001b[0;34m(\u001b[0m\u001b[0mself\u001b[0m\u001b[0;34m,\u001b[0m \u001b[0;34m*\u001b[0m\u001b[0margs\u001b[0m\u001b[0;34m,\u001b[0m \u001b[0;34m**\u001b[0m\u001b[0mkwargs\u001b[0m\u001b[0;34m)\u001b[0m\u001b[0;34m:\u001b[0m\u001b[0;34m\u001b[0m\u001b[0;34m\u001b[0m\u001b[0m\n\u001b[1;32m    217\u001b[0m         \u001b[0;32mtry\u001b[0m\u001b[0;34m:\u001b[0m\u001b[0;34m\u001b[0m\u001b[0;34m\u001b[0m\u001b[0m\n\u001b[0;32m--> 218\u001b[0;31m             \u001b[0;32mfor\u001b[0m \u001b[0mobj\u001b[0m \u001b[0;32min\u001b[0m \u001b[0msuper\u001b[0m\u001b[0;34m(\u001b[0m\u001b[0mtqdm_notebook\u001b[0m\u001b[0;34m,\u001b[0m \u001b[0mself\u001b[0m\u001b[0;34m)\u001b[0m\u001b[0;34m.\u001b[0m\u001b[0m__iter__\u001b[0m\u001b[0;34m(\u001b[0m\u001b[0;34m*\u001b[0m\u001b[0margs\u001b[0m\u001b[0;34m,\u001b[0m \u001b[0;34m**\u001b[0m\u001b[0mkwargs\u001b[0m\u001b[0;34m)\u001b[0m\u001b[0;34m:\u001b[0m\u001b[0;34m\u001b[0m\u001b[0;34m\u001b[0m\u001b[0m\n\u001b[0m\u001b[1;32m    219\u001b[0m                 \u001b[0;31m# return super(tqdm...) will not catch exception\u001b[0m\u001b[0;34m\u001b[0m\u001b[0;34m\u001b[0m\u001b[0;34m\u001b[0m\u001b[0m\n\u001b[1;32m    220\u001b[0m                 \u001b[0;32myield\u001b[0m \u001b[0mobj\u001b[0m\u001b[0;34m\u001b[0m\u001b[0;34m\u001b[0m\u001b[0m\n",
      "\u001b[0;32m~/anaconda3/envs/physioNet/lib/python3.6/site-packages/tqdm/std.py\u001b[0m in \u001b[0;36m__iter__\u001b[0;34m(self)\u001b[0m\n\u001b[1;32m   1117\u001b[0m                 fp_write=getattr(self.fp, 'write', sys.stderr.write))\n\u001b[1;32m   1118\u001b[0m \u001b[0;34m\u001b[0m\u001b[0m\n\u001b[0;32m-> 1119\u001b[0;31m         \u001b[0;32mfor\u001b[0m \u001b[0mobj\u001b[0m \u001b[0;32min\u001b[0m \u001b[0miterable\u001b[0m\u001b[0;34m:\u001b[0m\u001b[0;34m\u001b[0m\u001b[0;34m\u001b[0m\u001b[0m\n\u001b[0m\u001b[1;32m   1120\u001b[0m             \u001b[0;32myield\u001b[0m \u001b[0mobj\u001b[0m\u001b[0;34m\u001b[0m\u001b[0;34m\u001b[0m\u001b[0m\n\u001b[1;32m   1121\u001b[0m             \u001b[0;31m# Update and possibly print the progressbar.\u001b[0m\u001b[0;34m\u001b[0m\u001b[0;34m\u001b[0m\u001b[0;34m\u001b[0m\u001b[0m\n",
      "\u001b[0;32m~/anaconda3/envs/physioNet/lib/python3.6/site-packages/torch/utils/data/dataloader.py\u001b[0m in \u001b[0;36m__next__\u001b[0;34m(self)\u001b[0m\n\u001b[1;32m    343\u001b[0m \u001b[0;34m\u001b[0m\u001b[0m\n\u001b[1;32m    344\u001b[0m     \u001b[0;32mdef\u001b[0m \u001b[0m__next__\u001b[0m\u001b[0;34m(\u001b[0m\u001b[0mself\u001b[0m\u001b[0;34m)\u001b[0m\u001b[0;34m:\u001b[0m\u001b[0;34m\u001b[0m\u001b[0;34m\u001b[0m\u001b[0m\n\u001b[0;32m--> 345\u001b[0;31m         \u001b[0mdata\u001b[0m \u001b[0;34m=\u001b[0m \u001b[0mself\u001b[0m\u001b[0;34m.\u001b[0m\u001b[0m_next_data\u001b[0m\u001b[0;34m(\u001b[0m\u001b[0;34m)\u001b[0m\u001b[0;34m\u001b[0m\u001b[0;34m\u001b[0m\u001b[0m\n\u001b[0m\u001b[1;32m    346\u001b[0m         \u001b[0mself\u001b[0m\u001b[0;34m.\u001b[0m\u001b[0m_num_yielded\u001b[0m \u001b[0;34m+=\u001b[0m \u001b[0;36m1\u001b[0m\u001b[0;34m\u001b[0m\u001b[0;34m\u001b[0m\u001b[0m\n\u001b[1;32m    347\u001b[0m         \u001b[0;32mif\u001b[0m \u001b[0mself\u001b[0m\u001b[0;34m.\u001b[0m\u001b[0m_dataset_kind\u001b[0m \u001b[0;34m==\u001b[0m \u001b[0m_DatasetKind\u001b[0m\u001b[0;34m.\u001b[0m\u001b[0mIterable\u001b[0m \u001b[0;32mand\u001b[0m\u001b[0;31m \u001b[0m\u001b[0;31m\\\u001b[0m\u001b[0;34m\u001b[0m\u001b[0;34m\u001b[0m\u001b[0m\n",
      "\u001b[0;32m~/anaconda3/envs/physioNet/lib/python3.6/site-packages/torch/utils/data/dataloader.py\u001b[0m in \u001b[0;36m_next_data\u001b[0;34m(self)\u001b[0m\n\u001b[1;32m    383\u001b[0m     \u001b[0;32mdef\u001b[0m \u001b[0m_next_data\u001b[0m\u001b[0;34m(\u001b[0m\u001b[0mself\u001b[0m\u001b[0;34m)\u001b[0m\u001b[0;34m:\u001b[0m\u001b[0;34m\u001b[0m\u001b[0;34m\u001b[0m\u001b[0m\n\u001b[1;32m    384\u001b[0m         \u001b[0mindex\u001b[0m \u001b[0;34m=\u001b[0m \u001b[0mself\u001b[0m\u001b[0;34m.\u001b[0m\u001b[0m_next_index\u001b[0m\u001b[0;34m(\u001b[0m\u001b[0;34m)\u001b[0m  \u001b[0;31m# may raise StopIteration\u001b[0m\u001b[0;34m\u001b[0m\u001b[0;34m\u001b[0m\u001b[0m\n\u001b[0;32m--> 385\u001b[0;31m         \u001b[0mdata\u001b[0m \u001b[0;34m=\u001b[0m \u001b[0mself\u001b[0m\u001b[0;34m.\u001b[0m\u001b[0m_dataset_fetcher\u001b[0m\u001b[0;34m.\u001b[0m\u001b[0mfetch\u001b[0m\u001b[0;34m(\u001b[0m\u001b[0mindex\u001b[0m\u001b[0;34m)\u001b[0m  \u001b[0;31m# may raise StopIteration\u001b[0m\u001b[0;34m\u001b[0m\u001b[0;34m\u001b[0m\u001b[0m\n\u001b[0m\u001b[1;32m    386\u001b[0m         \u001b[0;32mif\u001b[0m \u001b[0mself\u001b[0m\u001b[0;34m.\u001b[0m\u001b[0m_pin_memory\u001b[0m\u001b[0;34m:\u001b[0m\u001b[0;34m\u001b[0m\u001b[0;34m\u001b[0m\u001b[0m\n\u001b[1;32m    387\u001b[0m             \u001b[0mdata\u001b[0m \u001b[0;34m=\u001b[0m \u001b[0m_utils\u001b[0m\u001b[0;34m.\u001b[0m\u001b[0mpin_memory\u001b[0m\u001b[0;34m.\u001b[0m\u001b[0mpin_memory\u001b[0m\u001b[0;34m(\u001b[0m\u001b[0mdata\u001b[0m\u001b[0;34m)\u001b[0m\u001b[0;34m\u001b[0m\u001b[0;34m\u001b[0m\u001b[0m\n",
      "\u001b[0;32m~/anaconda3/envs/physioNet/lib/python3.6/site-packages/torch/utils/data/_utils/fetch.py\u001b[0m in \u001b[0;36mfetch\u001b[0;34m(self, possibly_batched_index)\u001b[0m\n\u001b[1;32m     42\u001b[0m     \u001b[0;32mdef\u001b[0m \u001b[0mfetch\u001b[0m\u001b[0;34m(\u001b[0m\u001b[0mself\u001b[0m\u001b[0;34m,\u001b[0m \u001b[0mpossibly_batched_index\u001b[0m\u001b[0;34m)\u001b[0m\u001b[0;34m:\u001b[0m\u001b[0;34m\u001b[0m\u001b[0;34m\u001b[0m\u001b[0m\n\u001b[1;32m     43\u001b[0m         \u001b[0;32mif\u001b[0m \u001b[0mself\u001b[0m\u001b[0;34m.\u001b[0m\u001b[0mauto_collation\u001b[0m\u001b[0;34m:\u001b[0m\u001b[0;34m\u001b[0m\u001b[0;34m\u001b[0m\u001b[0m\n\u001b[0;32m---> 44\u001b[0;31m             \u001b[0mdata\u001b[0m \u001b[0;34m=\u001b[0m \u001b[0;34m[\u001b[0m\u001b[0mself\u001b[0m\u001b[0;34m.\u001b[0m\u001b[0mdataset\u001b[0m\u001b[0;34m[\u001b[0m\u001b[0midx\u001b[0m\u001b[0;34m]\u001b[0m \u001b[0;32mfor\u001b[0m \u001b[0midx\u001b[0m \u001b[0;32min\u001b[0m \u001b[0mpossibly_batched_index\u001b[0m\u001b[0;34m]\u001b[0m\u001b[0;34m\u001b[0m\u001b[0;34m\u001b[0m\u001b[0m\n\u001b[0m\u001b[1;32m     45\u001b[0m         \u001b[0;32melse\u001b[0m\u001b[0;34m:\u001b[0m\u001b[0;34m\u001b[0m\u001b[0;34m\u001b[0m\u001b[0m\n\u001b[1;32m     46\u001b[0m             \u001b[0mdata\u001b[0m \u001b[0;34m=\u001b[0m \u001b[0mself\u001b[0m\u001b[0;34m.\u001b[0m\u001b[0mdataset\u001b[0m\u001b[0;34m[\u001b[0m\u001b[0mpossibly_batched_index\u001b[0m\u001b[0;34m]\u001b[0m\u001b[0;34m\u001b[0m\u001b[0;34m\u001b[0m\u001b[0m\n",
      "\u001b[0;32m~/anaconda3/envs/physioNet/lib/python3.6/site-packages/torch/utils/data/_utils/fetch.py\u001b[0m in \u001b[0;36m<listcomp>\u001b[0;34m(.0)\u001b[0m\n\u001b[1;32m     42\u001b[0m     \u001b[0;32mdef\u001b[0m \u001b[0mfetch\u001b[0m\u001b[0;34m(\u001b[0m\u001b[0mself\u001b[0m\u001b[0;34m,\u001b[0m \u001b[0mpossibly_batched_index\u001b[0m\u001b[0;34m)\u001b[0m\u001b[0;34m:\u001b[0m\u001b[0;34m\u001b[0m\u001b[0;34m\u001b[0m\u001b[0m\n\u001b[1;32m     43\u001b[0m         \u001b[0;32mif\u001b[0m \u001b[0mself\u001b[0m\u001b[0;34m.\u001b[0m\u001b[0mauto_collation\u001b[0m\u001b[0;34m:\u001b[0m\u001b[0;34m\u001b[0m\u001b[0;34m\u001b[0m\u001b[0m\n\u001b[0;32m---> 44\u001b[0;31m             \u001b[0mdata\u001b[0m \u001b[0;34m=\u001b[0m \u001b[0;34m[\u001b[0m\u001b[0mself\u001b[0m\u001b[0;34m.\u001b[0m\u001b[0mdataset\u001b[0m\u001b[0;34m[\u001b[0m\u001b[0midx\u001b[0m\u001b[0;34m]\u001b[0m \u001b[0;32mfor\u001b[0m \u001b[0midx\u001b[0m \u001b[0;32min\u001b[0m \u001b[0mpossibly_batched_index\u001b[0m\u001b[0;34m]\u001b[0m\u001b[0;34m\u001b[0m\u001b[0;34m\u001b[0m\u001b[0m\n\u001b[0m\u001b[1;32m     45\u001b[0m         \u001b[0;32melse\u001b[0m\u001b[0;34m:\u001b[0m\u001b[0;34m\u001b[0m\u001b[0;34m\u001b[0m\u001b[0m\n\u001b[1;32m     46\u001b[0m             \u001b[0mdata\u001b[0m \u001b[0;34m=\u001b[0m \u001b[0mself\u001b[0m\u001b[0;34m.\u001b[0m\u001b[0mdataset\u001b[0m\u001b[0;34m[\u001b[0m\u001b[0mpossibly_batched_index\u001b[0m\u001b[0;34m]\u001b[0m\u001b[0;34m\u001b[0m\u001b[0;34m\u001b[0m\u001b[0m\n",
      "\u001b[0;32m~/anaconda3/envs/physioNet/lib/python3.6/site-packages/torch/utils/data/dataset.py\u001b[0m in \u001b[0;36m__getitem__\u001b[0;34m(self, idx)\u001b[0m\n\u001b[1;32m    255\u001b[0m \u001b[0;34m\u001b[0m\u001b[0m\n\u001b[1;32m    256\u001b[0m     \u001b[0;32mdef\u001b[0m \u001b[0m__getitem__\u001b[0m\u001b[0;34m(\u001b[0m\u001b[0mself\u001b[0m\u001b[0;34m,\u001b[0m \u001b[0midx\u001b[0m\u001b[0;34m)\u001b[0m\u001b[0;34m:\u001b[0m\u001b[0;34m\u001b[0m\u001b[0;34m\u001b[0m\u001b[0m\n\u001b[0;32m--> 257\u001b[0;31m         \u001b[0;32mreturn\u001b[0m \u001b[0mself\u001b[0m\u001b[0;34m.\u001b[0m\u001b[0mdataset\u001b[0m\u001b[0;34m[\u001b[0m\u001b[0mself\u001b[0m\u001b[0;34m.\u001b[0m\u001b[0mindices\u001b[0m\u001b[0;34m[\u001b[0m\u001b[0midx\u001b[0m\u001b[0;34m]\u001b[0m\u001b[0;34m]\u001b[0m\u001b[0;34m\u001b[0m\u001b[0;34m\u001b[0m\u001b[0m\n\u001b[0m\u001b[1;32m    258\u001b[0m \u001b[0;34m\u001b[0m\u001b[0m\n\u001b[1;32m    259\u001b[0m     \u001b[0;32mdef\u001b[0m \u001b[0m__len__\u001b[0m\u001b[0;34m(\u001b[0m\u001b[0mself\u001b[0m\u001b[0;34m)\u001b[0m\u001b[0;34m:\u001b[0m\u001b[0;34m\u001b[0m\u001b[0;34m\u001b[0m\u001b[0m\n",
      "\u001b[0;32m<ipython-input-30-42ac36ef87a7>\u001b[0m in \u001b[0;36m__getitem__\u001b[0;34m(self, idx)\u001b[0m\n\u001b[1;32m     15\u001b[0m         \u001b[0;32mif\u001b[0m \u001b[0mtorch\u001b[0m\u001b[0;34m.\u001b[0m\u001b[0mis_tensor\u001b[0m\u001b[0;34m(\u001b[0m\u001b[0midx\u001b[0m\u001b[0;34m)\u001b[0m\u001b[0;34m:\u001b[0m\u001b[0;34m\u001b[0m\u001b[0;34m\u001b[0m\u001b[0m\n\u001b[1;32m     16\u001b[0m             \u001b[0midx\u001b[0m \u001b[0;34m=\u001b[0m \u001b[0midx\u001b[0m\u001b[0;34m.\u001b[0m\u001b[0mtolist\u001b[0m\u001b[0;34m(\u001b[0m\u001b[0;34m)\u001b[0m\u001b[0;34m\u001b[0m\u001b[0;34m\u001b[0m\u001b[0m\n\u001b[0;32m---> 17\u001b[0;31m         sample =(torch.cat([torch.Tensor(np.array([self.signals[channel,idx]]).transpose()) for channel in range(12)], axis=1), \n\u001b[0m\u001b[1;32m     18\u001b[0m                   torch.Tensor(self.labels[idx]))\n\u001b[1;32m     19\u001b[0m \u001b[0;34m\u001b[0m\u001b[0m\n",
      "\u001b[0;31mKeyboardInterrupt\u001b[0m: "
     ]
    }
   ],
   "source": [
    "y_trains_tensor = None\n",
    "y_tests_tensor = None\n",
    "for epoch in range(59, 5000):\n",
    "\n",
    "    model.train()\n",
    "\n",
    "    running_loss_train = 0.0\n",
    "\n",
    "    y_trains = [] # ground truth\n",
    "    output_trains = [] # output\n",
    "    for k, (X_train, y_train) in tqdm(enumerate(trainLoader)):\n",
    "        y_train = y_train.to(device)\n",
    "        X_train = X_train.to(device)\n",
    "        optimizer.zero_grad()\n",
    "        output_train = model(X_train)\n",
    "        output_trains.append(output_train.cpu())\n",
    "        \n",
    "        loss_train = criterion_train(output_train, y_train)\n",
    "        losses_train.append(loss_train.item())\n",
    "        \n",
    "        avg_loss_train = np.average(losses_train)\n",
    "        avg_losses_train.append(avg_loss_train)\n",
    "    \n",
    "        \n",
    "        \n",
    "        if np.mod(k, 100) == 0:\n",
    "            writer.add_scalar('training loss',\n",
    "            avg_loss_train,\n",
    "            epoch * (len(Data_labels_train)//batch_size//100+1) + k//100)\n",
    "        \n",
    "        y_trains.append(y_train.cpu())\n",
    "            \n",
    "        loss_train.backward()\n",
    "        optimizer.step()\n",
    "            \n",
    "    scheduler.step()\n",
    "\n",
    "    y_tests = [] # ground truth\n",
    "    output_tests = [] # output\n",
    "    with torch.no_grad():\n",
    "        model.eval()\n",
    "        \n",
    "        for X_test, y_test in testLoader:  \n",
    "            y_test = y_test.to(device)\n",
    "            X_test = X_test.to(device)\n",
    "            output_test = model(X_test)\n",
    "\n",
    "            loss_test = criterion_test(output_test, y_test)\n",
    "            losses_test.append(loss_test.item())\n",
    "\n",
    "            output_tests.append(output_test.cpu())\n",
    "            y_tests.append(y_test.cpu())\n",
    "\n",
    "        avg_loss_test = np.average(losses_test)\n",
    "        avg_losses_test.append(avg_loss_test)\n",
    "\n",
    "        writer.add_scalar('testing loss',\n",
    "                avg_loss_test,\n",
    "                epoch* (len(Data_labels_test)//batch_size+1))\n",
    "\n",
    "\n",
    "\n",
    "    y_trains_tensor = torch.cat(y_trains, axis=0) # ground truth\n",
    "    y_tests_tensor = torch.cat(y_tests, axis=0) # ground truth\n",
    "\n",
    "    output_trains = torch.cat(output_trains, axis=0) \n",
    "    y_train_preds = torch.sigmoid(output_trains)\n",
    "\n",
    "    output_tests = torch.cat(output_tests, axis=0)\n",
    "    y_test_preds = torch.sigmoid(output_tests)\n",
    "\n",
    "    #output_trains = torch.cat(output_trains, axis=0)\n",
    "#     y_train_preds_max, y_train_preds_mean, _ = agg_y_preds_bags(y_train_preds, bag_size=n_segments)\n",
    "#     y_test_preds_max, y_test_preds_mean, _ = agg_y_preds_bags(y_test_preds, bag_size=n_segments)\n",
    "#     _, _, y_trains = agg_y_preds_bags(y_trains, bag_size=n_segments)\n",
    "#     _, _, y_tests = agg_y_preds_bags(y_tests, bag_size=n_segments)\n",
    "\n",
    "\n",
    "    for class_idx in range(N_CLASS):\n",
    "        add_pr_curve_tensorboard(class_idx, y_trains_tensor, y_train_preds, names, global_step=epoch, prefix='train')\n",
    "        add_pr_curve_tensorboard(class_idx, y_tests_tensor, y_test_preds, names, global_step=epoch, prefix='test')\n",
    "\n",
    "\n",
    "\n",
    "    acc, fmeasure, fbeta, gbeta = binary_acc(y_train_preds, y_trains_tensor)           \n",
    "    acc2, fmeasure2, fbeta2, gbeta2 = binary_acc(y_test_preds, y_tests_tensor)\n",
    "    geometry = geometry_loss(fbeta, gbeta)\n",
    "    geometry2 = geometry_loss(fbeta2, gbeta2)\n",
    "    \n",
    "#     output_str = 'S{} {:.2f} min |\\n Train Loss: {:.6f}, Acc: {:.3f}, F: {:.3f}, Fbeta: {:.3f}, gbeta: {:.3f}, geo: {:.3f}, score: {:.3f} |\\n Valid Loss: {:.6f}, Acc: {:.3f}, F: {:.3f}, Fbeta: {:.3f}, gbeta: {:.3f}, geo: {:.3f}, score: {:.3f}\\n '.format(\n",
    "#         epoch, (time.time()-st)/60,\n",
    "#         avg_loss_train, acc, fmeasure, fbeta, gbeta, geometry, np.nan,\n",
    "#         avg_loss_test, acc2, fmeasure2, fbeta2, gbeta2, geometry2, np.nan)\n",
    "#     print(output_str)\n",
    "    score = compute_score(np.round(y_train_preds.data.numpy()), np.round(y_trains_tensor.data.numpy()), weights)\n",
    "    score2 = compute_score(np.round(y_test_preds.data.numpy()), np.round(y_tests_tensor.data.numpy()), weights)\n",
    "    output_str = 'S{} {:.2f} min |\\n Train Loss: {:.6f}, Acc: {:.3f}, F: {:.3f}, Fbeta: {:.3f}, gbeta: {:.3f}, geo: {:.3f}, score: {:.3f} |\\n Valid Loss: {:.6f}, Acc: {:.3f}, F: {:.3f}, Fbeta: {:.3f}, gbeta: {:.3f}, geo: {:.3f}, score: {:.3f}\\n '.format(\n",
    "        epoch, (time.time()-st)/60,\n",
    "        avg_loss_train, acc, fmeasure, fbeta, gbeta, geometry, score,\n",
    "        avg_loss_test, acc2, fmeasure2, fbeta2, gbeta2, geometry2, score2)\n",
    "    \n",
    "    print(output_str)\n",
    "\n",
    "    with open(saved_dir+'loss_{}.txt'.format(run_name), 'a') as f:\n",
    "        print(output_str, file=f)\n",
    "\n",
    "    early_stopping(avg_loss_test, model)\n",
    "\n",
    "    if early_stopping.early_stop:\n",
    "        print(\"Early stopping\")\n",
    "        break\n",
    "\n",
    "\n",
    "#     output_string = 'AUROC|AUPRC|Accuracy|F-measure|Fbeta-measure|Gbeta-measure|Geomotry\\n{:.3f}|{:.3f}|{:.3f}|{:.3f}|{:.3f}|{:.3f}|{:.3f}'.format(auroc2,auprc2,acc2,fmeasure2,fbeta2,gbeta2,geometry2)\n",
    "#     print(output_string)     \n",
    "#     with open(saved_dir+'score'+ str(i)+ '_epoch' + str(epoch) + '.txt', 'w') as f:\n",
    "#         f.write(output_string)\n",
    "\n",
    "#     avg_losses_train = np.array(avg_losses_train)\n",
    "#     avg_losses_test = np.array(avg_losses_test)\n",
    "\n",
    "#     np.save(saved_dir + 'avg_losses_train' + str(i) + '_epoch' + str(epoch), avg_losses_train)\n",
    "#     np.save(saved_dir + 'avg_losses_test' + str(i) + '_epoch' + str(epoch), avg_losses_test)\n"
   ]
  },
  {
   "cell_type": "code",
   "execution_count": null,
   "metadata": {},
   "outputs": [],
   "source": [
    "from sklearn.metrics import multilabel_confusion_matrix, confusion_matrix\n",
    "from global_vars import labels\n",
    "\n",
    "cf_matrices = multilabel_confusion_matrix(y_trains_tensor.data.numpy(), np.round(y_train_preds.data.numpy()))"
   ]
  },
  {
   "cell_type": "code",
   "execution_count": null,
   "metadata": {},
   "outputs": [],
   "source": [
    "for label, cf_matrix in zip(labels, cf_matrices):\n",
    "    print(get_name(label, Dx_map, Dx_map_unscored))\n",
    "    print(cf_matrix)\n",
    "    print('\\n')\n"
   ]
  },
  {
   "cell_type": "code",
   "execution_count": null,
   "metadata": {},
   "outputs": [],
   "source": [
    "y_trains_tensor.data.numpy()"
   ]
  }
 ],
 "metadata": {
  "kernelspec": {
   "display_name": "Python 3.6 (physioNet)",
   "language": "python",
   "name": "physionet"
  },
  "language_info": {
   "codemirror_mode": {
    "name": "ipython",
    "version": 3
   },
   "file_extension": ".py",
   "mimetype": "text/x-python",
   "name": "python",
   "nbconvert_exporter": "python",
   "pygments_lexer": "ipython3",
   "version": "3.6.10"
  }
 },
 "nbformat": 4,
 "nbformat_minor": 4
}
